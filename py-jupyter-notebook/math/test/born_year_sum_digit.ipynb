{
 "cells": [
  {
   "cell_type": "markdown",
   "id": "d4e69cf6",
   "metadata": {},
   "source": [
    "# born_year_sum_digit\n",
    "Tes III.3: Logika Angka "
   ]
  },
  {
   "cell_type": "markdown",
   "id": "164cf672",
   "metadata": {},
   "source": [
    "## example\n",
    "Pada tanggal 15 Februari 2015, Andika merayakan ulang tahun. Ternyata usia Andika pada tanggal tersebut sama dengan jumlah penjumlahan dari digit tahun lahirnya. Pada tahun berapakah Andika lahir...\\\n",
    "A.\t1991 \\\n",
    "B.\t1995 \\\n",
    "C.\t1993 \\\n",
    "D.\t1992 \\\n",
    "E.\t1997"
   ]
  },
  {
   "cell_type": "code",
   "execution_count": 1,
   "id": "ec180b10",
   "metadata": {},
   "outputs": [],
   "source": [
    "# sum of four-digit year string\n",
    "def sumy(x):\n",
    "    s = 0\n",
    "    for i in x:\n",
    "        s += int(i)\n",
    "    return s"
   ]
  },
  {
   "cell_type": "code",
   "execution_count": 2,
   "id": "7dfb372a",
   "metadata": {},
   "outputs": [],
   "source": [
    "# create four-digit year string\n",
    "def year(x):\n",
    "    y = 0\n",
    "    j = 0\n",
    "    for i in reversed(x):\n",
    "        y += int(i) * pow(10, j)\n",
    "        j += 1\n",
    "    return y"
   ]
  },
  {
   "cell_type": "code",
   "execution_count": 3,
   "id": "8ff36820",
   "metadata": {},
   "outputs": [],
   "source": [
    "# create a list of four-digit year string\n",
    "born = []\n",
    "for i in range(1990, 2001):\n",
    "    y = f'{i:d}'\n",
    "    born.append(y)"
   ]
  },
  {
   "cell_type": "code",
   "execution_count": 4,
   "id": "c985ea17",
   "metadata": {},
   "outputs": [
    {
     "name": "stdout",
     "output_type": "stream",
     "text": [
      "1990 25 19\n",
      "1991 24 20\n",
      "1992 23 21\n",
      "1993 22 22 <-- answer\n",
      "1994 21 23\n",
      "1995 20 24\n",
      "1996 19 25\n",
      "1997 18 26\n",
      "1998 17 27\n",
      "1999 16 28\n",
      "2000 15 2\n"
     ]
    }
   ],
   "source": [
    "# search for a match condition\n",
    "now = '2015'\n",
    "for i in born:\n",
    "    diff = year(now) - year(i)\n",
    "    digy = sumy(i)\n",
    "    print(i, diff, digy, end='')\n",
    "    if diff == digy:\n",
    "        print(\" <-- answer\")\n",
    "    else:\n",
    "        print()\n",
    "    "
   ]
  },
  {
   "cell_type": "markdown",
   "id": "8cf63688",
   "metadata": {},
   "source": [
    "C. 1993"
   ]
  },
  {
   "cell_type": "markdown",
   "id": "3c8fd715",
   "metadata": {},
   "source": [
    "## new"
   ]
  },
  {
   "cell_type": "code",
   "execution_count": 5,
   "id": "28dcb19f",
   "metadata": {},
   "outputs": [
    {
     "name": "stdout",
     "output_type": "stream",
     "text": [
      "1990 31 19\n",
      "1991 30 20\n",
      "1992 29 21\n",
      "1993 28 22\n",
      "1994 27 23\n",
      "1995 26 24\n",
      "1996 25 25 <-- answer\n",
      "1997 24 26\n",
      "1998 23 27\n",
      "1999 22 28\n",
      "2000 21 2\n"
     ]
    }
   ],
   "source": [
    "# search for a match condition\n",
    "now = '2021'\n",
    "for i in born:\n",
    "    diff = year(now) - year(i)\n",
    "    digy = sumy(i)\n",
    "    print(i, diff, digy, end='')\n",
    "    if diff == digy:\n",
    "        print(\" <-- answer\")\n",
    "    else:\n",
    "        print()\n",
    "    "
   ]
  },
  {
   "cell_type": "code",
   "execution_count": 6,
   "id": "275845ed",
   "metadata": {},
   "outputs": [
    {
     "name": "stdout",
     "output_type": "stream",
     "text": [
      "1990 32 19\n",
      "1991 31 20\n",
      "1992 30 21\n",
      "1993 29 22\n",
      "1994 28 23\n",
      "1995 27 24\n",
      "1996 26 25\n",
      "1997 25 26\n",
      "1998 24 27\n",
      "1999 23 28\n",
      "2000 22 2\n"
     ]
    }
   ],
   "source": [
    "# search for a match condition\n",
    "now = '2022'\n",
    "for i in born:\n",
    "    diff = year(now) - year(i)\n",
    "    digy = sumy(i)\n",
    "    print(i, diff, digy, end='')\n",
    "    if diff == digy:\n",
    "        print(\" <-- answer\")\n",
    "    else:\n",
    "        print()"
   ]
  },
  {
   "cell_type": "markdown",
   "id": "258f209c",
   "metadata": {},
   "source": [
    "Tidak selalu terdapat jawaban seperti ditunjukkan oleh kode terakhir."
   ]
  }
 ],
 "metadata": {
  "authors": [
   {
    "name": "Sparisoma Viridi"
   }
  ],
  "kernelspec": {
   "display_name": "Python 3 (ipykernel)",
   "language": "python",
   "name": "python3"
  },
  "language_info": {
   "codemirror_mode": {
    "name": "ipython",
    "version": 3
   },
   "file_extension": ".py",
   "mimetype": "text/x-python",
   "name": "python",
   "nbconvert_exporter": "python",
   "pygments_lexer": "ipython3",
   "version": "3.10.4"
  },
  "title": "born_year_sum_digit"
 },
 "nbformat": 4,
 "nbformat_minor": 5
}
