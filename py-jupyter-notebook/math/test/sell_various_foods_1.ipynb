{
 "cells": [
  {
   "cell_type": "markdown",
   "id": "d4e69cf6",
   "metadata": {},
   "source": [
    "# sell_various_foods_1\n",
    "Tes III.3: Logika Angka "
   ]
  },
  {
   "cell_type": "markdown",
   "id": "164cf672",
   "metadata": {},
   "source": [
    "## example\n",
    "\n",
    "Sebuah kedai makanan melakukan rekap pada hasil penjualan makanannya selama sebulan yang disajikan pada tabel berikut\n",
    "\n",
    "Menu | Modal<br>per porsi | Harga jual<br>per porsi | Jumlah<br>penjualan<br>(porsi)\n",
    "--- | --- | --- | ---\n",
    "Mie ayam | Rp. 12.000 | Rp. 15.000 | 150\n",
    "Mie bakso | Rp. 14.000 | Rp. 18.000 | 110\n",
    "Mie goreng | Rp. 13.000 | Rp. 17.000 | 130\n",
    "Mie rebus | Rp. 11.000 | Rp. 16.000 | 140\n",
    "Nasi goreng |Rp. 15.000 | Rp. 20.000 | 120"
   ]
  },
  {
   "cell_type": "markdown",
   "id": "d5c37c94",
   "metadata": {},
   "source": [
    "Menu makanan manakah yang memberikan keuntungan perbulan paling rendah dikedai makanan tersebut? \\\n",
    "A.\tMie bakso \\\n",
    "B.\tMie ayam \\\n",
    "C.\tNasi goreng \\\n",
    "D.\tMie goreng \\\n",
    "E.\tMie rebus"
   ]
  },
  {
   "cell_type": "code",
   "execution_count": 1,
   "id": "77e77bde",
   "metadata": {},
   "outputs": [],
   "source": [
    "# menu with intial capital, sell price, sales amount\n",
    "Menu = {\n",
    "    \"Mie ayam\":    [12000, 15000, 150],\n",
    "    \"Mie bakso\":   [14000, 18000, 110],\n",
    "    \"Mie goreng\":  [13000, 17000, 130],\n",
    "    \"Mie rebus\":   [11000, 16000, 140],\n",
    "    \"Nasi goreng\": [15000, 20000, 120]\n",
    "}"
   ]
  },
  {
   "cell_type": "code",
   "execution_count": 2,
   "id": "e060f347",
   "metadata": {},
   "outputs": [],
   "source": [
    "# calculate profit\n",
    "def getProfit(menu):\n",
    "    profit = {}\n",
    "    for m in menu:\n",
    "        ic = menu[m][0]\n",
    "        sp = menu[m][1]\n",
    "        sa = menu[m][2]\n",
    "        pr = (sp - ic) * sa\n",
    "        profit[m] = pr\n",
    "    return profit"
   ]
  },
  {
   "cell_type": "code",
   "execution_count": 3,
   "id": "a237f6f4",
   "metadata": {},
   "outputs": [
    {
     "name": "stdout",
     "output_type": "stream",
     "text": [
      "['Mie rebus']\n"
     ]
    }
   ],
   "source": [
    "# get maximum profit and show the related menu\n",
    "profit = getProfit(Menu)\n",
    "maxProfit = max([profit[i] for i in profit])\n",
    "keys = [k for k, v in profit.items() if v == maxProfit]\n",
    "print(keys)"
   ]
  },
  {
   "cell_type": "markdown",
   "id": "f6c13f9d",
   "metadata": {},
   "source": [
    "E. Mie rebus"
   ]
  },
  {
   "cell_type": "markdown",
   "id": "96ef2928",
   "metadata": {},
   "source": [
    "## new"
   ]
  },
  {
   "cell_type": "code",
   "execution_count": 4,
   "id": "97f20b1a",
   "metadata": {},
   "outputs": [],
   "source": [
    "# menu with intial capital, sell price, sales amount\n",
    "Menu2 = {\n",
    "    \"Bihun ayam\":     [13000, 16000, 100],\n",
    "    \"Kuetiaw goreng\": [14000, 18000, 140],\n",
    "    \"Lomie kuah\":     [15000, 20000, 110],\n",
    "    \"Mie bakso\":      [12000, 14000, 160],\n",
    "    \"Pasta polos\":    [16000, 20000, 120]\n",
    "}"
   ]
  },
  {
   "cell_type": "code",
   "execution_count": 5,
   "id": "a9260381",
   "metadata": {},
   "outputs": [
    {
     "name": "stdout",
     "output_type": "stream",
     "text": [
      "['Kuetiaw goreng']\n"
     ]
    }
   ],
   "source": [
    "profit2 = getProfit(Menu2)\n",
    "maxProfit = max([profit2[i] for i in profit2])\n",
    "keys = [k for k, v in profit2.items() if v == maxProfit]\n",
    "print(keys)"
   ]
  },
  {
   "cell_type": "code",
   "execution_count": 6,
   "id": "4177bf8a",
   "metadata": {},
   "outputs": [
    {
     "name": "stdout",
     "output_type": "stream",
     "text": [
      "['Bihun ayam']\n"
     ]
    }
   ],
   "source": [
    "profit2 = getProfit(Menu2)\n",
    "minProfit = min([profit2[i] for i in profit2])\n",
    "keys = [k for k, v in profit2.items() if v == minProfit]\n",
    "print(keys)"
   ]
  }
 ],
 "metadata": {
  "authors": [
   {
    "name": "Sparisoma Viridi"
   }
  ],
  "kernelspec": {
   "display_name": "Python 3 (ipykernel)",
   "language": "python",
   "name": "python3"
  },
  "language_info": {
   "codemirror_mode": {
    "name": "ipython",
    "version": 3
   },
   "file_extension": ".py",
   "mimetype": "text/x-python",
   "name": "python",
   "nbconvert_exporter": "python",
   "pygments_lexer": "ipython3",
   "version": "3.10.4"
  },
  "title": "sell_various_food_1"
 },
 "nbformat": 4,
 "nbformat_minor": 5
}
