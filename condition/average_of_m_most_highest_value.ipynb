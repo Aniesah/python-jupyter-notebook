{
 "cells": [
  {
   "cell_type": "markdown",
   "id": "d4e69cf6",
   "metadata": {},
   "source": [
    "# average_of_m_most_highest_value.ipynb\n",
    "Find most `m` highest value of `n` scores"
   ]
  },
  {
   "cell_type": "markdown",
   "id": "2fdb75ff",
   "metadata": {},
   "source": [
    "In a lecture quizes are given $n$ times and only $m$ values are take to be averagde, where $m < n$."
   ]
  },
  {
   "cell_type": "code",
   "execution_count": 1,
   "id": "22578ce5",
   "metadata": {},
   "outputs": [
    {
     "name": "stdout",
     "output_type": "stream",
     "text": [
      "Score of quiz 1 is: 72\n",
      "Score of quiz 2 is: 72\n",
      "Score of quiz 3 is: 90\n",
      "Score of quiz 4 is: 90\n"
     ]
    }
   ],
   "source": [
    "# read score of all quizes\n",
    "quiz = []\n",
    "n = 4\n",
    "for i in range(n):\n",
    "    print(\"Score of quiz\", i+1, end='')\n",
    "    q = float(input(\" is: \"))\n",
    "    quiz.append(q)"
   ]
  },
  {
   "cell_type": "code",
   "execution_count": 2,
   "id": "8ea880b7",
   "metadata": {},
   "outputs": [
    {
     "name": "stdout",
     "output_type": "stream",
     "text": [
      "Quiz scores: [72.0, 72.0, 90.0, 90.0]\n"
     ]
    }
   ],
   "source": [
    "# print quiz scores\n",
    "print(\"Quiz scores:\", quiz)"
   ]
  },
  {
   "cell_type": "code",
   "execution_count": 3,
   "id": "b6d3ef8e",
   "metadata": {},
   "outputs": [
    {
     "name": "stdout",
     "output_type": "stream",
     "text": [
      "Quiz scores (sorted): [90.0, 90.0, 72.0, 72.0]\n"
     ]
    }
   ],
   "source": [
    "# sort scores from highest to lowest and print scores\n",
    "quiz.sort(reverse=True)\n",
    "print(\"Quiz scores (sorted):\", quiz)"
   ]
  },
  {
   "cell_type": "code",
   "execution_count": 4,
   "id": "a091fdf5",
   "metadata": {},
   "outputs": [
    {
     "name": "stdout",
     "output_type": "stream",
     "text": [
      "Average score of most 3 highest scores is 84.0\n"
     ]
    }
   ],
   "source": [
    "# take only m first scores and average them\n",
    "m = 3\n",
    "highest_quiz = quiz[:3]\n",
    "average = sum(highest_quiz) / m\n",
    "print(\"Average score of most\", m, \"highest scores is\", average)"
   ]
  }
 ],
 "metadata": {
  "authors": [
   {
    "name": "Sparisoma Viridi"
   }
  ],
  "kernelspec": {
   "display_name": "Python 3 (ipykernel)",
   "language": "python",
   "name": "python3"
  },
  "language_info": {
   "codemirror_mode": {
    "name": "ipython",
    "version": 3
   },
   "file_extension": ".py",
   "mimetype": "text/x-python",
   "name": "python",
   "nbconvert_exporter": "python",
   "pygments_lexer": "ipython3",
   "version": "3.10.7"
  },
  "title": "average_of_m_most_highest_value"
 },
 "nbformat": 4,
 "nbformat_minor": 5
}
