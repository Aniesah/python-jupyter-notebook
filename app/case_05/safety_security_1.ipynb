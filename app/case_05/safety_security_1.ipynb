{
 "cells": [
  {
   "cell_type": "markdown",
   "id": "d4e69cf6",
   "metadata": {},
   "source": [
    "# safety_security_1\n",
    "simulate trade off between safety and security"
   ]
  },
  {
   "cell_type": "markdown",
   "id": "722e29ed",
   "metadata": {},
   "source": [
    "## a building with two exits\n",
    "As a model a building with two exits is chosen, which can be drawn as follow.\n",
    "```\n",
    "   +----------------------------------------+\n",
    "A                                           |\n",
    "   |                                        |\n",
    "   |                                        |\n",
    "   |                                           B\n",
    "   +----------------------------------------+\n",
    "```\n",
    "Size of the building 40 (length) x 4 (width), where there are two exits\n",
    "+ A for normal entrance with security guard\n",
    "+ B for emergency exit without security guard"
   ]
  },
  {
   "cell_type": "markdown",
   "id": "b9753d0d",
   "metadata": {},
   "source": [
    "## person location\n",
    "There are $N$ people $P_i$ in the building with their own location, $(x, y)$, where $x \\in [1, 40]$ and $y \\in [1, 4]$. This location will be generated using random numer."
   ]
  },
  {
   "cell_type": "markdown",
   "id": "dc87ea65",
   "metadata": {},
   "source": [
    "```\n",
    "   +----------------------------------------+\n",
    "A                              P2           |\n",
    "   |             D(x, y)               Pi   |\n",
    "   |    P3                                  |\n",
    "   |  P4        PN          P1                 B\n",
    "   +----------------------------------------+\n",
    "```"
   ]
  },
  {
   "cell_type": "code",
   "execution_count": 8,
   "id": "4c9a156a",
   "metadata": {},
   "outputs": [],
   "source": [
    "import random as rnd\n",
    "N = 100\n",
    "\n",
    "xmin = 1\n",
    "xmax = 40\n",
    "x = [rnd.randint(xmin, xmax) for i in range(M)]\n",
    "\n",
    "ymin = 1\n",
    "ymax = 4\n",
    "y = [rnd.randint(ymin, ymax) for i in range(M)]"
   ]
  },
  {
   "cell_type": "markdown",
   "id": "758fc590",
   "metadata": {},
   "source": [
    "In order to prevent two people at the same location, pair values of $x$ and $y$ should be checked and the same ones should be rejected by creating new ones. This has not been implemented on the above code."
   ]
  },
  {
   "cell_type": "markdown",
   "id": "3d73c4b1",
   "metadata": {},
   "source": [
    "## disaster location\n",
    "Disaster $D_j$ can happen at any position $(x, y)$ where $x \\in [1, 40]$ and $y \\in [1, 4]$. This location will be generated using random numer. It is similar the way how position of people are generated."
   ]
  },
  {
   "cell_type": "markdown",
   "id": "aa513cd1",
   "metadata": {},
   "source": [
    "```\n",
    "   +----------------------------------------+\n",
    "A      D1                      P2           |\n",
    "   |             D2               Dj   Pi   |\n",
    "   |    P3                                  |\n",
    "   |  P4        PN   DM      P1                B\n",
    "   +----------------------------------------+\n",
    "```"
   ]
  },
  {
   "cell_type": "markdown",
   "id": "96c5a1aa",
   "metadata": {},
   "source": [
    "## illegral entrance\n",
    "To face the security illegal entrance is created at exit B."
   ]
  },
  {
   "cell_type": "markdown",
   "id": "1575b688",
   "metadata": {},
   "source": [
    "## time to escape\n",
    "Using ABM person $P_i$ can escape through exit A or B (if it is opened) and the time requires can be simulated, where he/she must queue behind the others and also must avoid disaster site. Maximum time can be set to produce casualities.\n",
    "\n",
    "By comparing positions and number of disaster sites, and whether emergency exit is opened or close, and risk of trespass. An optimum point should be found."
   ]
  }
 ],
 "metadata": {
  "authors": [
   {
    "name": "Sparisoma Viridi"
   }
  ],
  "kernelspec": {
   "display_name": "Python 3 (ipykernel)",
   "language": "python",
   "name": "python3"
  },
  "language_info": {
   "codemirror_mode": {
    "name": "ipython",
    "version": 3
   },
   "file_extension": ".py",
   "mimetype": "text/x-python",
   "name": "python",
   "nbconvert_exporter": "python",
   "pygments_lexer": "ipython3",
   "version": "3.9.12"
  },
  "title": "safety_security_1"
 },
 "nbformat": 4,
 "nbformat_minor": 5
}
