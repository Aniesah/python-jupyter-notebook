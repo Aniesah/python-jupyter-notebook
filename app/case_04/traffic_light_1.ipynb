{
 "cells": [
  {
   "cell_type": "markdown",
   "id": "d4e69cf6",
   "metadata": {},
   "source": [
    "# traffic_light_1\n",
    "simulate state change of traffic light"
   ]
  },
  {
   "cell_type": "markdown",
   "id": "a1c83d83",
   "metadata": {},
   "source": [
    "## intersection\n",
    "```\n",
    "             L2  L1\n",
    "           | ^      |\n",
    "           | |    | |\n",
    "           |      v |\n",
    "           |        |\n",
    "   --------+     T1 +--------\n",
    "L3   -->  T4             --> L8\n",
    "L4  <--             T2  <--  L7\n",
    "   --------+ T3     +--------\n",
    "           |        |\n",
    "           | ^      |\n",
    "           | |    | |\n",
    "           |      v |\n",
    "             L5  L6\n",
    "```"
   ]
  },
  {
   "cell_type": "markdown",
   "id": "5d1052b3",
   "metadata": {},
   "source": [
    "## connection\n",
    "left to top\n",
    "\n",
    "&nbsp; | L1 | L2 | L3 | L4 | L5 | L6 | L7 | L8\n",
    ":-: | :-: | :-: | :-: | :-: | :-: | :-: | :-: | :-:\n",
    "**L1** |  |  |  |  |  |  |  |\n",
    "**L2** |  |  |  |  |  |  |  |\n",
    "**L3** |  |  |  |  |  |  |  |\n",
    "**L4** |  |  |  |  |  |  |  |\n",
    "**L5** |  |  |  |  |  |  |  |\n",
    "**L6** |  |  |  |  |  |  |  |\n",
    "**L7** |  |  |  |  |  |  |  |\n",
    "**L8** |  |  |  |  |  |  |  |"
   ]
  },
  {
   "cell_type": "code",
   "execution_count": null,
   "id": "77a3415e",
   "metadata": {},
   "outputs": [],
   "source": []
  }
 ],
 "metadata": {
  "authors": [
   {
    "name": "Sparisoma Viridi"
   }
  ],
  "kernelspec": {
   "display_name": "Python 3 (ipykernel)",
   "language": "python",
   "name": "python3"
  },
  "language_info": {
   "codemirror_mode": {
    "name": "ipython",
    "version": 3
   },
   "file_extension": ".py",
   "mimetype": "text/x-python",
   "name": "python",
   "nbconvert_exporter": "python",
   "pygments_lexer": "ipython3",
   "version": "3.9.12"
  },
  "title": "traffic_light_1"
 },
 "nbformat": 4,
 "nbformat_minor": 5
}
