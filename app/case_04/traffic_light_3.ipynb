{
 "cells": [
  {
   "cell_type": "markdown",
   "id": "d4e69cf6",
   "metadata": {},
   "source": [
    "# traffic_light_3\n",
    "simulate state change of traffic light and display in old fashion way (txt)"
   ]
  },
  {
   "cell_type": "markdown",
   "id": "ceaeff72",
   "metadata": {},
   "source": [
    "## display of intersection and connection table in text"
   ]
  },
  {
   "cell_type": "code",
   "execution_count": 1,
   "id": "7702146a",
   "metadata": {},
   "outputs": [],
   "source": [
    "# intersection\n",
    "intersection = [\n",
    "    \"             L2  L1\",\n",
    "    \"           | ^      |\",\n",
    "    \"           | |    | |\",\n",
    "    \"           |      v |\",\n",
    "    \"           |        |\",\n",
    "    \"   --------+     T1 +--------\",\n",
    "    \"L3   -->  T2             --> L8\",\n",
    "    \"L4  <--             T4  <--  L7\",\n",
    "    \"   --------+ T3     +--------\",\n",
    "    \"           |        |\",\n",
    "    \"           | ^      |\",\n",
    "    \"           | |    | |\",\n",
    "    \"           |      v |\",\n",
    "    \"             L5  L6\",\n",
    "]\n",
    "\n",
    "# lane L(r) connection to lane(c) through traffic ligh T(n)\n",
    "# r = row, c = col, n = traffict light number (1-4), 1 = direct turn\n",
    "connection = [\n",
    "    \"   | L1 | L2 | L3 | L4 | L5 | L6 | L7 | L8 \",\n",
    "    \"---+----+----+----+----+----+----+----+----\",\n",
    "    \"L1 |    |    |    | T1 |    | T1 |    | 1  \",\n",
    "    \"L2 |    |    |    |    |    |    |    |    \",\n",
    "    \"L3 |    | 1  |    |    |    | T2 |    | T2 \",\n",
    "    \"L4 |    |    |    |    |    |    |    |    \",\n",
    "    \"L5 |    | T3 |    | 1  |    |    |    | T3 \",\n",
    "    \"L6 |    |    |    |    |    |    |    |    \",\n",
    "    \"L7 |    | T4 |    | T4 |    | 1  |    |    \",\n",
    "    \"L8 |    |    |    |    |    |    |    |    \",\n",
    "]"
   ]
  },
  {
   "cell_type": "code",
   "execution_count": 2,
   "id": "4a65784c",
   "metadata": {},
   "outputs": [
    {
     "name": "stdout",
     "output_type": "stream",
     "text": [
      "[0, 0, 0, 0, 0, 0, 0, 0, 0, 0, 0, 0, 0, 0, 0, 0, 0, 0, 0, 0, 0, 0, 0, 0, 0, 0, 0, 0, 0, 0, 0, 0, 0, 0, 0, 0, 0, 0, 0, 0, 0, 0, 0, 0, 0, 0, 0, 0, 0, 0, 1, 1, 1, 1, 1, 2, 2, 2, 2, 2, 2, 2, 2, 2, 2, 2, 2, 2, 2, 2, 2, 2, 2, 2, 2, 2, 2, 2, 2, 2, 2, 2, 2, 2, 2, 2, 2, 2, 2, 2]\n"
     ]
    }
   ],
   "source": [
    "# state 0 move, 1 prepare to stop, 2 stop\n",
    "stateG = 0\n",
    "stateY = 1\n",
    "stateR = 2\n",
    "\n",
    "# time is s\n",
    "G = 50\n",
    "Y = 5\n",
    "R = 35\n",
    "\n",
    "# create sequence\n",
    "seqG = [stateG] * G\n",
    "seqY = [stateY] * Y\n",
    "seqR = [stateR] * R\n",
    "\n",
    "# join all sequences\n",
    "seq = seqG + seqY + seqR\n",
    "print(seq)"
   ]
  },
  {
   "cell_type": "code",
   "execution_count": null,
   "id": "767a5c70",
   "metadata": {
    "scrolled": true
   },
   "outputs": [],
   "source": [
    "import time as tm\n",
    "# time delay in s\n",
    "dt = 0.1\n",
    "t = 0\n",
    "for i in seq:\n",
    "    if i == 0:\n",
    "        print(\"t = \", t, end=' ', sep='')\n",
    "        print(\"Jalan     \", end='\\r')\n",
    "        tm.sleep(dt)\n",
    "    elif i == 1:\n",
    "        print(\"t = \", t, end=' ', sep='')\n",
    "        print(\"Hati-hati \", end='\\r')\n",
    "        tm.sleep(dt)\n",
    "    else:\n",
    "        print(\"t = \", t, end=' ', sep='')\n",
    "        print(\"Berhenti  \", end='\\r')\n",
    "        tm.sleep(dt)\n",
    "    t += 1"
   ]
  },
  {
   "cell_type": "markdown",
   "id": "56c6a422",
   "metadata": {},
   "source": [
    "![](screenshot_2.gif)"
   ]
  }
 ],
 "metadata": {
  "authors": [
   {
    "name": "Sparisoma Viridi"
   }
  ],
  "kernelspec": {
   "display_name": "Python 3 (ipykernel)",
   "language": "python",
   "name": "python3"
  },
  "language_info": {
   "codemirror_mode": {
    "name": "ipython",
    "version": 3
   },
   "file_extension": ".py",
   "mimetype": "text/x-python",
   "name": "python",
   "nbconvert_exporter": "python",
   "pygments_lexer": "ipython3",
   "version": "3.10.8"
  },
  "title": "traffic_light_3"
 },
 "nbformat": 4,
 "nbformat_minor": 5
}
