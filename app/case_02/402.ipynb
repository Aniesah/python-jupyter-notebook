{
 "cells": [
  {
   "cell_type": "markdown",
   "id": "8b797cea",
   "metadata": {},
   "source": [
    "## substract with minimum\n",
    "find minimum in a row, substract all with that unless it is already zero"
   ]
  },
  {
   "cell_type": "markdown",
   "id": "221a3c10",
   "metadata": {},
   "source": [
    "## case 1\n",
    "```\n",
    "4 2 1 6\n",
    "```"
   ]
  },
  {
   "cell_type": "code",
   "execution_count": null,
   "id": "beaf2b5b",
   "metadata": {},
   "outputs": [],
   "source": []
  },
  {
   "cell_type": "markdown",
   "id": "852b5f83",
   "metadata": {},
   "source": [
    "## case 2\n",
    "```\n",
    "1 4 1 7 11 9\n",
    "```"
   ]
  },
  {
   "cell_type": "code",
   "execution_count": null,
   "id": "e29c467b",
   "metadata": {},
   "outputs": [],
   "source": []
  }
 ],
 "metadata": {
  "kernelspec": {
   "display_name": "Python 3 (ipykernel)",
   "language": "python",
   "name": "python3"
  },
  "language_info": {
   "codemirror_mode": {
    "name": "ipython",
    "version": 3
   },
   "file_extension": ".py",
   "mimetype": "text/x-python",
   "name": "python",
   "nbconvert_exporter": "python",
   "pygments_lexer": "ipython3",
   "version": "3.10.8"
  },
  "metadata": {
   "authors": [
    {
     "name": "Sparisoma Viridi"
    }
   ],
   "kernelspec": {
    "display_name": "Python 3 (ipykernel)",
    "language": "python",
    "name": "python3"
   },
   "language_info": {
    "codemirror_mode": {
     "name": "ipython",
     "version": 3
    },
    "file_extension": ".py",
    "mimetype": "text/x-python",
    "name": "python",
    "nbconvert_exporter": "python",
    "pygments_lexer": "ipython3",
    "version": "3.9.12"
   },
   "title": "402.ipynb"
  },
  "nbformat": 4,
  "nbformat_minor": 5
 },
 "nbformat": 4,
 "nbformat_minor": 5
}
