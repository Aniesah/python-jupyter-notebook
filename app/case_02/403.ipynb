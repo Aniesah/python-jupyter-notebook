{
 "cells": [
  {
   "cell_type": "markdown",
   "id": "8b797cea",
   "metadata": {},
   "source": [
    "# visible building in a sequence\n",
    "smaller one will be covered by the taller one, find max of sum of visible buildings in each column"
   ]
  },
  {
   "cell_type": "markdown",
   "id": "afd232c9",
   "metadata": {},
   "source": [
    "## functions"
   ]
  },
  {
   "cell_type": "code",
   "execution_count": 1,
   "id": "415a34a3",
   "metadata": {},
   "outputs": [],
   "source": [
    "# get visible in column, start = \"top\", \"bottom\"\n",
    "def visible_in_colum(x, col, start):\n",
    "    M = len(x)     # row\n",
    "    N = len(x[0])  # column\n"
   ]
  },
  {
   "cell_type": "markdown",
   "id": "5d5b9dff",
   "metadata": {},
   "source": [
    "## case 1\n",
    "```\n",
    "3 1 5\n",
    "6 8 2\n",
    "1 3 4\n",
    "```"
   ]
  },
  {
   "cell_type": "markdown",
   "id": "ff8c78da",
   "metadata": {},
   "source": [
    "## case 2\n",
    "```\n",
    "10  5  7  1\n",
    "12 10 13 12\n",
    "10  5  4 13\n",
    " 1  1 11 12\n",
    "```"
   ]
  }
 ],
 "metadata": {
  "kernelspec": {
   "display_name": "Python 3 (ipykernel)",
   "language": "python",
   "name": "python3"
  },
  "language_info": {
   "codemirror_mode": {
    "name": "ipython",
    "version": 3
   },
   "file_extension": ".py",
   "mimetype": "text/x-python",
   "name": "python",
   "nbconvert_exporter": "python",
   "pygments_lexer": "ipython3",
   "version": "3.10.8"
  },
  "metadata": {
   "authors": [
    {
     "name": "Sparisoma Viridi"
    }
   ],
   "kernelspec": {
    "display_name": "Python 3 (ipykernel)",
    "language": "python",
    "name": "python3"
   },
   "language_info": {
    "codemirror_mode": {
     "name": "ipython",
     "version": 3
    },
    "file_extension": ".py",
    "mimetype": "text/x-python",
    "name": "python",
    "nbconvert_exporter": "python",
    "pygments_lexer": "ipython3",
    "version": "3.9.12"
   },
   "title": "403.ipynb"
  },
  "nbformat": 4,
  "nbformat_minor": 5
 },
 "nbformat": 4,
 "nbformat_minor": 5
}
