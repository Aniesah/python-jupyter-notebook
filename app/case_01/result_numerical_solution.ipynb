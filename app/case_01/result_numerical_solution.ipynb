{
 "cells": [
  {
   "cell_type": "markdown",
   "id": "d4e69cf6",
   "metadata": {},
   "source": [
    "# result_numerical_solution\n",
    "Di sini disampaikan solusi numerik untuk gerak beberapa mata rantai."
   ]
  },
  {
   "cell_type": "markdown",
   "id": "610a877c",
   "metadata": {},
   "source": [
    "## euler method\n",
    "Untuk kecepatan\n",
    "\n",
    "\\begin{equation}\\tag{1}\n",
    "\\vec{v}(t + \\Delta t) \\approx \\vec{v}(t) + \\vec{a}(t) \\Delta t.\n",
    "\\end{equation}\n",
    "\n",
    "dan posisi\n",
    "\n",
    "\\begin{equation}\\tag{2}\n",
    "\\vec{r}(t + \\Delta t) \\approx \\vec{r}(t) + \\vec{v}(t) \\Delta t.\n",
    "\\end{equation}"
   ]
  },
  {
   "cell_type": "markdown",
   "id": "668b5034",
   "metadata": {},
   "source": [
    "## equation of motion\n",
    "Setiap mata rantai secara umum akan mengikuti\n",
    "\n",
    "\\begin{equation}\\tag{3}\n",
    "m_i \\frac{d^2\\vec{r}_i}{dt^2} + k_{i, i-1} (r_{i,i-1} - l_{i,i-1})\\hat{r}_{i, i-1} + k_{i, i+1} (r_{i,i+1} - l_{i,i+1})\\hat{r}_{i, i+1} + b \\vec{v}_i,\n",
    "\\end{equation}\n",
    "\n",
    "yang untuk $k_i = k$, $m_i = m$ dan $l_{i, j} = l_0$ akan menjadi lebih sederhana\n",
    "\n",
    "\\begin{equation}\\tag{4}\n",
    "m \\frac{d^2\\vec{r}_i}{dt^2} + k (r_{i,i-1} - l_0)\\hat{r}_{i, i-1} + k (r_{i,i+1} - l_0)\\hat{r}_{i, i+1} + b \\vec{v}_i = 0,\n",
    "\\end{equation}\n",
    "\n",
    "dengan\n",
    "\n",
    "\\begin{equation}\\tag{5}\n",
    "r_{ij} = | \\vec{r}_{ij} | = \\sqrt{\\vec{r}_{ij} \\cdot \\vec{r}_{ij}}\n",
    "\\end{equation}\n",
    "\n",
    "dan\n",
    "\n",
    "\\begin{equation}\\tag{6}\n",
    "\\hat{r}_{ij} = \\frac{\\vec{r}_{ij}}{r_{ij}}.\n",
    "\\end{equation}"
   ]
  },
  {
   "cell_type": "markdown",
   "id": "d3a0d157",
   "metadata": {},
   "source": [
    "## iteratif solution\n",
    "Dengan menggunakan Persamaan (4) dapat diperoleh\n",
    "\n",
    "\\begin{equation}\\tag{7}\n",
    "\\vec{a}_i(t) = -\\frac{k}{m} \\left[ r_{i,i-1}(t) - l_0 \\right] \\hat{r}_{i, i-1}(t) - \\frac{k}{m} \\left[ r_{i,i+1}(t) - l_0 \\right]\\hat{r}_{i, i+1}(t) - b \\vec{v}_i(t),\n",
    "\\end{equation}\n",
    "\n",
    "dengan Persamaan (1) dan (2) merupakan solusi iteratif untuk $\\vec{v}(t)$ dan $\\vec{r}(t)$."
   ]
  },
  {
   "cell_type": "markdown",
   "id": "ca9d898c",
   "metadata": {},
   "source": [
    "## boundary condition\n",
    "Terdapat syarat batas pada ujung-ujung kedua rantai yang terdiri dari $N$ buath mata rantai, yaitu\n",
    "\n",
    "\\begin{equation}\\tag{8}\n",
    "\\vec{r}_1(t) = \\vec{r}_L\n",
    "\\end{equation}\n",
    "\n",
    "untuk ujung kiri kawat dan\n",
    "\n",
    "\\begin{equation}\\tag{9}\n",
    "\\vec{r}_N(t) = \\vec{r}_R\n",
    "\\end{equation}\n",
    "\n",
    "untuk ujung kanan kawat, di mana keduanya bernilai tetap."
   ]
  },
  {
   "cell_type": "code",
   "execution_count": null,
   "id": "99c598c3",
   "metadata": {},
   "outputs": [],
   "source": []
  }
 ],
 "metadata": {
  "authors": [
   {
    "name": "Sparisoma Viridi"
   }
  ],
  "kernelspec": {
   "display_name": "Python 3 (ipykernel)",
   "language": "python",
   "name": "python3"
  },
  "language_info": {
   "codemirror_mode": {
    "name": "ipython",
    "version": 3
   },
   "file_extension": ".py",
   "mimetype": "text/x-python",
   "name": "python",
   "nbconvert_exporter": "python",
   "pygments_lexer": "ipython3",
   "version": "3.9.12"
  },
  "title": "result_numerical_solution"
 },
 "nbformat": 4,
 "nbformat_minor": 5
}
