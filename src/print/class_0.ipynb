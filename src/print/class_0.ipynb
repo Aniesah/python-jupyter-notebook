{
 "cells": [
  {
   "cell_type": "markdown",
   "id": "b0cbc1cc",
   "metadata": {},
   "source": [
    "# class_0"
   ]
  },
  {
   "cell_type": "code",
   "execution_count": null,
   "id": "c42c45c2",
   "metadata": {},
   "outputs": [],
   "source": [
    "# define "
   ]
  }
 ],
 "metadata": {
  "authors": [
   {
    "name": "Sparisoma Viridi"
   }
  ],
  "kernelspec": {
   "display_name": "Python 3 (ipykernel)",
   "language": "python",
   "name": "python3"
  },
  "language_info": {
   "codemirror_mode": {
    "name": "ipython",
    "version": 3
   },
   "file_extension": ".py",
   "mimetype": "text/x-python",
   "name": "python",
   "nbconvert_exporter": "python",
   "pygments_lexer": "ipython3",
   "version": "3.10.9"
  },
  "title": "class_0"
 },
 "nbformat": 4,
 "nbformat_minor": 5
}
