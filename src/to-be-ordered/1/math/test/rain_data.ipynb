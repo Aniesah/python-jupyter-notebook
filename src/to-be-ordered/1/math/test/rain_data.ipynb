{
 "cells": [
  {
   "cell_type": "markdown",
   "id": "d4e69cf6",
   "metadata": {},
   "source": [
    "# rain_data\n",
    "Tes III.3: Logika Angka "
   ]
  },
  {
   "cell_type": "markdown",
   "id": "164cf672",
   "metadata": {},
   "source": [
    "## example\n",
    "Berikut merupakan data curah hujan di kota Bandung, Jakarta, dan Surabaya dalam seminggu terakhir, yang dinyatakan dalam (mm/hari).\n",
    "\n",
    "Kota | Sen | Sel | Rab | Kam | Jum | Sab | Min\n",
    ":--- | --- | --- | --- | --- | --- | --- | ---\n",
    "Bandung  | 30 | 55 | 40 | 35 | 20 | 65 | 70\n",
    "Jakarta  | 25 | 40 | 55 | 20 | 60 | 35 | 75\n",
    "Surabaya | 15 | 30 | 55 | 40 | 55 | 25 | 80\n",
    "\n",
    "10.\tBerapakah persentase kenaikan curah hujan dari hari Jumat ke hari Minggu di kota Surabaya... \\\n",
    "A.\t45% \\\n",
    "B.\t34% \\\n",
    "C.\t40% \\\n",
    "D.\t55% \\\n",
    "E.\t60%"
   ]
  },
  {
   "cell_type": "code",
   "execution_count": 1,
   "id": "7299daab",
   "metadata": {},
   "outputs": [
    {
     "name": "stdout",
     "output_type": "stream",
     "text": [
      "45% (A)\n"
     ]
    }
   ],
   "source": [
    "print(f'{(80-55)/55 * 100:0.0f}%', \"(A)\")"
   ]
  },
  {
   "cell_type": "markdown",
   "id": "7d515ba3",
   "metadata": {},
   "source": [
    "Kota | Sen | Sel | Rab | Kam | Jum | Sab | Min\n",
    ":--- | --- | --- | --- | --- | --- | --- | ---\n",
    "Bandung  | 30 | 55 | 40 | 35 | 20 | 65 | 70\n",
    "Jakarta  | 25 | 40 | 55 | 20 | 60 | 35 | 75\n",
    "Surabaya | 15 | 30 | 55 | 40 | 55 | 25 | 80\n",
    "\n",
    "11.\tBerapakah selisih rata-rata curah hujan dalam seminggu antara kota Bandung dan Jakarta... \\\n",
    "A.\t2,1 mm/hari \\\n",
    "B.\t1,8 mm/hari \\\n",
    "C.\t2,5 mm/hari \\\n",
    "D.\t1,6 mm/hari \\\n",
    "E.\t1,4 mm/hari"
   ]
  },
  {
   "cell_type": "code",
   "execution_count": 2,
   "id": "7a78cf7c",
   "metadata": {},
   "outputs": [
    {
     "name": "stdout",
     "output_type": "stream",
     "text": [
      "avg Bandung 45.0\n",
      "avg Jakarta 44.285714285714285\n",
      "Bandung - Jakarta =  0.7 mm/hari\n"
     ]
    }
   ],
   "source": [
    "bdg = (30 + 55 + 40 + 35 + 20 + 65 + 70)/7; print(\"avg Bandung\", bdg)\n",
    "jkt = (25 + 40 + 55 + 20 + 60 + 35 + 75)/7; print(\"avg Jakarta\", jkt)\n",
    "diff = bdg - jkt\n",
    "print(\"Bandung - Jakarta = \", f'{diff:.1f}', \"mm/hari\")"
   ]
  },
  {
   "cell_type": "markdown",
   "id": "2cb922a9",
   "metadata": {},
   "source": [
    "Tidak terdapat jawaban yang benar. Apakah benar terdapat jawaban?"
   ]
  },
  {
   "cell_type": "markdown",
   "id": "e5ee3a31",
   "metadata": {},
   "source": [
    "Kota | Sen | Sel | Rab | Kam | Jum | Sab | Min\n",
    ":--- | --- | --- | --- | --- | --- | --- | ---\n",
    "Bandung  | 30 | 55 | 40 | 35 | 20 | 65 | 70\n",
    "Jakarta  | 25 | 40 | 55 | 20 | 60 | 35 | 75\n",
    "Surabaya | 15 | 30 | 55 | 40 | 55 | 25 | 80\n",
    "\n",
    "12.\tJika diprediksi pada hari Rabu minggu depan curah hujan di ketiga kota akan turun 20% dari rata-rata curah hujan di hari Rabu dari ketiga kota tersebut, maka prediksi curah hujan di kota Surabaya pada hari Rabu minggu depan adalah... \\\n",
    "A.\t40 \\\n",
    "B.\t45 \\\n",
    "C.\t35 \\\n",
    "D.\t25 \\\n",
    "E.\t30 "
   ]
  },
  {
   "cell_type": "code",
   "execution_count": 3,
   "id": "9a296d4d",
   "metadata": {},
   "outputs": [
    {
     "name": "stdout",
     "output_type": "stream",
     "text": [
      "30.0 (E)\n"
     ]
    }
   ],
   "source": [
    "# avg wed\n",
    "avg_wed = (40 + 55 + 55) / 3\n",
    "reduc = 0.2 * avg_wed\n",
    "rain_sby = 40 - reduc\n",
    "print(rain_sby, \"(E)\")"
   ]
  },
  {
   "cell_type": "markdown",
   "id": "f810b4dc",
   "metadata": {},
   "source": [
    "## new"
   ]
  },
  {
   "cell_type": "markdown",
   "id": "03c84b84",
   "metadata": {},
   "source": [
    "Berikut merupakan data curah hujan di kota Jakarta, Bandung, dan Surabaya dalam seminggu terakhir, yang dinyatakan dalam (mm/hari).\n",
    "\n",
    "Kota | Sen | Sel | Rab | Kam | Jum | Sab | Min\n",
    ":--- | --- | --- | --- | --- | --- | --- | ---\n",
    "Jakarta  | 25 | 40 | 55 | 20 | 60 | 35 | 75\n",
    "Bandung  | 30 | 55 | 40 | 35 | 20 | 65 | 70\n",
    "Surabaya | 15 | 30 | 55 | 40 | 55 | 25 | 80\n",
    "\n",
    "10.\tPersentase kenaikan curah hujan dari hari Senin ke hari Rabu di kota Bandung adalah ... \\\n",
    "A.\t25% \\\n",
    "B.\t30% \\\n",
    "C.\t33% \\\n",
    "D.\t40% \\\n",
    "E.\t45%"
   ]
  },
  {
   "cell_type": "code",
   "execution_count": 4,
   "id": "916a1674",
   "metadata": {},
   "outputs": [
    {
     "name": "stdout",
     "output_type": "stream",
     "text": [
      "33% (C)\n"
     ]
    }
   ],
   "source": [
    "print(f'{(40-30)/30 * 100:0.0f}%', \"(C)\")"
   ]
  },
  {
   "cell_type": "markdown",
   "id": "32942cac",
   "metadata": {},
   "source": [
    "Berikut merupakan data curah hujan di kota Jakarta, Bandung, dan Surabaya dalam seminggu terakhir, yang dinyatakan dalam (mm/hari).\n",
    "\n",
    "Kota | Sen | Sel | Rab | Kam | Jum | Sab | Min\n",
    ":--- | --- | --- | --- | --- | --- | --- | ---\n",
    "Jakarta  | 25 | 40 | 55 | 20 | 60 | 35 | 75\n",
    "Bandung  | 30 | 55 | 40 | 35 | 20 | 65 | 70\n",
    "Surabaya | 15 | 30 | 55 | 40 | 55 | 25 | 80\n",
    "\n",
    "11.\tSelisih rata-rata curah hujan dalam seminggu antara kota Surabaya dan Jakarta adalah ... \\\n",
    "A.\t2,1 mm/hari \\\n",
    "B.\t1,4 mm/hari \\\n",
    "C.\t3,5 mm/hari \\\n",
    "D.\t2,8 mm/hari \\\n",
    "E.\t0,7 mm/hari"
   ]
  },
  {
   "cell_type": "code",
   "execution_count": 5,
   "id": "4ce9d09e",
   "metadata": {},
   "outputs": [
    {
     "name": "stdout",
     "output_type": "stream",
     "text": [
      "avg Surabaya 42.857142857142854\n",
      "avg Jakarta 44.285714285714285\n",
      "Surabaya - Jakarta =  -1.4 mm/hari (B)\n"
     ]
    }
   ],
   "source": [
    "sby = (15 + 30 + 55 + 40 + 55 + 25 + 80)/7; print(\"avg Surabaya\", sby)\n",
    "jkt = (25 + 40 + 55 + 20 + 60 + 35 + 75)/7; print(\"avg Jakarta\", jkt)\n",
    "diff = sby - jkt\n",
    "print(\"Surabaya - Jakarta = \", f'{diff:.1f}', \"mm/hari\", \"(B)\")"
   ]
  },
  {
   "cell_type": "markdown",
   "id": "5b4465fb",
   "metadata": {},
   "source": [
    "Berikut merupakan data curah hujan di kota Jakarta, Bandung, dan Surabaya dalam seminggu terakhir, yang dinyatakan dalam (mm/hari).\n",
    "\n",
    "Kota | Sen | Sel | Rab | Kam | Jum | Sab | Min\n",
    ":--- | --- | --- | --- | --- | --- | --- | ---\n",
    "Jakarta  | 25 | 40 | 55 | 20 | 60 | 35 | 75\n",
    "Bandung  | 30 | 55 | 40 | 35 | 20 | 65 | 70\n",
    "Surabaya | 15 | 30 | 55 | 40 | 55 | 25 | 80\n",
    "\n",
    "12.\tJika diprediksi pada hari Sabtu minggu depan curah hujan di ketiga kota akan naik 10% dari rata-rata curah hujan di hari Sabtu dari ketiga kota tersebut, maka prediksi curah hujan di kota Jakarta pada hari Sabtu minggu depan adalah ... \\\n",
    "A.\t25% \\\n",
    "B.\t30% \\\n",
    "C.\t33% \\\n",
    "D.\t40% \\\n",
    "E.\t45%"
   ]
  },
  {
   "cell_type": "code",
   "execution_count": 6,
   "id": "e283b713",
   "metadata": {},
   "outputs": [
    {
     "name": "stdout",
     "output_type": "stream",
     "text": [
      "40.0 (D)\n"
     ]
    }
   ],
   "source": [
    "# avg sat\n",
    "avg_sat = (35 + 65 + 25) / 3\n",
    "incr = 0.1 * avg_wed\n",
    "rain_jkt = 35 + incr\n",
    "print(rain_jkt, \"(D)\")"
   ]
  }
 ],
 "metadata": {
  "authors": [
   {
    "name": "Sparisoma Viridi"
   }
  ],
  "kernelspec": {
   "display_name": "Python 3 (ipykernel)",
   "language": "python",
   "name": "python3"
  },
  "language_info": {
   "codemirror_mode": {
    "name": "ipython",
    "version": 3
   },
   "file_extension": ".py",
   "mimetype": "text/x-python",
   "name": "python",
   "nbconvert_exporter": "python",
   "pygments_lexer": "ipython3",
   "version": "3.10.4"
  },
  "title": "rain_data"
 },
 "nbformat": 4,
 "nbformat_minor": 5
}
