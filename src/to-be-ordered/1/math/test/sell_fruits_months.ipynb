{
 "cells": [
  {
   "cell_type": "markdown",
   "id": "d4e69cf6",
   "metadata": {},
   "source": [
    "# sell_fruits_months\n",
    "Tes III.3: Logika Angka "
   ]
  },
  {
   "cell_type": "markdown",
   "id": "164cf672",
   "metadata": {},
   "source": [
    "## example\n",
    "Berikut adalah rekap hasil penjualan buah (dalam kg) di pasar buah segar dalam tiga bulan terakhir (Januari - Maret).\n",
    "\n",
    "Jenis<br>buah | Harga<br>per kg | Jan | Feb | Mar\n",
    "--- | --- | --- | --- | ---\n",
    "Mangga | Rp. 20.000,- | 36 | 40 | 28\n",
    "Apel   | Rp. 25.000,- | 28 | 33 | 37\n",
    "Jeruk  | Rp. 15.000,- | 18 | 22 | 15\n",
    "Pisang | Rp. 10.000,- | 32 | 35 | 38"
   ]
  },
  {
   "cell_type": "markdown",
   "id": "d5c37c94",
   "metadata": {},
   "source": [
    "8. Berapakah perbandingan hasil penjualan buah Mangga dan Jeruk di bulan Februari... \\\n",
    "A. 1,85:1 \\\n",
    "B. 2,08:1 \\\n",
    "C. 2,35:1 \\\n",
    "D. 1,66:1 \\\n",
    "E. 2,42:1"
   ]
  },
  {
   "cell_type": "code",
   "execution_count": 1,
   "id": "3d88617f",
   "metadata": {},
   "outputs": [
    {
     "name": "stdout",
     "output_type": "stream",
     "text": [
      "Jan: mangga / jeruk = 2.00\n",
      "Feb: mangga / jeruk = 1.82\n",
      "Mar: mangga / jeruk = 1.87\n"
     ]
    }
   ],
   "source": [
    "# jan\n",
    "mangga = 36; jeruk = 18; ratio = mangga / jeruk\n",
    "print(\"Jan: mangga / jeruk =\", f'{ratio:0.2f}')\n",
    "\n",
    "# feb\n",
    "mangga = 40; jeruk = 22; ratio = mangga / jeruk\n",
    "print(\"Feb: mangga / jeruk =\", f'{ratio:0.2f}')\n",
    "\n",
    "# mar\n",
    "mangga = 28; jeruk = 15; ratio = mangga / jeruk\n",
    "print(\"Mar: mangga / jeruk =\", f'{ratio:0.2f}')"
   ]
  },
  {
   "cell_type": "markdown",
   "id": "08e1c755",
   "metadata": {},
   "source": [
    "Paling dekat adalah: \\\n",
    "A. 1,85:1"
   ]
  },
  {
   "cell_type": "markdown",
   "id": "5281d671",
   "metadata": {},
   "source": [
    "9. Berapakah selisih dari rata-rata jumlah buah yang terjual di bulan Januari dan Maret... \\\n",
    "A. 2 kg \\\n",
    "B. 2,5 kg \\\n",
    "C. 1 kg \\\n",
    "D. 1,5 kg \\\n",
    "E. 0,5 kg"
   ]
  },
  {
   "cell_type": "code",
   "execution_count": 2,
   "id": "7c72e0f5",
   "metadata": {},
   "outputs": [
    {
     "name": "stdout",
     "output_type": "stream",
     "text": [
      "Rata-rata Jan =  28.5\n",
      "Rata-rata Feb =  32.5\n",
      "Rata-rata Mar =  29.5\n"
     ]
    }
   ],
   "source": [
    "# jan, feb, mar\n",
    "avg_1 = (36 + 28 + 18 + 32) / 4; print(\"Rata-rata Jan = \", avg_1)\n",
    "avg_2 = (40 + 33 + 22 + 35) / 4; print(\"Rata-rata Feb = \", avg_2)\n",
    "avg_3 = (28 + 37 + 15 + 38) / 4; print(\"Rata-rata Mar = \", avg_3)"
   ]
  },
  {
   "cell_type": "code",
   "execution_count": 3,
   "id": "de2447d9",
   "metadata": {},
   "outputs": [
    {
     "name": "stdout",
     "output_type": "stream",
     "text": [
      "Jan - Mar:  -1.0\n"
     ]
    }
   ],
   "source": [
    "print(\"Jan - Mar: \", avg_1 - avg_3)"
   ]
  },
  {
   "cell_type": "markdown",
   "id": "a6d8eb0f",
   "metadata": {},
   "source": [
    "C. 1 kg (dengan hanya mengambil nilai positifnya)"
   ]
  },
  {
   "cell_type": "markdown",
   "id": "9961c9f9",
   "metadata": {},
   "source": [
    "## new\n",
    "Dengan masing menggunakan tabel yang sama dapat ditanyakan hal yang lain seperti\n",
    "\n",
    "8. Berapakah perbandingan hasil penjualan buah Apel dan Pisang di bulan Maret... \\\n",
    "A. 1:1,85 \\\n",
    "B. 1:1,03 \\\n",
    "C. 1:2,35 \\\n",
    "D. 1:1,66 \\\n",
    "E. 1:2,42"
   ]
  },
  {
   "cell_type": "code",
   "execution_count": 4,
   "id": "de85bc75",
   "metadata": {},
   "outputs": [
    {
     "name": "stdout",
     "output_type": "stream",
     "text": [
      "Mar: apel / pisang = 1.03 (B)\n"
     ]
    }
   ],
   "source": [
    "# mar\n",
    "apel = 37; pisang = 38; ratio = pisang / apel\n",
    "print(\"Mar: apel / pisang =\", f'{ratio:0.2f}', \"(B)\")"
   ]
  },
  {
   "cell_type": "markdown",
   "id": "985014ad",
   "metadata": {},
   "source": [
    "9. Berapakah selisih dari rata-rata jumlah buah yang terjual di bulan Januari dan Maret... \\\n",
    "A. 2 kg \\\n",
    "B. 2,5 kg \\\n",
    "C. 1 kg \\\n",
    "D. 1,5 kg \\\n",
    "E. 3,0 kg"
   ]
  },
  {
   "cell_type": "code",
   "execution_count": 5,
   "id": "126bf8b4",
   "metadata": {},
   "outputs": [
    {
     "name": "stdout",
     "output_type": "stream",
     "text": [
      "Feb - Mar:  3.0 (E)\n"
     ]
    }
   ],
   "source": [
    "print(\"Feb - Mar: \", avg_2 - avg_3, \"(E)\")"
   ]
  }
 ],
 "metadata": {
  "authors": [
   {
    "name": "Sparisoma Viridi"
   }
  ],
  "kernelspec": {
   "display_name": "Python 3 (ipykernel)",
   "language": "python",
   "name": "python3"
  },
  "language_info": {
   "codemirror_mode": {
    "name": "ipython",
    "version": 3
   },
   "file_extension": ".py",
   "mimetype": "text/x-python",
   "name": "python",
   "nbconvert_exporter": "python",
   "pygments_lexer": "ipython3",
   "version": "3.10.4"
  },
  "title": "sell_fruits_months"
 },
 "nbformat": 4,
 "nbformat_minor": 5
}
