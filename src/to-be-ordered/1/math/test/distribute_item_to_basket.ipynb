{
 "cells": [
  {
   "cell_type": "markdown",
   "id": "d4e69cf6",
   "metadata": {},
   "source": [
    "# distribute_item_to_basket\n",
    "Tes III.3: Logika Angka "
   ]
  },
  {
   "cell_type": "markdown",
   "id": "164cf672",
   "metadata": {},
   "source": [
    "## example\n",
    "Seorang petani sedang memanen buah apel dan akan membagi apel tersebut ke dalam keranjang. Jika ia memasukkan sepuluh buah apel ke dalam setiap keranjang, maka jumlah keranjang yang dibutuhkan lima belas buah lebih banyak dibandingkan apabila setiap keranjang di isi lima belas buah apel. Berapa banyak jumlah buah apel yang dipanen oleh petani tersebut... \\\n",
    "A.\t400 buah \\\n",
    "B.\t450 buah \\\n",
    "C.\t500 buah \\\n",
    "D.\t550 buah \\\n",
    "E.\t600 buah"
   ]
  },
  {
   "cell_type": "code",
   "execution_count": 1,
   "id": "26bf205f",
   "metadata": {},
   "outputs": [],
   "source": [
    "# number of item in basket type 1\n",
    "N1 = 10\n",
    "\n",
    "# number of item in basket type 2\n",
    "N2 = 15\n",
    "\n",
    "# number of basket difference\n",
    "dM = 15"
   ]
  },
  {
   "cell_type": "code",
   "execution_count": 2,
   "id": "5146a9de",
   "metadata": {},
   "outputs": [
    {
     "name": "stdout",
     "output_type": "stream",
     "text": [
      "350 35.0 23.3\n",
      "400 40.0 26.7\n",
      "450 45.0 30.0 <-- ans\n",
      "500 50.0 33.3\n",
      "550 55.0 36.7\n",
      "600 60.0 40.0\n",
      "650 65.0 43.3\n"
     ]
    }
   ],
   "source": [
    "for N in range(350, 700, 50):\n",
    "    # number of basket of type 1\n",
    "    M1 = round(N / N1, 1)\n",
    "    \n",
    "    # number of basket of type 2\n",
    "    M2 = round(N / N2, 1)\n",
    "    \n",
    "    print(N, M1, M2, end='')\n",
    "    if M1 == M2 + dM:\n",
    "        print(\" <-- ans\")\n",
    "    else:\n",
    "        print()"
   ]
  },
  {
   "cell_type": "markdown",
   "id": "c52cbc02",
   "metadata": {},
   "source": [
    "B. 450 buah"
   ]
  },
  {
   "cell_type": "markdown",
   "id": "4012eb9c",
   "metadata": {},
   "source": [
    "## new"
   ]
  },
  {
   "cell_type": "code",
   "execution_count": 3,
   "id": "1f1420c1",
   "metadata": {},
   "outputs": [],
   "source": [
    "# number of item in basket type 1\n",
    "N1 = 10\n",
    "\n",
    "# number of item in basket type 2\n",
    "N2 = 20\n",
    "\n",
    "# number of basket difference\n",
    "dM = 22"
   ]
  },
  {
   "cell_type": "code",
   "execution_count": 4,
   "id": "b125b7cf",
   "metadata": {},
   "outputs": [
    {
     "name": "stdout",
     "output_type": "stream",
     "text": [
      "400 40.0 20.0\n",
      "420 42.0 21.0\n",
      "440 44.0 22.0 <-- ans\n",
      "460 46.0 23.0\n",
      "480 48.0 24.0\n"
     ]
    }
   ],
   "source": [
    "for N in range(400, 500, 20):\n",
    "    # number of basket of type 1\n",
    "    M1 = round(N / N1, 1)\n",
    "    \n",
    "    # number of basket of type 2\n",
    "    M2 = round(N / N2, 1)\n",
    "    \n",
    "    print(N, M1, M2, end='')\n",
    "    if M1 == M2 + dM:\n",
    "        print(\" <-- ans\")\n",
    "    else:\n",
    "        print()"
   ]
  },
  {
   "cell_type": "markdown",
   "id": "d4a906c6",
   "metadata": {},
   "source": [
    "Terdapat jawaban."
   ]
  }
 ],
 "metadata": {
  "authors": [
   {
    "name": "Sparisoma Viridi"
   }
  ],
  "kernelspec": {
   "display_name": "Python 3 (ipykernel)",
   "language": "python",
   "name": "python3"
  },
  "language_info": {
   "codemirror_mode": {
    "name": "ipython",
    "version": 3
   },
   "file_extension": ".py",
   "mimetype": "text/x-python",
   "name": "python",
   "nbconvert_exporter": "python",
   "pygments_lexer": "ipython3",
   "version": "3.10.4"
  },
  "title": "distribute_item_to_basket"
 },
 "nbformat": 4,
 "nbformat_minor": 5
}
