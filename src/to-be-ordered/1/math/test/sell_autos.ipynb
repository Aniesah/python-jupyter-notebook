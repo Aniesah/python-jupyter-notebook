{
 "cells": [
  {
   "cell_type": "markdown",
   "id": "d4e69cf6",
   "metadata": {},
   "source": [
    "# sell_autos\n",
    "Tes III.3: Logika Angka "
   ]
  },
  {
   "cell_type": "markdown",
   "id": "30d96e22",
   "metadata": {},
   "source": [
    "## examples"
   ]
  },
  {
   "cell_type": "markdown",
   "id": "768ff6ad",
   "metadata": {},
   "source": [
    "Sebuah perusahaan mobil merekap hasil penjualan unit mobil dalam 5 tahun terakhir yang tersaji dalam tabel berikut:\n",
    "\n",
    "Tipe<br>mobil | 2016 | 2017 | 2018 | 2019 | 2020\n",
    "-|||||-\n",
    "A | 200 | 250 | 300 | 150 | 100\n",
    "B | 400 | 500 | 350 | 300 | 200\n",
    "C | 550 | 600 | 500 | 200 | 100\n",
    "D | 600 | 700 | 450 | 300 | 250\n",
    "\n",
    "Nilai jual rata-rata per 50 unit mobil adalah\n",
    "+ Mobil tipe A: 15 Milyar per 50 unit\n",
    "+ Mobil tipe B: 12 Milyar per 50 unit\n",
    "+ Mobil tipe C: 8 Milyar per 50 unit\n",
    "+ Mobil tipe D: 5 Milyar per 50 unit\n",
    "\n",
    "13.\tBerapakah total nilai jual mobil tipe A dan D pada tahun 2019... \\\n",
    "A.\t100 Milyar \\\n",
    "B.\t110 Milyar \\\n",
    "C.\t120 Milyar \\\n",
    "D.\t130 Milyar \\\n",
    "E.\t140 Milyar"
   ]
  },
  {
   "cell_type": "code",
   "execution_count": 1,
   "id": "26b7bcd0",
   "metadata": {},
   "outputs": [
    {
     "name": "stdout",
     "output_type": "stream",
     "text": [
      "75.0 (?)\n"
     ]
    }
   ],
   "source": [
    "A2019 = 150 * (15 / 50)\n",
    "D2019 = 300 * (5 / 50)\n",
    "AD = A2019 + D2019\n",
    "print(AD, \"(?)\")"
   ]
  },
  {
   "cell_type": "markdown",
   "id": "91b7e7d6",
   "metadata": {},
   "source": [
    "Sebuah perusahaan mobil merekap hasil penjualan unit mobil dalam 5 tahun terakhir yang tersaji dalam tabel berikut:\n",
    "\n",
    "Tipe<br>mobil | 2016 | 2017 | 2018 | 2019 | 2020\n",
    "-|||||-\n",
    "A | 200 | 250 | 300 | 150 | 100\n",
    "B | 400 | 500 | 350 | 300 | 200\n",
    "C | 550 | 600 | 500 | 200 | 100\n",
    "D | 600 | 700 | 450 | 300 | 250\n",
    "\n",
    "Nilai jual rata-rata per 50 unit mobil adalah\n",
    "+ Mobil tipe A: 15 Milyar per 50 unit\n",
    "+ Mobil tipe B: 12 Milyar per 50 unit\n",
    "+ Mobil tipe C: 8 Milyar per 50 unit\n",
    "+ Mobil tipe D: 5 Milyar per 50 unit\n",
    "\n",
    "14.\tBerapakah nilai kenaikan dari total penjualan seluruh mobil dari tahun 2016 ke 2017... \\\n",
    "A.\t45 Milyar \\\n",
    "B.\t49 Milyar \\\n",
    "C.\t51 Milyar \\\n",
    "D.\t55 Milyar \\\n",
    "E.\t57 Milyar"
   ]
  },
  {
   "cell_type": "code",
   "execution_count": 2,
   "id": "e8ea13d9",
   "metadata": {},
   "outputs": [
    {
     "name": "stdout",
     "output_type": "stream",
     "text": [
      "304.0\n",
      "361.0\n",
      "Kenaikan total seluruh mobil 2016-2017 =  57.0 Milyar (E)\n"
     ]
    }
   ],
   "source": [
    "A2016 = 200 * (15 / 50)\n",
    "B2016 = 400 * (12 / 50)\n",
    "C2016 = 550 * (8 / 50)\n",
    "D2016 = 600 * (5 / 50)\n",
    "T2016 = A2016 + B2016 + C2016 + D2016\n",
    "\n",
    "A2017 = 250 * (15 / 50)\n",
    "B2017 = 500 * (12 / 50)\n",
    "C2017 = 600 * (8 / 50)\n",
    "D2017 = 700 * (5 / 50)\n",
    "T2017 = A2017 + B2017 + C2017 + D2017\n",
    "\n",
    "DT = T2017 - T2016\n",
    "print(T2016)\n",
    "print(T2017)\n",
    "print(\"Kenaikan total seluruh mobil 2016-2017 = \", DT, \"Milyar\", \"(E)\")"
   ]
  },
  {
   "cell_type": "markdown",
   "id": "89f84d42",
   "metadata": {},
   "source": [
    "Sebuah perusahaan mobil merekap hasil penjualan unit mobil dalam 5 tahun terakhir yang tersaji dalam tabel berikut:\n",
    "\n",
    "Tipe<br>mobil | 2016 | 2017 | 2018 | 2019 | 2020\n",
    "-|||||-\n",
    "A | 200 | 250 | 300 | 150 | 100\n",
    "B | 400 | 500 | 350 | 300 | 200\n",
    "C | 550 | 600 | 500 | 200 | 100\n",
    "D | 600 | 700 | 450 | 300 | 250\n",
    "\n",
    "Nilai jual rata-rata per 50 unit mobil adalah\n",
    "+ Mobil tipe A: 15 Milyar per 50 unit\n",
    "+ Mobil tipe B: 12 Milyar per 50 unit\n",
    "+ Mobil tipe C: 8 Milyar per 50 unit\n",
    "+ Mobil tipe D: 5 Milyar per 50 unit\n",
    "\n",
    "15.\tBerapakah rata-rata nilai penjualan mobil tipe C selama lima tahun... \\\n",
    "A.\t62,4 Milyar \\\n",
    "B.\t63,6 Milyar \\\n",
    "C.\t64,2 Milyar \\\n",
    "D.\t66,8 Milyar \\\n",
    "E.\t68,4 Milyar"
   ]
  },
  {
   "cell_type": "code",
   "execution_count": 3,
   "id": "935d0482",
   "metadata": {
    "scrolled": true
   },
   "outputs": [
    {
     "name": "stdout",
     "output_type": "stream",
     "text": [
      "62.4 Milyar (A)\n"
     ]
    }
   ],
   "source": [
    "C = (550 + 600 + 500 + 200 + 100) * (8 / 50) / 5\n",
    "print(C, \"Milyar\", \"(A)\")"
   ]
  },
  {
   "cell_type": "markdown",
   "id": "b8766b58",
   "metadata": {},
   "source": [
    "## new"
   ]
  },
  {
   "cell_type": "markdown",
   "id": "468f75ec",
   "metadata": {},
   "source": [
    "Sebuah perusahaan mobil merekap hasil penjualan unit mobil dalam 5 tahun terakhir yang tersaji dalam tabel berikut:\n",
    "\n",
    "Tipe<br>mobil | 2016 | 2017 | 2018 | 2019 | 2020\n",
    "-|||||-\n",
    "A | 200 | 250 | 300 | 150 | 100\n",
    "B | 400 | 500 | 350 | 300 | 200\n",
    "C | 550 | 600 | 500 | 200 | 100\n",
    "D | 600 | 700 | 450 | 300 | 250\n",
    "\n",
    "Nilai jual rata-rata per 50 unit mobil adalah\n",
    "+ Mobil tipe A: 15 Milyar per 50 unit\n",
    "+ Mobil tipe B: 12 Milyar per 50 unit\n",
    "+ Mobil tipe C: 8 Milyar per 50 unit\n",
    "+ Mobil tipe D: 5 Milyar per 50 unit\n",
    "\n",
    "13.\tTotal nilai jual mobil tipe B dan C pada tahun 2020 adalah ... \\\n",
    "A.\t70 Milyar \\\n",
    "B.\t64 Milyar \\\n",
    "C.\t140 Milyar \\\n",
    "D.\t80 Milyar \\\n",
    "E.\t100 Milyar"
   ]
  },
  {
   "cell_type": "code",
   "execution_count": 4,
   "id": "bd194791",
   "metadata": {},
   "outputs": [
    {
     "name": "stdout",
     "output_type": "stream",
     "text": [
      "64.0 (B)\n"
     ]
    }
   ],
   "source": [
    "B2020 = 200 * (12 / 50)\n",
    "C2020 = 100 * (8 / 50)\n",
    "BC = B2020 + C2020\n",
    "print(BC, \"(B)\")"
   ]
  },
  {
   "cell_type": "markdown",
   "id": "b51a664b",
   "metadata": {},
   "source": [
    "Sebuah perusahaan mobil merekap hasil penjualan unit mobil dalam 5 tahun terakhir yang tersaji dalam tabel berikut:\n",
    "\n",
    "Tipe<br>mobil | 2016 | 2017 | 2018 | 2019 | 2020\n",
    "-|||||-\n",
    "A | 200 | 250 | 300 | 150 | 100\n",
    "B | 400 | 500 | 350 | 300 | 200\n",
    "C | 550 | 600 | 500 | 200 | 100\n",
    "D | 600 | 700 | 450 | 300 | 250\n",
    "\n",
    "Nilai jual rata-rata per 50 unit mobil adalah\n",
    "+ Mobil tipe A: 15 Milyar per 50 unit\n",
    "+ Mobil tipe B: 12 Milyar per 50 unit\n",
    "+ Mobil tipe C: 8 Milyar per 50 unit\n",
    "+ Mobil tipe D: 5 Milyar per 50 unit\n",
    "\n",
    "14.\tNilai penurunan dari total penjualan seluruh mobil dari tahun 2018 ke 2019 adalah ... \\\n",
    "A.\t45 Milyar \\\n",
    "B.\t60 Milyar \\\n",
    "C.\t90 Milyar \\\n",
    "D.\t100 Milyar \\\n",
    "E.\t120 Milyar"
   ]
  },
  {
   "cell_type": "code",
   "execution_count": 5,
   "id": "38acca13",
   "metadata": {
    "scrolled": true
   },
   "outputs": [
    {
     "name": "stdout",
     "output_type": "stream",
     "text": [
      "299.0\n",
      "179.0\n",
      "Kenaikan total seluruh mobil 2018-2019 = -120.0 Milyar (E)\n"
     ]
    }
   ],
   "source": [
    "A2018 = 300 * (15 / 50)\n",
    "B2018 = 350 * (12 / 50)\n",
    "C2018 = 500 * (8 / 50)\n",
    "D2018 = 450 * (5 / 50)\n",
    "T2018 = A2018 + B2018 + C2018 + D2018\n",
    "\n",
    "A2019 = 150 * (15 / 50)\n",
    "B2019 = 300 * (12 / 50)\n",
    "C2019 = 200 * (8 / 50)\n",
    "D2019 = 300 * (5 / 50)\n",
    "T2019 = A2019 + B2019 + C2019 + D2019\n",
    "\n",
    "DT = T2019 - T2018\n",
    "print(T2018)\n",
    "print(T2019)\n",
    "print(\"Kenaikan total seluruh mobil 2018-2019 =\", DT, \"Milyar\", \"(E)\")"
   ]
  },
  {
   "cell_type": "markdown",
   "id": "96efc4f4",
   "metadata": {},
   "source": [
    "Sebuah perusahaan mobil merekap hasil penjualan unit mobil dalam 5 tahun terakhir yang tersaji dalam tabel berikut:\n",
    "\n",
    "Tipe<br>mobil | 2016 | 2017 | 2018 | 2019 | 2020\n",
    "-|||||-\n",
    "A | 200 | 250 | 300 | 150 | 100\n",
    "B | 400 | 500 | 350 | 300 | 200\n",
    "C | 550 | 600 | 500 | 200 | 100\n",
    "D | 600 | 700 | 450 | 300 | 250\n",
    "\n",
    "Nilai jual rata-rata per 50 unit mobil adalah\n",
    "+ Mobil tipe A: 15 Milyar per 50 unit\n",
    "+ Mobil tipe B: 12 Milyar per 50 unit\n",
    "+ Mobil tipe C: 8 Milyar per 50 unit\n",
    "+ Mobil tipe D: 5 Milyar per 50 unit\n",
    "\n",
    "15.\tBerapakah rata-rata nilai penjualan mobil tipe D selama lima tahun... \\\n",
    "A.\t40 Milyar \\\n",
    "B.\t46 Milyar \\\n",
    "C.\t52 Milyar \\\n",
    "D.\t60 Milyar \\\n",
    "E.\t72 Milyar"
   ]
  },
  {
   "cell_type": "code",
   "execution_count": 6,
   "id": "76af5643",
   "metadata": {
    "scrolled": true
   },
   "outputs": [
    {
     "name": "stdout",
     "output_type": "stream",
     "text": [
      "46.0 Milyar (B)\n"
     ]
    }
   ],
   "source": [
    "D = (600 + 700 + 450 + 300 + 250) * (5 / 50) / 5\n",
    "print(D, \"Milyar\", \"(B)\")"
   ]
  }
 ],
 "metadata": {
  "authors": [
   {
    "name": "Sparisoma Viridi"
   }
  ],
  "kernelspec": {
   "display_name": "Python 3 (ipykernel)",
   "language": "python",
   "name": "python3"
  },
  "language_info": {
   "codemirror_mode": {
    "name": "ipython",
    "version": 3
   },
   "file_extension": ".py",
   "mimetype": "text/x-python",
   "name": "python",
   "nbconvert_exporter": "python",
   "pygments_lexer": "ipython3",
   "version": "3.10.4"
  },
  "title": "sell_autos"
 },
 "nbformat": 4,
 "nbformat_minor": 5
}
