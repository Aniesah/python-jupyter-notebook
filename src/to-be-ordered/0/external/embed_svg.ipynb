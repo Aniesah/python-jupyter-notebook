{
 "cells": [
  {
   "cell_type": "markdown",
   "id": "043814e4",
   "metadata": {},
   "source": [
    "# Pengenalan Notebook Jupyter\n",
    "Pada pertemuan ini diperkenalkan mengenai Notebook Jupyter yang dapat digunakan untuk mempelajari bahasa pemrograman Pyhthon dan membuat dokumentasinya."
   ]
  },
  {
   "cell_type": "markdown",
   "id": "7e2de822",
   "metadata": {},
   "source": [
    "Contoh perintah Python"
   ]
  },
  {
   "cell_type": "code",
   "execution_count": 7,
   "id": "b28f1b35",
   "metadata": {},
   "outputs": [
    {
     "name": "stdout",
     "output_type": "stream",
     "text": [
      "Hello, World!\n"
     ]
    }
   ],
   "source": [
    "print(\"Hello, World!\")"
   ]
  },
  {
   "cell_type": "markdown",
   "id": "4b04fb0d",
   "metadata": {},
   "source": [
    "## Iterasi for dalam Python\n",
    "Berikut ini adalah contoh sederhana iterasi dengan `for`."
   ]
  },
  {
   "cell_type": "code",
   "execution_count": 8,
   "id": "74dd0b7b",
   "metadata": {},
   "outputs": [
    {
     "name": "stdout",
     "output_type": "stream",
     "text": [
      "0\n",
      "1\n",
      "2\n",
      "3\n",
      "4\n",
      "5\n",
      "6\n",
      "7\n",
      "8\n",
      "9\n",
      "10\n"
     ]
    }
   ],
   "source": [
    "for i in range(0, 11):\n",
    "    print(i)\n"
   ]
  },
  {
   "cell_type": "markdown",
   "id": "a5b030ec",
   "metadata": {},
   "source": [
    "Menyisipkan kode program tanpa mengeksekusi dan terdapat pewarnaanya.\n",
    "\n",
    "```python\n",
    "for i in range(0, 11):\n",
    "    print(i)\n",
    "```"
   ]
  },
  {
   "cell_type": "markdown",
   "id": "336e3f42",
   "metadata": {},
   "source": [
    "## Persamaan\n",
    "Terdapat dukungan untuk persamaan dalam Markdown pada Notebook Python menggunakan MathJax.\n",
    "\n",
    "Contoh untuk persamaan kuadrat secara inline $y = ax^2 + bx +c$."
   ]
  },
  {
   "cell_type": "markdown",
   "id": "f785d6d5",
   "metadata": {},
   "source": [
    "Untuk satu blok persamaan\n",
    "\n",
    "\\begin{equation}\\label{eqn1}\\tag{1}\n",
    "y = ax^2 + bx + c\n",
    "\\end{equation}\n",
    "\n",
    "Merujuk Persamaan \\eqref{eqn1} adalah persamaan kuadrat.\n",
    "\n",
    "\\begin{equation}\\label{eqn2}\\tag{2}\n",
    "\\frac{1 + \\sin\\theta + \\sqrt{2x^ + 10}}{20 + y}\n",
    "\\end{equation}\n"
   ]
  },
  {
   "cell_type": "markdown",
   "id": "6b3565cd",
   "metadata": {},
   "source": [
    "### Matriks\n",
    "Terdapat matriks berikut\n",
    "\n",
    "\\begin{equation}\\label{eqn3}\\tag{3}\n",
    "M = \\left[\n",
    "\\begin{array}{cccc}\n",
    "1 & 2 & 3 & 4 \\newline\n",
    "x^2 & 2 & 3 & \\sin\\gamma \\newline\n",
    "1 & 2 & 3 & 4 \\newline\n",
    "1 & 2 & 3 & \\sqrt{20x - \\beta} \\newline\n",
    "\\end{array}\n",
    "\\right]\n",
    "\\end{equation}\n",
    "\n"
   ]
  },
  {
   "cell_type": "code",
   "execution_count": 17,
   "id": "6e8f8b4f",
   "metadata": {},
   "outputs": [
    {
     "data": {
      "text/html": [
       "\n",
       "<div id='svgWrapper' style=\"border: 1px dashed #0f0; background: #88f; width: 400px; text-align: center;\">\n",
       "    <img src='external.svg'/>\n",
       "</div>\n"
      ],
      "text/plain": [
       "<IPython.core.display.HTML object>"
      ]
     },
     "metadata": {},
     "output_type": "display_data"
    }
   ],
   "source": [
    "%%html\n",
    "\n",
    "<div id='svgWrapper' style=\"border: 1px dashed #0f0; background: #88f; width: 400px;\">\n",
    "    <img src='external.svg'/>\n",
    "</div>"
   ]
  },
  {
   "cell_type": "markdown",
   "id": "d2c9f629",
   "metadata": {},
   "source": [
    "# Plot kurva\n",
    "Dengan menggunakan matplotlib dapat digambarkan kurva."
   ]
  },
  {
   "cell_type": "code",
   "execution_count": 19,
   "id": "c5ef0dc8",
   "metadata": {},
   "outputs": [
    {
     "data": {
      "text/plain": [
       "Text(0, 0.5, 'y')"
      ]
     },
     "execution_count": 19,
     "metadata": {},
     "output_type": "execute_result"
    },
    {
     "data": {
      "image/png": "[encoded data removed]",
      "text/plain": [
       "<Figure size 432x288 with 1 Axes>"
      ]
     },
     "metadata": {
      "needs_background": "light"
     },
     "output_type": "display_data"
    }
   ],
   "source": [
    "import numpy as np\n",
    "import matplotlib.pyplot as plt\n",
    "plt.ion()\n",
    "\n",
    "# generate x\n",
    "x = [0, 1, 2, 3, 4, 5, 6]\n",
    "\n",
    "# generate y\n",
    "y = [1, 2, 3, 4, 3, 2, 1]\n",
    "\n",
    "## plot results\n",
    "fig, ax = plt.subplots()\n",
    "ax.scatter(x, y)\n",
    "ax.set_xlabel(\"x\")\n",
    "ax.set_ylabel(\"y\")"
   ]
  },
  {
   "cell_type": "markdown",
   "id": "4f5f1e7a",
   "metadata": {},
   "source": [
    "### Plot dengan fungsi\n",
    "Terdapat fungsi g sebagai berikut\n",
    "\n",
    "\\begin{equation}\n",
    "g(x) = 5 \\sin x\n",
    "\\end{equation}"
   ]
  },
  {
   "cell_type": "code",
   "execution_count": 26,
   "id": "d6f466ae",
   "metadata": {},
   "outputs": [
    {
     "data": {
      "text/plain": [
       "Text(0, 0.5, 'y')"
      ]
     },
     "execution_count": 26,
     "metadata": {},
     "output_type": "execute_result"
    },
    {
     "data": {
      "image/png": "[encoded data removed]",
      "text/plain": [
       "<Figure size 432x288 with 1 Axes>"
      ]
     },
     "metadata": {
      "needs_background": "light"
     },
     "output_type": "display_data"
    }
   ],
   "source": [
    "import numpy as np\n",
    "import matplotlib.pyplot as plt\n",
    "import math\n",
    "\n",
    "plt.ion()\n",
    "\n",
    "# g(x) = 5 sin x\n",
    "def g(x):\n",
    "    y = 5 * math.sin(x)\n",
    "    return y\n",
    "\n",
    "x = []\n",
    "y = []\n",
    "for i in range(0, 21):\n",
    "    xx = 2 * math.pi * i / 20\n",
    "    yy = g(xx)\n",
    "    \n",
    "    x.append(xx)\n",
    "    y.append(yy)\n",
    "\n",
    "## plot results\n",
    "fig, ax = plt.subplots()\n",
    "ax.scatter(x, y)\n",
    "ax.set_xlabel(\"x\")\n",
    "ax.set_ylabel(\"y\")"
   ]
  },
  {
   "cell_type": "markdown",
   "id": "ed0bec90",
   "metadata": {},
   "source": [
    "## tabel\n",
    "Dalam Markdown dapat dibuat tabel dengan lebih sederhana dibandingkan dalam HTML.\n",
    "\n",
    "Titik | $x$  | $y$ | $z$\n",
    ":-:   | :-:  | :-: | :-:\n",
    "A     | 1    | 2   | 3\n",
    "B     | -1   | -2  | -3\n",
    "C     | 0.11 | 1   | 1\n",
    "D     | 0    | 0   | 0\n",
    "E     | 1    | 1   | 1\n",
    "\n",
    "```markdown\n",
    "Titik | $x$  | $y$ | $z$\n",
    ":-:   | :-:  | :-: | :-:\n",
    "A     | 1    | 2   | 3\n",
    "B     | -1   | -2  | -3\n",
    "C     | 0.11 | 1   | 1\n",
    "D     | 0    | 0   | 0\n",
    "E     | 1    | 1   | 1\n",
    "\n",
    "```\n",
    "\n"
   ]
  },
  {
   "cell_type": "markdown",
   "id": "681cd306",
   "metadata": {},
   "source": [
    "Tabel dengan HTML murni dengan hasilnya\n",
    "\n",
    "<table>\n",
    "    <tr>\n",
    "        <td>Titik</td><td>$x$</td><td>$y$</td><td>$z$</td>\n",
    "    </tr>\n",
    "    <tr>\n",
    "        <td>A</td><td>1</td><td>2</td><td>3</td>\n",
    "    </tr>\n",
    "    <tr>\n",
    "        <td>B</td><td>-1</td><td>-2</td><td>-3</td>\n",
    "    </tr>\n",
    "</table>\n",
    "\n",
    "menggunakan kode HTML berikut\n",
    "\n",
    "```html\n",
    "<table>\n",
    "    <tr>\n",
    "        <td>Titik</td><td>$x$</td><td>$y$</td><td>$z$</td>\n",
    "    </tr>\n",
    "    <tr>\n",
    "        <td>A</td><td>1</td><td>2</td><td>3</td>\n",
    "    </tr>\n",
    "    <tr>\n",
    "        <td>B</td><td>-1</td><td>-2</td><td>-3</td>\n",
    "    </tr>\n",
    "</table>\n",
    "```"
   ]
  },
  {
   "cell_type": "code",
   "execution_count": null,
   "id": "c651059e",
   "metadata": {},
   "outputs": [],
   "source": []
  }
 ],
 "metadata": {
  "kernelspec": {
   "display_name": "Python 3 (ipykernel)",
   "language": "python",
   "name": "python3"
  },
  "language_info": {
   "codemirror_mode": {
    "name": "ipython",
    "version": 3
   },
   "file_extension": ".py",
   "mimetype": "text/x-python",
   "name": "python",
   "nbconvert_exporter": "python",
   "pygments_lexer": "ipython3",
   "version": "3.10.4"
  }
 },
 "nbformat": 4,
 "nbformat_minor": 5
}
