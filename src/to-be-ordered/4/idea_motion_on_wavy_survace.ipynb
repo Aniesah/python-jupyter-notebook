{
 "cells": [
  {
   "cell_type": "markdown",
   "id": "b774ddd7",
   "metadata": {},
   "source": [
    "# motion on a wavy survace formulation (idea)\n",
    "Idea and algoritm for motion of a point mass along a line on a wavy surface [1]."
   ]
  },
  {
   "cell_type": "markdown",
   "id": "f92088ab",
   "metadata": {},
   "source": [
    "<h2 style=\"color:#27e; padding-bottom:0.5em;\">wavy surface</h2>\n",
    "To simplify the problem, a line is assumed always on the surface, that so that\n",
    "\n",
    "$$\\tag{1}\n",
    "y(x, z) \\approx y(x),\n",
    "$$\n",
    "\n",
    "where the third dimension has not yet been considered."
   ]
  },
  {
   "cell_type": "markdown",
   "id": "192012cd",
   "metadata": {},
   "source": [
    "### trajectory\n",
    "Suppose there is a trajectory on a wavy surface, with assumption of (1), which can be expressed as\n",
    "\n",
    "$$\\tag{2}\n",
    "y_w = y_w(x),\n",
    "$$\n",
    "\n",
    "that is continued for $x \\in [x_{\\rm beg}, x_{\\rm end}]$."
   ]
  },
  {
   "cell_type": "markdown",
   "id": "be8f624b",
   "metadata": {},
   "source": [
    "### tangent\n",
    "Angle $\\theta$ of tangent to the trajectory is measured from $x$ axis in counter clockwise direction, which can be obtained through\n",
    "\n",
    "$$\\tag{3}\n",
    "\\tan \\theta = \\frac{dy_w}{dx}\n",
    "$$\n",
    "\n",
    "at every point $(x, y)$, where $y_w$ is given from (2). At time $t = t_A$ and on the position $(x_A, y_A)$ the angle, from (3), is\n",
    "\n",
    "$$\\tag{4}\n",
    "\\tan \\theta_A = \\left. \\frac{dy_w}{dx} \\right|_{x = x_A},\n",
    "$$\n",
    "\n",
    "which makes equation of tangent is simply\n",
    "\n",
    "$$\\tag{5}\n",
    "y_t = y_A + \\tan \\theta_A \\ (x - x_A)\n",
    "$$\n",
    "\n",
    "with the help of (4). A very short incline of length $\\Delta s$ is one of perspectives how to interpretate (5)."
   ]
  },
  {
   "cell_type": "markdown",
   "id": "b6e861df",
   "metadata": {},
   "source": [
    "<h2 style=\"color:#27e; padding-bottom:0.5em;\">forces</h2>\n",
    "Some forces are considered in this system, which are normal, gravitational, and frictional forces."
   ]
  },
  {
   "cell_type": "markdown",
   "id": "f3b0d018",
   "metadata": {},
   "source": [
    "### normal force\n",
    "A point mass $m$ is placed on the surface, along the trajectory, at position $(x_A, y_A)$. It will have normal force due to contact with the surface in the form of\n",
    "\n",
    "$$\\tag{6}\n",
    "\\vec{N} = N \\cos (\\theta_A + \\tfrac12 \\pi) \\ \\hat{x} + N \\sin (\\theta_A + \\tfrac12 \\pi) \\ \\hat{y},\n",
    "$$\n",
    "\n",
    "where\n",
    "\n",
    "$$\\tag{7}\n",
    "N = mg \\cos \\theta_A\n",
    "$$\n",
    "\n",
    "using rotated coordinate."
   ]
  },
  {
   "cell_type": "markdown",
   "id": "951ebae0",
   "metadata": {},
   "source": [
    "### gravitational force\n",
    "The point mass $m$ is also suffered from gravitational force\n",
    "\n",
    "$$\\tag{8}\n",
    "\\vec{W} = - mg \\ \\hat{y},\n",
    "$$\n",
    "\n",
    "where $g$ is acceleration due to gravity."
   ]
  },
  {
   "cell_type": "markdown",
   "id": "a94acf43",
   "metadata": {},
   "source": [
    "### frictional force\n",
    "If the point mass is moving with velocity $\\vec{v}$ it will have friction in the form of\n",
    "\n",
    "$$\\tag{9}\n",
    "\\vec{D} = -(c_0 + c_1 |v| + c_2 v^2) \\ \\hat{v},\n",
    "$$\n",
    "\n",
    "where $c_0$, $c_1$, $c_2$ values is depend on the medium."
   ]
  },
  {
   "cell_type": "markdown",
   "id": "4d22dfb2",
   "metadata": {},
   "source": [
    "### forces components\n",
    "Using (6), (7), (8) and (9) force in $x$ and $y$ directions can be obtained as\n",
    "\n",
    "$$\\tag{10}\n",
    "F_x = mg \\cos \\theta_A \\cos (\\theta_A + \\tfrac12 \\pi) - (c_0 + c_1 |v| + c_2 v^2) \\ \\hat{v}\\cdot\\vec{x}\n",
    "$$\n",
    "\n",
    "and\n",
    "\n",
    "$$\\tag{11}\n",
    "F_y = mg \\cos \\theta_A \\sin (\\theta_A + \\tfrac12 \\pi) - mg - (c_0 + c_1 |v| + c_2 v^2) \\ \\hat{v}\\cdot\\vec{y}\n",
    "$$\n",
    "\n",
    "which later will be used to get acceleration of the point mass using Newton's 2nd law of motions."
   ]
  },
  {
   "cell_type": "markdown",
   "id": "e3f70515",
   "metadata": {},
   "source": [
    "<h2 style=\"color:#27e; padding-bottom:0.5em;\">solution</h2>\n",
    "For the solution only special case is discussed by choosing $c_0 = c_1 = c_2 = 0$."
   ]
  },
  {
   "cell_type": "markdown",
   "id": "3f49881c",
   "metadata": {},
   "source": [
    "### equation of motion\n",
    "From (10) and (11) following equation can be obtained\n",
    "\n",
    "$$\\tag{12}\n",
    "a_x = - g cos \\theta_A \\sin \\theta_A\n",
    "$$\n",
    "\n",
    "and\n",
    "\n",
    "$$\\tag{13}\n",
    "a_y = g \\ (\\cos^2 \\theta_A - 1) = - g \\sin^2 \\theta_A.\n",
    "$$"
   ]
  },
  {
   "cell_type": "markdown",
   "id": "ba43d3fd",
   "metadata": {},
   "source": [
    "### incline\n",
    "By choosing $\\theta_A = \\tfrac14 \\pi$ we can have\n",
    "\n",
    "$$\\tag{14}\n",
    "a_x = - \\tfrac12 mg\n",
    "$$\n",
    "\n",
    "and\n",
    "\n",
    "$$\\tag{15}\n",
    "a_y = - \\tfrac12 mg,\n",
    "$$\n",
    "\n",
    "which give trajectory with $\\theta = \\tfrac14 \\pi$ as expected, if $v_x(0) = v_y(0) = 0$. For arbitrary incline it can obtained that\n",
    "\n",
    "$$\\tag{16}\n",
    "x = x_0 + \\int \\left( v_0 \\cos \\theta_A - \\int g \\sin^2 \\theta_A dt \\right) dt\n",
    "$$\n",
    "\n",
    "and\n",
    "\n",
    "$$\\tag{17}\n",
    "y = y_0 + \\int \\left( v_0 \\sin \\theta_A - \\int g cos \\theta_A \\sin \\theta_A dt \\right) dt,\n",
    "$$\n",
    "\n",
    "that gives\n",
    "\n",
    "$$\\tag{18}\n",
    "x = x_0 + (v_0 \\cos \\theta_A) \\ t - \\tfrac12 (g \\sin^2 \\theta_A) \\ t^2\n",
    "$$\n",
    "\n",
    "and\n",
    "\n",
    "$$\\tag{19}\n",
    "y = y_0 + (v_0 \\sin \\theta_A) \\ t - \\tfrac12 (g cos \\theta_A \\sin \\theta_A) \\ t^2.\n",
    "$$"
   ]
  },
  {
   "cell_type": "markdown",
   "id": "71ffbdc6",
   "metadata": {},
   "source": [
    "<h2 style=\"color:#27e; padding-bottom:0.5em;\">references</h2>\n",
    "1. SingYu Lam, \"Wavy Surface\", 10 Aug 2018, url https://singyulam.com/blog/2018/8/10/wavy-surface [20221115]."
   ]
  },
  {
   "cell_type": "code",
   "execution_count": null,
   "id": "021a6832",
   "metadata": {},
   "outputs": [],
   "source": []
  }
 ],
 "metadata": {
  "authors": [
   {
    "name": "Sparisoma Viridi"
   },
   {
    "name": "Septian Ulan Dini"
   }
  ],
  "kernelspec": {
   "display_name": "Python 3 (ipykernel)",
   "language": "python",
   "name": "python3"
  },
  "language_info": {
   "codemirror_mode": {
    "name": "ipython",
    "version": 3
   },
   "file_extension": ".py",
   "mimetype": "text/x-python",
   "name": "python",
   "nbconvert_exporter": "python",
   "pygments_lexer": "ipython3",
   "version": "3.9.12"
  },
  "title": "idea_motion_on_wavy_surface"
 },
 "nbformat": 4,
 "nbformat_minor": 5
}
