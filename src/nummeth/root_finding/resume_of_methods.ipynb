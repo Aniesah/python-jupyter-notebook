{
 "cells": [
  {
   "cell_type": "markdown",
   "id": "cca11c7c",
   "metadata": {},
   "source": [
    "# resume_of_methods\n",
    "Find a root in an interval using various methods (resume)"
   ]
  },
  {
   "cell_type": "markdown",
   "id": "e3d9e006",
   "metadata": {},
   "source": [
    "$$\\tag{1}\n",
    "f(x) = \\sin(x - 0.26\\pi) - 0.41\n",
    "$$"
   ]
  },
  {
   "cell_type": "markdown",
   "id": "2f5cf01b",
   "metadata": {},
   "source": [
    "## newton-raphson method\n",
    "$$\\tag{2}\n",
    "x_{n+1} = x_n - \\frac{f(x_n)}{f'(x_n)}\n",
    "$$"
   ]
  },
  {
   "cell_type": "markdown",
   "id": "93713b6f",
   "metadata": {},
   "source": [
    "## secant method\n",
    "$$\\tag{3}\n",
    "x_{n+2} = x_{n+1} - \\frac{(x_{n+1}-x_n)f(x_{n+1})}{f(x_{n+1})-f(x_n)}\n",
    "$$"
   ]
  },
  {
   "cell_type": "markdown",
   "id": "c6aa5af9",
   "metadata": {},
   "source": [
    "## fixed point iteration method\n",
    "$$\\tag{4}\n",
    "x_{n + 1} = 2 \\sin^{-1} \\left[ \\frac{\\displaystyle 0.205}{\\displaystyle \\cos(\\tfrac12 x_n - 0.13\\pi)} \\right] + 0.26\\pi = g(x_n).\n",
    "$$\n",
    "\n",
    "Eqn (4) depends on Eqn (1), while Eqns (2)-(3) does not depend on it."
   ]
  },
  {
   "cell_type": "code",
   "execution_count": null,
   "id": "c25a7290",
   "metadata": {},
   "outputs": [],
   "source": []
  }
 ],
 "metadata": {
  "authors": [
   {
    "name": "Sparisoma Viridi"
   }
  ],
  "kernelspec": {
   "display_name": "Python 3 (ipykernel)",
   "language": "python",
   "name": "python3"
  },
  "language_info": {
   "codemirror_mode": {
    "name": "ipython",
    "version": 3
   },
   "file_extension": ".py",
   "mimetype": "text/x-python",
   "name": "python",
   "nbconvert_exporter": "python",
   "pygments_lexer": "ipython3",
   "version": "3.10.9"
  },
  "title": "secant_method"
 },
 "nbformat": 4,
 "nbformat_minor": 5
}
