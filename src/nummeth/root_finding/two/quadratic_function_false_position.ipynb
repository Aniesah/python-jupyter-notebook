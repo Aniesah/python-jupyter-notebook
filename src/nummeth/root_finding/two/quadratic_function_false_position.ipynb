{
 "cells": [
  {
   "cell_type": "markdown",
   "id": "cca11c7c",
   "metadata": {},
   "source": [
    "# quadratic_function_false_position\n",
    "Roots of quadratic function using false position method"
   ]
  },
  {
   "cell_type": "markdown",
   "id": "a975d482",
   "metadata": {},
   "source": [
    "## quadratic equation\n",
    "\n",
    "$$\\tag{1}\n",
    "f(x) = c_2 x^2 + c_1 x + c_0\n",
    "$$"
   ]
  },
  {
   "cell_type": "code",
   "execution_count": 11,
   "id": "ea49d784",
   "metadata": {},
   "outputs": [],
   "source": [
    "def f(x, c):\n",
    "    y = c[2] * x**2\n",
    "    y += c[1] * x\n",
    "    y += c[0]\n",
    "    return y"
   ]
  },
  {
   "cell_type": "markdown",
   "id": "ddb5ae10",
   "metadata": {},
   "source": [
    "## false position method\n",
    "$$\\tag{2}\n",
    "x_{n+2} = \\frac{x_n f(x_{n+1}) - x_{n+1} f(x_n)}{f(x_{n+1}) - f(x_n)}\n",
    "$$\n"
   ]
  },
  {
   "cell_type": "code",
   "execution_count": 30,
   "id": "7b45c454",
   "metadata": {},
   "outputs": [],
   "source": [
    "def false_position(xinit, func, coefs, eps, msg=False):\n",
    "    c = coefs\n",
    "    xroot = xinit.copy()\n",
    "    i = 2\n",
    "    dx = 10\n",
    "    \n",
    "    if msg:\n",
    "        print(\"iter root         f(root)\")\n",
    "    \n",
    "    while dx > eps and i < 20:\n",
    "        x0 = xroot[i-2]\n",
    "        x1 = xroot[i-1]\n",
    "        if i == 2:\n",
    "            if msg:\n",
    "                print(f\"{i-2:04d}\", f\"{x0:.6E}\", f\"{f0:+.6E}\")\n",
    "                print(f\"{i-1:04d}\", f\"{x1:.6E}\", f\"{f1:+.6E}\")\n",
    "        \n",
    "        f0 = func(x0, coefs)\n",
    "        f1 = func(x1, coefs)\n",
    "                \n",
    "        x2 =  (x0 * f1 - x1 * f0) / (f1 - f0)\n",
    "        f2 = func(x2, coefs)\n",
    "\n",
    "        xroot.append(x2)\n",
    "        dx = abs(f2)\n",
    "        \n",
    "        if msg:\n",
    "            print(f\"{i:04d}\", f\"{x2:.6E}\", f\"{f2:+.6E}\")\n",
    "        i += 1\n",
    "    \n",
    "    if msg:\n",
    "        print()\n",
    "        print(\"root =\", xroot[-1])\n",
    "        print(\"f(root) =\", func(xroot[-1], c))\n",
    "    \n",
    "    return xroot[-1]"
   ]
  },
  {
   "cell_type": "code",
   "execution_count": 31,
   "id": "0db07f4e",
   "metadata": {},
   "outputs": [
    {
     "name": "stdout",
     "output_type": "stream",
     "text": [
      "root = 5.0000000055879354\n"
     ]
    }
   ],
   "source": [
    "coefs = [10, -7, 1]\n",
    "xinit = [6, 8]\n",
    "eps = 1E-5\n",
    "root = false_position(xinit, f, coefs, eps)\n",
    "print(\"root =\", root)"
   ]
  },
  {
   "cell_type": "code",
   "execution_count": null,
   "id": "6b16a516",
   "metadata": {},
   "outputs": [],
   "source": []
  }
 ],
 "metadata": {
  "authors": [
   {
    "name": "Sparisoma Viridi"
   }
  ],
  "kernelspec": {
   "display_name": "Python 3 (ipykernel)",
   "language": "python",
   "name": "python3"
  },
  "language_info": {
   "codemirror_mode": {
    "name": "ipython",
    "version": 3
   },
   "file_extension": ".py",
   "mimetype": "text/x-python",
   "name": "python",
   "nbconvert_exporter": "python",
   "pygments_lexer": "ipython3",
   "version": "3.10.9"
  },
  "title": "quadratic_function_false_position"
 },
 "nbformat": 4,
 "nbformat_minor": 5
}
