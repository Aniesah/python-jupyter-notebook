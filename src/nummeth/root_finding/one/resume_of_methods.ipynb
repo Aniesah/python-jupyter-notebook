{
 "cells": [
  {
   "cell_type": "markdown",
   "id": "cca11c7c",
   "metadata": {},
   "source": [
    "# resume_of_methods\n",
    "Find a root in an interval using various methods (resume)"
   ]
  },
  {
   "cell_type": "markdown",
   "id": "e3d9e006",
   "metadata": {},
   "source": [
    "$$\\tag{1}\n",
    "f(x) = \\sin(x - 0.26\\pi) - 0.41\n",
    "$$"
   ]
  },
  {
   "cell_type": "markdown",
   "id": "7d0e29c3",
   "metadata": {},
   "source": [
    "## newton-raphson method\n",
    "$$\\tag{2}\n",
    "x_{n+1} = x_n - \\frac{f(x_n)}{f'(x_n)}\n",
    "$$"
   ]
  },
  {
   "cell_type": "markdown",
   "id": "b06e77e4",
   "metadata": {},
   "source": [
    "## secant method\n",
    "$$\\tag{3}\n",
    "x_{n+2} = x_{n+1} - \\frac{(x_{n+1}-x_n)f(x_{n+1})}{f(x_{n+1})-f(x_n)}\n",
    "$$"
   ]
  },
  {
   "cell_type": "markdown",
   "id": "c6aa5af9",
   "metadata": {},
   "source": [
    "## fixed point iteration method\n",
    "$$\\tag{4}\n",
    "x_{n + 1} = 2 \\sin^{-1} \\left[ \\frac{\\displaystyle 0.205}{\\displaystyle \\cos(\\tfrac12 x_n - 0.13\\pi)} \\right] + 0.26\\pi = g(x_n).\n",
    "$$\n",
    "\n",
    "Eqn (4) depends on Eqn (1), while Eqns (2)-(3) does not depend on it."
   ]
  },
  {
   "cell_type": "markdown",
   "id": "d1b828d5",
   "metadata": {},
   "source": [
    "## comparison\n",
    "\n",
    "Method | Steps | $x_{\\rm root}$| $f(x_{\\rm root})$\n",
    ":- | :-: | :-: | :-:\n",
    "graphical | - | 1.239375 | 9.745206378231064e-05\n",
    "scanning | 100000 | 1.239265 | -2.875005146396603e-06\n",
    "bisection | 20 | 1.239267349243164 | -7.322925634212218e-07\n",
    "Newton-Raphson | 4 | 1.2392681520841933 | -3.275180127104704e-11\n",
    "secant | 7 | 1.239268151938497 | -1.656393355808916e-10\n",
    "fixed point iteration | 8 | 1.2392674053631287 | -6.811063382738958e-07"
   ]
  },
  {
   "cell_type": "code",
   "execution_count": null,
   "id": "8a54c134",
   "metadata": {},
   "outputs": [],
   "source": [
    "1.239375            +9.75e-05\n",
    "1.23925             -2.87e-06\n",
    "1.239267349243164   -7.32e-07\n",
    "1.2392681520841933  +3.28e-11\n",
    "1.239268151938497   -1.66e-10\n",
    "1.2392674053631287  -6.81e-07"
   ]
  },
  {
   "cell_type": "code",
   "execution_count": null,
   "id": "d64a26ce",
   "metadata": {},
   "outputs": [],
   "source": [
    "import math\n",
    "def f(x):\n",
    "    y = math.sin(x - 0.26 * math.pi) - 0.41\n",
    "    return y\n",
    "\n",
    "print(f(1.239265))"
   ]
  },
  {
   "cell_type": "code",
   "execution_count": null,
   "id": "9af84862",
   "metadata": {},
   "outputs": [],
   "source": []
  }
 ],
 "metadata": {
  "authors": [
   {
    "name": "Sparisoma Viridi"
   }
  ],
  "kernelspec": {
   "display_name": "Python 3 (ipykernel)",
   "language": "python",
   "name": "python3"
  },
  "language_info": {
   "codemirror_mode": {
    "name": "ipython",
    "version": 3
   },
   "file_extension": ".py",
   "mimetype": "text/x-python",
   "name": "python",
   "nbconvert_exporter": "python",
   "pygments_lexer": "ipython3",
   "version": "3.10.9"
  },
  "title": "secant_method"
 },
 "nbformat": 4,
 "nbformat_minor": 5
}
