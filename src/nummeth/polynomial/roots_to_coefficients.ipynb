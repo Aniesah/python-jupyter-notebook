{
 "cells": [
  {
   "cell_type": "markdown",
   "id": "cca11c7c",
   "metadata": {},
   "source": [
    "# roots_to_coefficients\n",
    "Relation between roots and polynomial coefficients\n",
    "Refs: [Polynomial Roots and Coefficients](https://www.youtube.com/watch?v=vFXXAxG5tkE&t=265s)"
   ]
  },
  {
   "cell_type": "markdown",
   "id": "a975d482",
   "metadata": {},
   "source": [
    "## polynomial\n",
    "A polynomial can be written in the form of\n",
    "\n",
    "$$\\tag{1}\n",
    "f(x) = \\sum_{n = 0}^N c_n x^n\n",
    "$$\n",
    "\n",
    "or\n",
    "\n",
    "$$\\tag{2}\n",
    "f(x) = \\prod_{m = 1}^M (x - x_m),\n",
    "$$\n",
    "\n",
    "where $x_m$ is m-th root and $N = M$ is order of polynomial."
   ]
  },
  {
   "cell_type": "markdown",
   "id": "97ca94eb",
   "metadata": {},
   "source": [
    "## usual notation for N = M = 1\n",
    "Since\n",
    "\n",
    "$$\\tag{3}\n",
    "f(x) = ax + b\n",
    "$$\n",
    "\n",
    "and\n",
    "\n",
    "$$\\tag{4}\n",
    "f(x) = (x - x_1)\n",
    "$$\n",
    "\n",
    "then it can be obta\n",
    "\n"
   ]
  }
 ],
 "metadata": {
  "authors": [
   {
    "name": "Sparisoma Viridi"
   }
  ],
  "kernelspec": {
   "display_name": "Python 3 (ipykernel)",
   "language": "python",
   "name": "python3"
  },
  "language_info": {
   "codemirror_mode": {
    "name": "ipython",
    "version": 3
   },
   "file_extension": ".py",
   "mimetype": "text/x-python",
   "name": "python",
   "nbconvert_exporter": "python",
   "pygments_lexer": "ipython3",
   "version": "3.10.9"
  },
  "title": "roots_to_coefficients"
 },
 "nbformat": 4,
 "nbformat_minor": 5
}
