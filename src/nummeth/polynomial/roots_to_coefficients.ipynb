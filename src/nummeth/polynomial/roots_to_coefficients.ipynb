{
 "cells": [
  {
   "cell_type": "markdown",
   "id": "cca11c7c",
   "metadata": {},
   "source": [
    "# roots_to_coefficients\n",
    "Relation between roots and polynomial coefficients\n",
    "<br>Refs: [Polynomial Roots and Coefficients](https://www.youtube.com/watch?v=7xCJrTc366k)"
   ]
  },
  {
   "cell_type": "markdown",
   "id": "a975d482",
   "metadata": {},
   "source": [
    "## polynomial\n",
    "A polynomial can be written in the form of\n",
    "\n",
    "$$\\tag{1}\n",
    "f(x) = \\sum_{n = 0}^N c_n x^n\n",
    "$$\n",
    "\n",
    "or\n",
    "\n",
    "$$\\tag{2}\n",
    "f(x) = \\prod_{m = 1}^M (x - x_m),\n",
    "$$\n",
    "\n",
    "where $x_m$ is m-th root and $N = M$ is order of polynomial."
   ]
  },
  {
   "cell_type": "markdown",
   "id": "95687ab7",
   "metadata": {},
   "source": [
    "## usual notation for N = M = 1\n",
    "Since\n",
    "\n",
    "$$\\tag{3}\n",
    "f(x) = ax + b\n",
    "$$\n",
    "\n",
    "and\n",
    "\n",
    "$$\\tag{4}\n",
    "f(x) = (x - \\alpha)\n",
    "$$\n",
    "\n",
    "then it can be obtained that\n",
    "\n",
    "$$\\tag{4}\n",
    "\\alpha = - \\frac{b}{a}\n",
    "$$\n",
    "\n",
    "is the only root of Eqn (3) and (4)."
   ]
  },
  {
   "cell_type": "markdown",
   "id": "3d62a81b",
   "metadata": {},
   "source": [
    "## usual notation for N = M = 2\n",
    "Since\n",
    "\n",
    "$$\\tag{5}\n",
    "f(x) = ax^2 + bx + c\n",
    "$$\n",
    "\n",
    "and\n",
    "\n",
    "$$\\tag{6}\n",
    "f(x) = (x - \\alpha)(x - \\beta)\n",
    "$$\n",
    "\n",
    "then it can be obtained that\n",
    "\n",
    "$$\\tag{7}\n",
    "\\alpha + \\beta = -\\frac{b}{a}\n",
    "$$\n",
    "\n",
    "and\n",
    "\n",
    "$$\\tag{8}\n",
    "\\alpha \\beta = \\frac{c}{a}\n",
    "$$\n",
    "\n",
    "which showing the relation between coefficients of Eqn (5) and roots of Eqn (6)."
   ]
  },
  {
   "cell_type": "markdown",
   "id": "b55b0e56",
   "metadata": {},
   "source": [
    "## usual notation for N = M = 3\n",
    "Since\n",
    "\n",
    "$$\\tag{9}\n",
    "f(x) = ax^3 + bx^2 + cx + d\n",
    "$$\n",
    "\n",
    "and\n",
    "\n",
    "$$\\tag{10}\n",
    "f(x) = (x - \\alpha)(x - \\beta)(x - \\gamma)\n",
    "$$\n",
    "\n",
    "then it can be obtained that\n",
    "\n",
    "$$\\tag{11}\n",
    "\\alpha + \\beta + \\gamma = -\\frac{b}{a},\n",
    "$$\n",
    "\n",
    "$$\\tag{12}\n",
    "\\alpha \\beta + \\alpha \\gamma + \\beta \\gamma = \\frac{c}{a}\n",
    "$$\n",
    "\n",
    "and\n",
    "\n",
    "$$\\tag{13}\n",
    "\\alpha \\beta \\gamma = -\\frac{d}{a}\n",
    "$$\n",
    "\n",
    "which showing the relation between coefficients of Eqn (5) and roots of Eqn (6)."
   ]
  },
  {
   "cell_type": "markdown",
   "id": "ab8ecb66",
   "metadata": {},
   "source": [
    "## usual notation for N = M = 4\n",
    "Since\n",
    "\n",
    "$$\\tag{14}\n",
    "f(x) = ax^4 + bx^3 + cx^2 + dx + e\n",
    "$$\n",
    "\n",
    "and\n",
    "\n",
    "$$\\tag{15}\n",
    "f(x) = (x - \\alpha)(x - \\beta)(x - \\gamma)(x - \\delta)\n",
    "$$\n",
    "\n",
    "then it can be obtained that\n",
    "\n",
    "$$\\tag{16}\n",
    "\\alpha + \\beta + \\gamma + \\delta = -\\frac{b}{a},\n",
    "$$\n",
    "\n",
    "$$\\tag{17}\n",
    "\\alpha x_2 + \\alpha \\gamma + \\alpha \\delta + \\beta \\gamma + \\beta \\delta + \\gamma \\delta = \\frac{c}{a},\n",
    "$$\n",
    "\n",
    "$$\\tag{18}\n",
    "\\alpha \\beta \\gamma + \\alpha \\beta \\delta + \\alpha \\gamma \\delta + \\beta \\gamma \\delta = -\\frac{d}{a}\n",
    "$$\n",
    "\n",
    "and\n",
    "\n",
    "$$\\tag{19}\n",
    "\\alpha \\beta \\gamma \\delta = \\frac{e}{a}\n",
    "$$\n",
    "\n",
    "which showing the relation between coefficients of Eqn (5) and roots of Eqn (6)."
   ]
  },
  {
   "cell_type": "code",
   "execution_count": null,
   "id": "0c33a30e",
   "metadata": {},
   "outputs": [],
   "source": []
  }
 ],
 "metadata": {
  "authors": [
   {
    "name": "Sparisoma Viridi"
   }
  ],
  "kernelspec": {
   "display_name": "Python 3 (ipykernel)",
   "language": "python",
   "name": "python3"
  },
  "language_info": {
   "codemirror_mode": {
    "name": "ipython",
    "version": 3
   },
   "file_extension": ".py",
   "mimetype": "text/x-python",
   "name": "python",
   "nbconvert_exporter": "python",
   "pygments_lexer": "ipython3",
   "version": "3.10.9"
  },
  "title": "roots_to_coefficients"
 },
 "nbformat": 4,
 "nbformat_minor": 5
}
