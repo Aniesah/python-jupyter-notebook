{
 "cells": [
  {
   "cell_type": "markdown",
   "id": "cca11c7c",
   "metadata": {},
   "source": [
    "# bee_pollination_model"
   ]
  },
  {
   "cell_type": "code",
   "execution_count": 1,
   "id": "a0d9d98b",
   "metadata": {},
   "outputs": [],
   "source": [
    "# create list of time\n",
    "def create_time(tmin, tmax, dt):\n",
    "    trange = range(tmin, tmax + 1, 1)\n",
    "    t = [*trange]\n",
    "    return t\n",
    "\n",
    "# set fertile time on list of time\n",
    "def set_fertile(t, tbeg, tend):\n",
    "    tfertile = [1 if j >= tbeg and j <= tend else 0 for j in t]\n",
    "    return tfertile\n",
    "\n",
    "# set visit time on list of time\n",
    "def set_visit(t, offset, period, length):\n",
    "    tvisit = []\n",
    "    for i in range(len(t)):\n",
    "        if (i - offset) % period == 0:\n",
    "            for j in range(length):\n",
    "                tvisit.append(1)\n",
    "        else:\n",
    "            tvisit.append(0)\n",
    "        if(len(tvisit) == len(t)):\n",
    "            break\n",
    "    return tvisit"
   ]
  },
  {
   "cell_type": "code",
   "execution_count": null,
   "id": "7baef765",
   "metadata": {},
   "outputs": [],
   "source": [
    "import matplotlib.pyplot as plt\n",
    "import numpy as np\n",
    "\n",
    "# create time\n",
    "t = create_time(0, 240, 1)"
   ]
  },
  {
   "cell_type": "code",
   "execution_count": null,
   "id": "ff5a8565",
   "metadata": {},
   "outputs": [],
   "source": [
    "# show fertile time\n",
    "f1 = set_fertile(t, 96, 144)\n",
    "\n",
    "fig = plt.figure()\n",
    "fig.set_figwidth(10)\n",
    "fig.set_figheight(2)\n",
    "\n",
    "plt.xticks(np.arange(min(t), max(t)+1, 24))\n",
    "plt.yticks(np.arange(min(f1), max(f1)+1, 0.2))\n",
    "plt.grid()\n",
    "plt.fill_between(t, f1, color='#cfc')\n",
    "plt.plot(t, f1, 'g')\n",
    "\n",
    "plt.legend([\"f1 = fertile time\"])\n",
    "\n",
    "plt.xlabel(\"t (hour)\")\n",
    "plt.ylabel(\"probability\")\n",
    "\n",
    "plt.show()"
   ]
  },
  {
   "cell_type": "code",
   "execution_count": null,
   "id": "78356069",
   "metadata": {},
   "outputs": [],
   "source": [
    "# show visit time\n",
    "f2 = set_visit(t, 8, 24, 4)\n",
    "\n",
    "fig = plt.figure()\n",
    "fig.set_figwidth(10)\n",
    "fig.set_figheight(2)\n",
    "\n",
    "plt.xticks(np.arange(min(t), max(t)+1, 24))\n",
    "plt.yticks(np.arange(min(f1), max(f1)+1, 0.2))\n",
    "plt.grid()\n",
    "plt.fill_between(t, f2, color='#ccf')\n",
    "plt.plot(t, f2, 'b')\n",
    "\n",
    "plt.legend([\"f2 = visit time\"])\n",
    "\n",
    "plt.xlabel(\"t (hour)\")\n",
    "plt.ylabel(\"probability\")\n",
    "\n",
    "plt.show()"
   ]
  },
  {
   "cell_type": "code",
   "execution_count": null,
   "id": "7a5b3476",
   "metadata": {},
   "outputs": [],
   "source": [
    "fig = plt.figure()\n",
    "fig.set_figwidth(10)\n",
    "fig.set_figheight(2)\n",
    "\n",
    "plt.xticks(np.arange(min(t), max(t)+1, 24))\n",
    "plt.yticks(np.arange(min(f1), max(f1)+1, 0.2))\n",
    "plt.grid()\n",
    "plt.fill_between(t, f1, color='#cfc')\n",
    "plt.fill_between(t, f2, color='#ccf')\n",
    "plt.plot(t, f1, 'g', t, f2, 'b')"
   ]
  },
  {
   "cell_type": "code",
   "execution_count": null,
   "id": "40bfc1fa",
   "metadata": {},
   "outputs": [],
   "source": []
  }
 ],
 "metadata": {
  "authors": [
   {
    "name": "Sparisoma Viridi"
   }
  ],
  "kernelspec": {
   "display_name": "Python 3 (ipykernel)",
   "language": "python",
   "name": "python3"
  },
  "language_info": {
   "codemirror_mode": {
    "name": "ipython",
    "version": 3
   },
   "file_extension": ".py",
   "mimetype": "text/x-python",
   "name": "python",
   "nbconvert_exporter": "python",
   "pygments_lexer": "ipython3",
   "version": "3.10.9"
  },
  "title": "bee_pollination_model"
 },
 "nbformat": 4,
 "nbformat_minor": 5
}
