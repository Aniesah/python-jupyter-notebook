{
 "cells": [
  {
   "cell_type": "markdown",
   "id": "cca11c7c",
   "metadata": {},
   "source": [
    "# bee_pollination_model"
   ]
  },
  {
   "cell_type": "code",
   "execution_count": null,
   "id": "a0d9d98b",
   "metadata": {},
   "outputs": [],
   "source": [
    "# create list of time\n",
    "def create_time(tmin, tmax, dt):\n",
    "    trange = range(tmin, tmax + 1, 1)\n",
    "    t = [*trange]\n",
    "    return t\n",
    "\n",
    "# set fertile time on list of time\n",
    "def set_fertile(t, tbeg, tend):\n",
    "    tfertile = [1 if j >= tbeg and j <= tend else 0 for j in t]\n",
    "    return tfertile"
   ]
  },
  {
   "cell_type": "code",
   "execution_count": 47,
   "id": "ff5a8565",
   "metadata": {},
   "outputs": [
    {
     "ename": "NameError",
     "evalue": "name 'create_time' is not defined",
     "output_type": "error",
     "traceback": [
      "\u001b[1;31m---------------------------------------------------------------------------\u001b[0m",
      "\u001b[1;31mNameError\u001b[0m                                 Traceback (most recent call last)",
      "Input \u001b[1;32mIn [47]\u001b[0m, in \u001b[0;36m<cell line: 16>\u001b[1;34m()\u001b[0m\n\u001b[0;32m     13\u001b[0m     t \u001b[38;5;241m=\u001b[39m [\u001b[38;5;241m*\u001b[39mtrange]\n\u001b[0;32m     14\u001b[0m     \u001b[38;5;28;01mreturn\u001b[39;00m t\n\u001b[1;32m---> 16\u001b[0m t \u001b[38;5;241m=\u001b[39m \u001b[43mcreate_time\u001b[49m(\u001b[38;5;241m0\u001b[39m, \u001b[38;5;241m240\u001b[39m, \u001b[38;5;241m1\u001b[39m)\n\u001b[0;32m     17\u001b[0m f1 \u001b[38;5;241m=\u001b[39m set_fertile(t, \u001b[38;5;241m96\u001b[39m, \u001b[38;5;241m120\u001b[39m)\n\u001b[0;32m     19\u001b[0m fig \u001b[38;5;241m=\u001b[39m plt\u001b[38;5;241m.\u001b[39mfigure()\n",
      "\u001b[1;31mNameError\u001b[0m: name 'create_time' is not defined"
     ]
    }
   ],
   "source": [
    "# EMT (effective medium theory) model\n",
    "import matplotlib.pyplot as plt\n",
    "import numpy as np\n",
    "\n",
    "t = create_time(0, 240, 1)\n",
    "f1 = set_fertile(t, 96, 120)\n",
    "\n",
    "fig = plt.figure()\n",
    "fig.set_figwidth(10)\n",
    "fig.set_figheight(2)\n",
    "\n",
    "plt.xticks(np.arange(min(t), max(t)+1, 24))\n",
    "plt.yticks(np.arange(min(f1), max(f1)+1, 0.2))\n",
    "plt.grid()\n",
    "plt.plot(t, f1, 'g')\n",
    "\n",
    "plt.legend([\"f1 = fertile time\"])\n",
    "\n",
    "plt.xlabel(\"t (hour)\")\n",
    "plt.ylabel(\"probability\")\n",
    "\n",
    "plt.show()"
   ]
  },
  {
   "cell_type": "code",
   "execution_count": null,
   "id": "9ff5ad72",
   "metadata": {},
   "outputs": [],
   "source": []
  }
 ],
 "metadata": {
  "authors": [
   {
    "name": "Sparisoma Viridi"
   }
  ],
  "kernelspec": {
   "display_name": "Python 3 (ipykernel)",
   "language": "python",
   "name": "python3"
  },
  "language_info": {
   "codemirror_mode": {
    "name": "ipython",
    "version": 3
   },
   "file_extension": ".py",
   "mimetype": "text/x-python",
   "name": "python",
   "nbconvert_exporter": "python",
   "pygments_lexer": "ipython3",
   "version": "3.10.9"
  },
  "title": "bee_pollination_model"
 },
 "nbformat": 4,
 "nbformat_minor": 5
}
