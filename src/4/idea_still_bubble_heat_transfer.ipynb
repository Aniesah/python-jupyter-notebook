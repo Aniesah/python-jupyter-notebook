{
 "cells": [
  {
   "cell_type": "markdown",
   "id": "b774ddd7",
   "metadata": {},
   "source": [
    "# heat transfer between still bubble and water particles\n",
    "Idea and algoritm for heat transfer between bubble and water particles using Fourier's law [1]."
   ]
  },
  {
   "cell_type": "markdown",
   "id": "f92088ab",
   "metadata": {},
   "source": [
    "<h2 style=\"color:#27e; padding-bottom:0.5em;\">still bubble</h2>\n",
    "Bubble is considered still in space and surrounded by some water particles. All are first simplified into circles with different diameter, $D_{\\rm b} > D_{\\rm w}$."
   ]
  },
  {
   "cell_type": "markdown",
   "id": "192012cd",
   "metadata": {},
   "source": [
    "### measurement system\n",
    "![](bubble_fig1.png)\n",
    "![](bubble_fig2.png)"
   ]
  },
  {
   "cell_type": "markdown",
   "id": "be8f624b",
   "metadata": {},
   "source": [
    "### equations\n",
    "Fourie's law gives\n",
    "\n",
    "$$\\tag{1}\n",
    "\\dot{Q}_x = - \\kappa A \\frac{\\partial T}{\\partial x}\n",
    "$$\n",
    "\n",
    "and general conduction equation\n",
    "\n",
    "$$\\tag{2}\n",
    "\\frac{\\partial}{\\partial x} \\left( \\kappa \\frac{\\partial T}{\\partial x} \\right) + \\dot{g} = \\rho C \\frac{\\partial T}{\\partial t}\n",
    "$$\n",
    "\n",
    "for one-dimensional system."
   ]
  },
  {
   "cell_type": "markdown",
   "id": "21915f19",
   "metadata": {},
   "source": [
    "## sketch\n",
    "![](bubble_fig3.png)"
   ]
  },
  {
   "cell_type": "markdown",
   "id": "a19be46f",
   "metadata": {},
   "source": [
    "Use (1) and (2) according to the sketch and build a model how heat can be transferred from hotter bubble to cooler water particles.\n",
    "\n",
    "![](bubble_fig4.png)"
   ]
  },
  {
   "cell_type": "markdown",
   "id": "68c79a79",
   "metadata": {},
   "source": [
    "<h2 style=\"color:#27e; padding-bottom:0.5em;\">heat equation</h2>\n",
    "Heat equation for 2D and 3D system is as [2]\n",
    "\n",
    "$$\n",
    "\\frac{\\partial u}{\\partial t} = \\nabla^2 u + q\n",
    "$$\n",
    "\n",
    "with $q =  l^2Q/(\\kappa c \\rho) = l^2 Q / K_0$ and $\\kappa = K_0 / (c\\rho)$."
   ]
  },
  {
   "cell_type": "markdown",
   "id": "71ffbdc6",
   "metadata": {},
   "source": [
    "<h2 style=\"color:#27e; padding-bottom:0.5em;\">references</h2>\n",
    "\n",
    "1. J. Richard Culham, \"Chapter 8: Steady Heat Conduction\", ECE309 Introduction to Thermodynamics & Heat Transfer, Sprin 2007, url http://www.mhtl.uwaterloo.ca/courses/ece309_mechatronics/lectures/pdffiles/summary_ch8&9.pdf [20221117].\n",
    "2. Matthew J. Hancock, \"The heat and wave equations in 2D and 3D\", 18.303 Linear Partial Differential Equations, Fall 2006, url https://ocw.mit.edu/courses/18-303-linear-partial-differential-equations-fall-2006/5faa7f7c21719c38fb701bc79ef4a29f_pde3d.pdf [20221117]."
   ]
  },
  {
   "cell_type": "code",
   "execution_count": null,
   "id": "021a6832",
   "metadata": {},
   "outputs": [],
   "source": []
  }
 ],
 "metadata": {
  "authors": [
   {
    "name": "Sparisoma Viridi"
   },
   {
    "name": "Suprijadi Haryono"
   },
   {
    "name": "Arfan Sindhu Tistomo"
   }
  ],
  "kernelspec": {
   "display_name": "Python 3 (ipykernel)",
   "language": "python",
   "name": "python3"
  },
  "language_info": {
   "codemirror_mode": {
    "name": "ipython",
    "version": 3
   },
   "file_extension": ".py",
   "mimetype": "text/x-python",
   "name": "python",
   "nbconvert_exporter": "python",
   "pygments_lexer": "ipython3",
   "version": "3.9.12"
  },
  "title": "idea_still_water_heat_transfer"
 },
 "nbformat": 4,
 "nbformat_minor": 5
}
