{
 "cells": [
  {
   "cell_type": "markdown",
   "id": "cca11c7c",
   "metadata": {},
   "source": [
    "# minimum_code\n",
    "Plot xy using Python `matplotlib` module in minimum code"
   ]
  },
  {
   "cell_type": "code",
   "execution_count": 1,
   "id": "0b895c5e",
   "metadata": {},
   "outputs": [],
   "source": [
    "# create list for x\n",
    "xx = [0, 1, 2, 3, 4, 5, 6, 7, 8, 9, 10]\n",
    "\n",
    "# create list for y\n",
    "yy = [0, 9, 16, 21, 24, 25, 26, 27, 28, 29, 30]"
   ]
  },
  {
   "cell_type": "code",
   "execution_count": 2,
   "id": "d1c0d218",
   "metadata": {},
   "outputs": [
    {
     "data": {
      "image/png": "[encoded data removed]",
      "text/plain": [
       "<Figure size 432x288 with 1 Axes>"
      ]
     },
     "metadata": {
      "needs_background": "light"
     },
     "output_type": "display_data"
    }
   ],
   "source": [
    "# import matplotlib module\n",
    "import matplotlib.pyplot as plt\n",
    "\n",
    "# set label for x and y axes\n",
    "plt.xlabel(\"x\")\n",
    "plt.ylabel(\"y\")\n",
    "\n",
    "# show grid\n",
    "plt.grid()\n",
    "\n",
    "# plot data red color with line width 2\n",
    "plt.plot(xx, yy, \"r\", linewidth=2)\n",
    "\n",
    "# display result\n",
    "plt.show()"
   ]
  },
  {
   "cell_type": "code",
   "execution_count": null,
   "id": "a1b0038f",
   "metadata": {},
   "outputs": [],
   "source": []
  }
 ],
 "metadata": {
  "authors": [
   {
    "name": "Sparisoma Viridi"
   }
  ],
  "kernelspec": {
   "display_name": "Python 3 (ipykernel)",
   "language": "python",
   "name": "python3"
  },
  "language_info": {
   "codemirror_mode": {
    "name": "ipython",
    "version": 3
   },
   "file_extension": ".py",
   "mimetype": "text/x-python",
   "name": "python",
   "nbconvert_exporter": "python",
   "pygments_lexer": "ipython3",
   "version": "3.10.9"
  },
  "title": "minimum_code"
 },
 "nbformat": 4,
 "nbformat_minor": 5
}
