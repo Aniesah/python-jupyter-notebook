{
 "cells": [
  {
   "cell_type": "markdown",
   "id": "d4e69cf6",
   "metadata": {},
   "source": [
    "# polynomial\n",
    "classes or functions of polynomial module"
   ]
  },
  {
   "cell_type": "code",
   "execution_count": null,
   "id": "1ab9c511",
   "metadata": {},
   "outputs": [],
   "source": [
    "def roots2coefs(roots):\n",
    "    \"\"\"Convert roots of a polynomial to polynomial coefficients\n",
    "    \n",
    "    Args:\n",
    "        roots: roots of a polynomial in a list\n",
    "    \n",
    "    Returns:\n",
    "        Coefficients of a polynomial as a list\n",
    "    \"\"\"\n",
    "    \n",
    "    return coefs"
   ]
  },
  {
   "cell_type": "markdown",
   "id": "ab8f2dda",
   "metadata": {},
   "source": [
    "## polynomial function"
   ]
  },
  {
   "cell_type": "markdown",
   "id": "1e25ac55",
   "metadata": {},
   "source": [
    "$$\n",
    "P(x) = \\prod_{i = 1}^n (x - x_i)\n",
    "$$"
   ]
  },
  {
   "cell_type": "markdown",
   "id": "d246714a",
   "metadata": {},
   "source": [
    "$$\n",
    "P(x) = c_n x^n + c_{n-1} x^{n-1} + \\dots + c_1 x + c_0\n",
    "$$"
   ]
  },
  {
   "cell_type": "markdown",
   "id": "8eee9808",
   "metadata": {},
   "source": [
    "## quartic function"
   ]
  },
  {
   "cell_type": "markdown",
   "id": "84c46612",
   "metadata": {},
   "source": [
    "$$\n",
    "n = 4\n",
    "$$"
   ]
  },
  {
   "cell_type": "markdown",
   "id": "19841d74",
   "metadata": {},
   "source": [
    "$$\n",
    "P(x) = (x - x_1)(x - x_2)(x - x_3)(x - x_4)\n",
    "$$"
   ]
  },
  {
   "cell_type": "markdown",
   "id": "b70cad9a",
   "metadata": {},
   "source": [
    "$$\n",
    "c_0 = (-x_1)(-x_2)(-x_3)(-x_4)\n",
    "$$"
   ]
  },
  {
   "cell_type": "markdown",
   "id": "5ed61862",
   "metadata": {},
   "source": [
    "$$\n",
    "c_1 = (-x_1)(-x_2)(-x_3) + (-x_1)(-x_2)(-x_4) + (-x_1)(-x_3)(-x_4) + (-x_2)(-x_3)(-x_4) \n",
    "$$"
   ]
  },
  {
   "cell_type": "markdown",
   "id": "e8e91eb2",
   "metadata": {},
   "source": [
    "$$\n",
    "c_2 = (-x_1)(-x_2) + (-x_1)(-x_3) + (-x_1)(-x_4) + (-x_2)(-x_3) + (-x_2)(-x_4) + (-x_3)(-x_4)\n",
    "$$"
   ]
  },
  {
   "cell_type": "markdown",
   "id": "5a7275ac",
   "metadata": {},
   "source": [
    "$$\n",
    "c_3 = (-x_1) + (-x_2) + (-x_3) + (-x_4)\n",
    "$$"
   ]
  },
  {
   "cell_type": "markdown",
   "id": "cd2bfac5",
   "metadata": {},
   "source": [
    "$$\n",
    "c_4 = 1 \\cdot 1 \\cdot 1 \\cdot 1\n",
    "$$"
   ]
  },
  {
   "cell_type": "markdown",
   "id": "f13b1720",
   "metadata": {},
   "source": [
    "$$\n",
    "c_0 = \\prod_{j = 1}^4 (-x_j)\n",
    "$$"
   ]
  },
  {
   "cell_type": "markdown",
   "id": "bc4a7965",
   "metadata": {},
   "source": [
    "$$\n",
    "c_1 = \\sum_{i = 1}^4 \\prod_{j = i}^{i + 2} (-x_j)\n",
    "$$"
   ]
  },
  {
   "cell_type": "markdown",
   "id": "cf4a4bfa",
   "metadata": {},
   "source": [
    "$$\n",
    "c_2 = \\sum_{i = 1}^3 \\prod_{j = i}^{i + 1} (-x_j)\n",
    "$$"
   ]
  },
  {
   "cell_type": "markdown",
   "id": "faed0c5d",
   "metadata": {},
   "source": [
    "$$\n",
    "c_3 = \\sum_{i = 1}^2 \\prod_{j = i}^{i + 0} (-x_j)\n",
    "$$"
   ]
  },
  {
   "cell_type": "markdown",
   "id": "3ee4044d",
   "metadata": {},
   "source": [
    "$$\n",
    "c_4 = \\sum_{i = 1}^1 1\n",
    "$$"
   ]
  },
  {
   "cell_type": "code",
   "execution_count": null,
   "id": "82beec69",
   "metadata": {},
   "outputs": [],
   "source": [
    "1 2 34\n",
    "1 3 4\n",
    "2 3 4"
   ]
  }
 ],
 "metadata": {
  "authors": [
   {
    "name": "Sparisoma Viridi"
   }
  ],
  "kernelspec": {
   "display_name": "Python 3 (ipykernel)",
   "language": "python",
   "name": "python3"
  },
  "language_info": {
   "codemirror_mode": {
    "name": "ipython",
    "version": 3
   },
   "file_extension": ".py",
   "mimetype": "text/x-python",
   "name": "python",
   "nbconvert_exporter": "python",
   "pygments_lexer": "ipython3",
   "version": "3.10.9"
  },
  "title": "unnamed"
 },
 "nbformat": 4,
 "nbformat_minor": 5
}
