{
 "cells": [
  {
   "cell_type": "markdown",
   "id": "d4e69cf6",
   "metadata": {},
   "source": [
    "# polynomial\n",
    "classes or functions of polynomial module"
   ]
  },
  {
   "cell_type": "code",
   "execution_count": null,
   "id": "1ab9c511",
   "metadata": {},
   "outputs": [],
   "source": [
    "def coefs_from_roots(roots):\n",
    "    \"\"\"Get polynomial coefficients from the roots\n",
    "    \n",
    "    Args:\n",
    "        roots: roots of a polynomial in a list\n",
    "    \n",
    "    Returns:\n",
    "        Coefficients of a polynomial in a list\n",
    "    \"\"\"\n",
    "    \n",
    "    return coefs"
   ]
  },
  {
   "cell_type": "code",
   "execution_count": null,
   "id": "1a6a0034",
   "metadata": {},
   "outputs": [],
   "source": [
    "def sum_of(x, beg, end):\n",
    "    \"\"\"Get sum of numbers from a list.\n",
    "    \n",
    "    Args:\n",
    "        x: numbers in a list.\n",
    "        beg: begin index (beg > 0).\n",
    "        end: end index (end > beg).\n",
    "    \n",
    "    Returns:\n",
    "        Sum of numbers in a list from beg index to end index (inclusive).\n",
    "        If end < beg then the result will be zero.\n",
    "    \"\"\"\n",
    "    \n",
    "    return y"
   ]
  },
  {
   "cell_type": "markdown",
   "id": "0ca1caac",
   "metadata": {},
   "source": [
    "## polynomial function"
   ]
  },
  {
   "cell_type": "markdown",
   "id": "4c9ebe9d",
   "metadata": {},
   "source": [
    "$$\n",
    "P(x) = \\prod_{i = 1}^n (x - x_i)\n",
    "$$"
   ]
  },
  {
   "cell_type": "markdown",
   "id": "976f98ef",
   "metadata": {},
   "source": [
    "$$\n",
    "P(x) = c_n x^n + c_{n-1} x^{n-1} + \\dots + c_1 x + c_0\n",
    "$$"
   ]
  },
  {
   "cell_type": "markdown",
   "id": "c0a55cf3",
   "metadata": {},
   "source": [
    "## quartic function"
   ]
  },
  {
   "cell_type": "markdown",
   "id": "3208c8d0",
   "metadata": {},
   "source": [
    "$$\n",
    "n = 4\n",
    "$$"
   ]
  },
  {
   "cell_type": "markdown",
   "id": "7579ef02",
   "metadata": {},
   "source": [
    "$$\n",
    "P(x) = (x - x_1)(x - x_2)(x - x_3)(x - x_4)\n",
    "$$"
   ]
  },
  {
   "cell_type": "markdown",
   "id": "4c876c17",
   "metadata": {},
   "source": [
    "$$\n",
    "c_0 = (-x_1)(-x_2)(-x_3)(-x_4)\n",
    "$$"
   ]
  },
  {
   "cell_type": "markdown",
   "id": "52716c7d",
   "metadata": {},
   "source": [
    "$$\n",
    "c_1 = (-x_1)(-x_2)(-x_3) + (-x_1)(-x_2)(-x_4) + (-x_1)(-x_3)(-x_4) + (-x_2)(-x_3)(-x_4) \n",
    "$$"
   ]
  },
  {
   "cell_type": "markdown",
   "id": "ebe3c514",
   "metadata": {},
   "source": [
    "$$\n",
    "c_2 = (-x_1)(-x_2) + (-x_1)(-x_3) + (-x_1)(-x_4) + (-x_2)(-x_3) + (-x_2)(-x_4) + (-x_3)(-x_4)\n",
    "$$"
   ]
  },
  {
   "cell_type": "markdown",
   "id": "6d71fa22",
   "metadata": {},
   "source": [
    "$$\n",
    "c_3 = (-x_1) + (-x_2) + (-x_3) + (-x_4)\n",
    "$$"
   ]
  },
  {
   "cell_type": "markdown",
   "id": "7a910739",
   "metadata": {},
   "source": [
    "$$\n",
    "c_4 = 1 \\cdot 1 \\cdot 1 \\cdot 1\n",
    "$$"
   ]
  },
  {
   "cell_type": "markdown",
   "id": "e0afb67f",
   "metadata": {},
   "source": [
    "$$\n",
    "c_0 = \\sum_{i = 1}^4 \\prod_{j = 1}^{i + 3} (-x_j)\n",
    "$$"
   ]
  },
  {
   "cell_type": "markdown",
   "id": "a6420c59",
   "metadata": {},
   "source": [
    "$$\n",
    "c_1 = \\sum_{i = 1}^4 \\prod_{j = i}^{i + 2} (-x_j)\n",
    "$$"
   ]
  },
  {
   "cell_type": "markdown",
   "id": "4855e4be",
   "metadata": {},
   "source": [
    "$$\n",
    "c_2 = \\sum_{i = 1}^4 \\prod_{j = i}^{i + 1} (-x_j)\n",
    "$$"
   ]
  },
  {
   "cell_type": "markdown",
   "id": "6471fb57",
   "metadata": {},
   "source": [
    "$$\n",
    "c_3 = \\sum_{i = 1}^4 \\prod_{j = i}^{i + 0} (-x_j)\n",
    "$$"
   ]
  },
  {
   "cell_type": "markdown",
   "id": "11a3e988",
   "metadata": {},
   "source": [
    "$$\n",
    "c_4 = \\sum_{i = 1}^4 \\prod_{j = i}^{i - 1} (-x_j) \n",
    "$$"
   ]
  },
  {
   "cell_type": "markdown",
   "id": "60c00e33",
   "metadata": {},
   "source": [
    "$$\n",
    "c_m = \\sum_{i = 1}^n \\prod_{j = i}^{i + 3 - m} (-x_j) \n",
    "$$"
   ]
  },
  {
   "cell_type": "code",
   "execution_count": null,
   "id": "de838d77",
   "metadata": {},
   "outputs": [],
   "source": []
  }
 ],
 "metadata": {
  "authors": [
   {
    "name": "Sparisoma Viridi"
   }
  ],
  "kernelspec": {
   "display_name": "Python 3 (ipykernel)",
   "language": "python",
   "name": "python3"
  },
  "language_info": {
   "codemirror_mode": {
    "name": "ipython",
    "version": 3
   },
   "file_extension": ".py",
   "mimetype": "text/x-python",
   "name": "python",
   "nbconvert_exporter": "python",
   "pygments_lexer": "ipython3",
   "version": "3.10.9"
  },
  "title": "unnamed"
 },
 "nbformat": 4,
 "nbformat_minor": 5
}
