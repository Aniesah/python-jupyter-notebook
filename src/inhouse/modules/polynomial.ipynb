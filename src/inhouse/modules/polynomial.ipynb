{
 "cells": [
  {
   "cell_type": "markdown",
   "id": "d4e69cf6",
   "metadata": {},
   "source": [
    "# polynomial\n",
    "classes or functions of polynomial module"
   ]
  },
  {
   "cell_type": "code",
   "execution_count": null,
   "id": "1ab9c511",
   "metadata": {},
   "outputs": [],
   "source": [
    "def coefsfromroots(roots):\n",
    "    \"\"\"Convert roots of a polynomial to polynomial coefficients\n",
    "    \n",
    "    Args:\n",
    "        roots: roots of a polynomial in a list\n",
    "    \n",
    "    Returns:\n",
    "        Coefficients of a polynomial as a list\n",
    "    \"\"\"\n",
    "    \n",
    "    return coefs"
   ]
  },
  {
   "cell_type": "code",
   "execution_count": null,
   "id": "f1e94b78",
   "metadata": {},
   "outputs": [],
   "source": []
  },
  {
   "cell_type": "markdown",
   "id": "66303f29",
   "metadata": {},
   "source": [
    "## polynomial function"
   ]
  },
  {
   "cell_type": "markdown",
   "id": "f6f490a1",
   "metadata": {},
   "source": [
    "$$\n",
    "P(x) = \\prod_{i = 1}^n (x - x_i)\n",
    "$$"
   ]
  },
  {
   "cell_type": "markdown",
   "id": "1fb29401",
   "metadata": {},
   "source": [
    "$$\n",
    "P(x) = c_n x^n + c_{n-1} x^{n-1} + \\dots + c_1 x + c_0\n",
    "$$"
   ]
  },
  {
   "cell_type": "markdown",
   "id": "d8acc34a",
   "metadata": {},
   "source": [
    "## quartic function"
   ]
  },
  {
   "cell_type": "markdown",
   "id": "ecfffa96",
   "metadata": {},
   "source": [
    "$$\n",
    "n = 4\n",
    "$$"
   ]
  },
  {
   "cell_type": "markdown",
   "id": "92df5835",
   "metadata": {},
   "source": [
    "$$\n",
    "P(x) = (x - x_1)(x - x_2)(x - x_3)(x - x_4)\n",
    "$$"
   ]
  },
  {
   "cell_type": "markdown",
   "id": "cbd1bdf0",
   "metadata": {},
   "source": [
    "$$\n",
    "c_0 = (-x_1)(-x_2)(-x_3)(-x_4)\n",
    "$$"
   ]
  },
  {
   "cell_type": "markdown",
   "id": "f2f5e953",
   "metadata": {},
   "source": [
    "$$\n",
    "c_1 = (-x_1)(-x_2)(-x_3) + (-x_1)(-x_2)(-x_4) + (-x_1)(-x_3)(-x_4) + (-x_2)(-x_3)(-x_4) \n",
    "$$"
   ]
  },
  {
   "cell_type": "markdown",
   "id": "52f98c0c",
   "metadata": {},
   "source": [
    "$$\n",
    "c_2 = (-x_1)(-x_2) + (-x_1)(-x_3) + (-x_1)(-x_4) + (-x_2)(-x_3) + (-x_2)(-x_4) + (-x_3)(-x_4)\n",
    "$$"
   ]
  },
  {
   "cell_type": "markdown",
   "id": "f02c5d98",
   "metadata": {},
   "source": [
    "$$\n",
    "c_3 = (-x_1) + (-x_2) + (-x_3) + (-x_4)\n",
    "$$"
   ]
  },
  {
   "cell_type": "markdown",
   "id": "9ebcac4e",
   "metadata": {},
   "source": [
    "$$\n",
    "c_4 = 1 \\cdot 1 \\cdot 1 \\cdot 1\n",
    "$$"
   ]
  },
  {
   "cell_type": "markdown",
   "id": "445cb950",
   "metadata": {},
   "source": [
    "$$\n",
    "c_0 = \\sum_{i = 1}^4 \\prod_{j = 1}^{i + 3} (-x_j)\n",
    "$$"
   ]
  },
  {
   "cell_type": "markdown",
   "id": "ca61e99f",
   "metadata": {},
   "source": [
    "$$\n",
    "c_1 = \\sum_{i = 1}^4 \\prod_{j = i}^{i + 2} (-x_j)\n",
    "$$"
   ]
  },
  {
   "cell_type": "markdown",
   "id": "33f8e97c",
   "metadata": {},
   "source": [
    "$$\n",
    "c_2 = \\sum_{i = 1}^4 \\prod_{j = i}^{i + 1} (-x_j)\n",
    "$$"
   ]
  },
  {
   "cell_type": "markdown",
   "id": "0b4a3d63",
   "metadata": {},
   "source": [
    "$$\n",
    "c_3 = \\sum_{i = 1}^4 \\prod_{j = i}^{i + 0} (-x_j)\n",
    "$$"
   ]
  },
  {
   "cell_type": "markdown",
   "id": "6a9802ba",
   "metadata": {},
   "source": [
    "$$\n",
    "c_4 = \\sum_{i = 1}^4 \\prod_{j = i}^{i - 1} (-x_j) \n",
    "$$"
   ]
  },
  {
   "cell_type": "markdown",
   "id": "1fdd2852",
   "metadata": {},
   "source": [
    "$$\n",
    "c_m = \\sum_{i = 1}^n \\prod_{j = i}^{i + 3 - m} (-x_j) \n",
    "$$"
   ]
  },
  {
   "cell_type": "code",
   "execution_count": null,
   "id": "bffa4bfc",
   "metadata": {},
   "outputs": [],
   "source": []
  }
 ],
 "metadata": {
  "authors": [
   {
    "name": "Sparisoma Viridi"
   }
  ],
  "kernelspec": {
   "display_name": "Python 3 (ipykernel)",
   "language": "python",
   "name": "python3"
  },
  "language_info": {
   "codemirror_mode": {
    "name": "ipython",
    "version": 3
   },
   "file_extension": ".py",
   "mimetype": "text/x-python",
   "name": "python",
   "nbconvert_exporter": "python",
   "pygments_lexer": "ipython3",
   "version": "3.10.9"
  },
  "title": "unnamed"
 },
 "nbformat": 4,
 "nbformat_minor": 5
}
