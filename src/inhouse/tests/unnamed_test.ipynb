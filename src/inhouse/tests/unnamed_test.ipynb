{
 "cells": [
  {
   "cell_type": "markdown",
   "id": "cca11c7c",
   "metadata": {},
   "source": [
    "# unnamed_test\n",
    "test of unnamed module"
   ]
  },
  {
   "cell_type": "code",
   "execution_count": null,
   "id": "30aea70c",
   "metadata": {},
   "outputs": [],
   "source": [
    "import sys\n",
    "from pathlib import Path\n",
    "\n",
    "src_path = Path.cwd().parents[0].parents[0]\n",
    "module_path = str(src_path / \"inhouse\\modules\")\n",
    "if module_path not in sys.path:\n",
    "    sys.path.insert(0, module_path)\n",
    "    pass\n",
    "\n",
    "from ipynb.fs.full.unnamed import hello as ho"
   ]
  },
  {
   "cell_type": "code",
   "execution_count": null,
   "id": "bf87a621",
   "metadata": {},
   "outputs": [],
   "source": [
    "print(ho())"
   ]
  },
  {
   "cell_type": "code",
   "execution_count": null,
   "id": "68e79676",
   "metadata": {},
   "outputs": [],
   "source": [
    "a = ho(\"Yey\")\n",
    "print(a)"
   ]
  },
  {
   "cell_type": "code",
   "execution_count": null,
   "id": "78193d81",
   "metadata": {},
   "outputs": [],
   "source": []
  }
 ],
 "metadata": {
  "authors": [
   {
    "name": "Sparisoma Viridi"
   }
  ],
  "kernelspec": {
   "display_name": "Python 3 (ipykernel)",
   "language": "python",
   "name": "python3"
  },
  "language_info": {
   "codemirror_mode": {
    "name": "ipython",
    "version": 3
   },
   "file_extension": ".py",
   "mimetype": "text/x-python",
   "name": "python",
   "nbconvert_exporter": "python",
   "pygments_lexer": "ipython3",
   "version": "3.10.9"
  },
  "title": "unnamed_test"
 },
 "nbformat": 4,
 "nbformat_minor": 5
}
