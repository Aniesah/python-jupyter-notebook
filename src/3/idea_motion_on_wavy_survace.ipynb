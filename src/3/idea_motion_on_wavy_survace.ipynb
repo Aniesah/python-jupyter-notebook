{
 "cells": [
  {
   "cell_type": "markdown",
   "id": "b774ddd7",
   "metadata": {},
   "source": [
    "# motion on a wavy survace formulation (idea)\n",
    "Idea and algoritm for motion of a point mass along a line on a wavy surface [1]."
   ]
  },
  {
   "cell_type": "markdown",
   "id": "192012cd",
   "metadata": {},
   "source": [
    "## trajectory\n",
    "Suppose there is a trajectory on a wavy surface, which can be expressed as\n",
    "\n",
    "$$\\tag{1}\n",
    "y_w = y_w(x),\n",
    "$$\n",
    "\n",
    "that is continued for $x \\in [x_{\\rm beg}, x_{\\rm end}]$."
   ]
  },
  {
   "cell_type": "markdown",
   "id": "be8f624b",
   "metadata": {},
   "source": [
    "## tangent\n",
    "Angle $\\theta$ of tangent to the trajectory is measured from $x$ axis in counter clockwise direction, which can be obtained through\n",
    "\n",
    "$$\\tag{2}\n",
    "\\tan \\theta = \\frac{dy_s}{dx}\n",
    "$$\n",
    "\n",
    "at every point $(x, y)$. At time $t = t_A$ and on the position $(x_A, y_A)$ the angle is\n",
    "\n",
    "$$\\tag{3}\n",
    "\\tan \\theta_A = \\left. \\frac{dy_w}{dx} \\right|_{x = x_A},\n",
    "$$\n",
    "\n",
    "which make equation of tangent is simply\n",
    "\n",
    "$$\\tag{4}\n",
    "y_t = y_A + \\tan \\theta_A \\ (x - x_A).\n",
    "$$"
   ]
  },
  {
   "cell_type": "markdown",
   "id": "f3b0d018",
   "metadata": {},
   "source": [
    "## normal force\n",
    "A point mass $m$ is placed on the surface, along the trajectory, at position $(x_A, y_A)$. It will have normal force due to contact with the surface in the form of\n",
    "\n",
    "$$\\tag{5}\n",
    "\\vec{N} = N \\cos (\\theta_A + \\tfrac12 \\pi) \\ \\hat{x} + N \\sin (\\theta_A + \\tfrac12 \\pi) \\ \\hat{y}\n",
    "$$\n"
   ]
  },
  {
   "cell_type": "markdown",
   "id": "951ebae0",
   "metadata": {},
   "source": [
    "## gravitational force\n",
    "The point mass $m$ is also suffered from gravitational force\n",
    "\n",
    "$$\\tag{6}\n",
    "\\vec{W} = - mg \\ \\hat{y},\n",
    "$$\n",
    "\n",
    "where $g$ is acceleration due to gravity."
   ]
  },
  {
   "cell_type": "markdown",
   "id": "a94acf43",
   "metadata": {},
   "source": [
    "## frictional force\n",
    "If the point mass is moving with velocity $\\vec{v}$ it will have friction in the form of\n",
    "\n",
    "$$\\tag{7}\n",
    "\\vec{D} = -(c_0 + c_1 |v| + c_2 v^2) \\ \\hat{v},\n",
    "$$\n",
    "\n",
    "where $c_0$, $c_1$, $c_2$ values is depend on the medium."
   ]
  },
  {
   "cell_type": "markdown",
   "id": "71ffbdc6",
   "metadata": {},
   "source": [
    "\n",
    "## references\n",
    "1. SingYu Lam, \"Wavy Surface\", 10 Aug 2018, url https://singyulam.com/blog/2018/8/10/wavy-surface [20221115]."
   ]
  },
  {
   "cell_type": "code",
   "execution_count": null,
   "id": "092a9dbd",
   "metadata": {},
   "outputs": [],
   "source": []
  }
 ],
 "metadata": {
  "authors": [
   {
    "name": "Sparisoma Viridi"
   },
   {
    "name": "Septian Ulan Dini"
   }
  ],
  "kernelspec": {
   "display_name": "Python 3 (ipykernel)",
   "language": "python",
   "name": "python3"
  },
  "language_info": {
   "codemirror_mode": {
    "name": "ipython",
    "version": 3
   },
   "file_extension": ".py",
   "mimetype": "text/x-python",
   "name": "python",
   "nbconvert_exporter": "python",
   "pygments_lexer": "ipython3",
   "version": "3.9.12"
  },
  "title": "idea_motion_on_wavy_surface"
 },
 "nbformat": 4,
 "nbformat_minor": 5
}
