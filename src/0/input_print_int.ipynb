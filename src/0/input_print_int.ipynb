{
 "cells": [
  {
   "cell_type": "markdown",
   "id": "b774ddd7",
   "metadata": {},
   "source": [
    "# int input from user\n",
    "Take input from user and print it [1]."
   ]
  },
  {
   "cell_type": "code",
   "execution_count": 1,
   "id": "ffe0a408",
   "metadata": {},
   "outputs": [
    {
     "name": "stdout",
     "output_type": "stream",
     "text": [
      "Type an integer number: 2022\n",
      "The given integer number is 2022\n"
     ]
    }
   ],
   "source": [
    "i = int(input(\"Type an integer number: \"))\n",
    "print(\"The given integer number is\", i)"
   ]
  },
  {
   "cell_type": "markdown",
   "id": "f469ccaf",
   "metadata": {},
   "source": [
    "## references\n",
    "1. Vishal Hule, \"\", PYnative.com, 8 Apr 2021, url https://pynative.com/python-input-function-get-user-input/ [20221114]."
   ]
  },
  {
   "cell_type": "markdown",
   "id": "07ca1328",
   "metadata": {},
   "source": []
  }
 ],
 "metadata": {
  "authors": [
   {
    "name": "Sparisoma Viridi"
   }
  ],
  "kernelspec": {
   "display_name": "Python 3 (ipykernel)",
   "language": "python",
   "name": "python3"
  },
  "language_info": {
   "codemirror_mode": {
    "name": "ipython",
    "version": 3
   },
   "file_extension": ".py",
   "mimetype": "text/x-python",
   "name": "python",
   "nbconvert_exporter": "python",
   "pygments_lexer": "ipython3",
   "version": "3.10.8"
  },
  "title": "input_print_int"
 },
 "nbformat": 4,
 "nbformat_minor": 5
}
