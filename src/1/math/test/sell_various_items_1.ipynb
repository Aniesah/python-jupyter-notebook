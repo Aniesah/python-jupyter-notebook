{
 "cells": [
  {
   "cell_type": "markdown",
   "id": "d4e69cf6",
   "metadata": {},
   "source": [
    "# sell_various_items_1\n",
    "Tes III.3: Logika Angka "
   ]
  },
  {
   "cell_type": "markdown",
   "id": "164cf672",
   "metadata": {},
   "source": [
    "## example\n",
    "Lima buah toko alat tulis merilis hasil penjualan alat tulisnya (pulpen, pensil, penghapus)\n",
    "\n",
    "Toko | Pulpen | Pensil | Penghapus\n",
    "--- | --- | --- | ---\n",
    "A | 5 | 4 | 5\n",
    "B | 5 | 5 | 4\n",
    "C | 4 | 5 | 5\n",
    "D | 4 | 4 | 6\n",
    "E | 6 | 4 | 6"
   ]
  },
  {
   "cell_type": "markdown",
   "id": "af13c21b",
   "metadata": {},
   "source": [
    "Laba dari penjualan satu buah pulpen, pensil, dan penghapus masing-masing adalah Rp. 200, Rp. 200, Rp. 100. Maka toko alat tulis yang memiliki laba total yang sama adalah... \\\n",
    "A.\tA dan D \\\n",
    "B.\tC dan E \\\n",
    "C.\tD dan B \\\n",
    "D.\tA dan C \\\n",
    "E.\tB dan E"
   ]
  },
  {
   "cell_type": "code",
   "execution_count": 1,
   "id": "a795ae3d",
   "metadata": {},
   "outputs": [],
   "source": [
    "# sell achievement of each shop\n",
    "achievement = {\n",
    "    'A': [5, 4, 5],\n",
    "    'B': [5, 5, 4],\n",
    "    'C': [4, 5, 5],\n",
    "    'D': [4, 4, 6],\n",
    "    'E': [6, 4, 6]\n",
    "}"
   ]
  },
  {
   "cell_type": "code",
   "execution_count": 2,
   "id": "d2e70aab",
   "metadata": {},
   "outputs": [],
   "source": [
    "# price of each items\n",
    "price = [200, 200, 100]"
   ]
  },
  {
   "cell_type": "code",
   "execution_count": 3,
   "id": "0d712b16",
   "metadata": {},
   "outputs": [
    {
     "name": "stdout",
     "output_type": "stream",
     "text": [
      "A 2300\n",
      "B 2400\n",
      "C 2300\n",
      "D 2200\n",
      "E 2600\n"
     ]
    }
   ],
   "source": [
    "# caculate profit for all shops\n",
    "profit = []\n",
    "for shop in achievement:\n",
    "    p = 0\n",
    "    i = 0\n",
    "    for item in achievement[shop]:\n",
    "        p += item * price[i]\n",
    "        i += 1\n",
    "    profit.append(p)\n",
    "    print(shop, p)"
   ]
  },
  {
   "cell_type": "markdown",
   "id": "77f0ae89",
   "metadata": {},
   "source": [
    "D. A dan C"
   ]
  },
  {
   "cell_type": "markdown",
   "id": "bf1867dd",
   "metadata": {},
   "source": [
    "## new"
   ]
  },
  {
   "cell_type": "markdown",
   "id": "2cb8cd53",
   "metadata": {},
   "source": [
    "Toko | Pulpen | Pensil | Penghapus\n",
    "--- | --- | --- | ---\n",
    "A | 5 | 4 | 5\n",
    "B | 5 | 5 | 4\n",
    "C | 4 | 5 | 5\n",
    "D | 5 | 6 | 6\n",
    "E | 6 | 4 | 6"
   ]
  },
  {
   "cell_type": "code",
   "execution_count": 4,
   "id": "1c6f8028",
   "metadata": {},
   "outputs": [],
   "source": [
    "# sell achievement of each shop\n",
    "achievement = {\n",
    "    'A': [5, 4, 5],\n",
    "    'B': [5, 5, 4],\n",
    "    'C': [4, 5, 5],\n",
    "    'D': [5, 6, 6],\n",
    "    'E': [6, 4, 6]\n",
    "}"
   ]
  },
  {
   "cell_type": "code",
   "execution_count": 5,
   "id": "62a0d4c1",
   "metadata": {},
   "outputs": [],
   "source": [
    "# price of each items\n",
    "price = [400, 200, 100]"
   ]
  },
  {
   "cell_type": "code",
   "execution_count": 6,
   "id": "95562f5e",
   "metadata": {},
   "outputs": [
    {
     "name": "stdout",
     "output_type": "stream",
     "text": [
      "A 3300\n",
      "B 3400\n",
      "C 3100\n",
      "D 3800\n",
      "E 3800\n"
     ]
    }
   ],
   "source": [
    "# caculate profit for all shops\n",
    "profit = []\n",
    "for shop in achievement:\n",
    "    p = 0\n",
    "    i = 0\n",
    "    for item in achievement[shop]:\n",
    "        p += item * price[i]\n",
    "        i += 1\n",
    "    profit.append(p)\n",
    "    print(shop, p)"
   ]
  },
  {
   "cell_type": "markdown",
   "id": "366824bd",
   "metadata": {},
   "source": [
    "Toko D dan E memperoleh laba yang sama."
   ]
  }
 ],
 "metadata": {
  "authors": [
   {
    "name": "Sparisoma Viridi"
   }
  ],
  "kernelspec": {
   "display_name": "Python 3 (ipykernel)",
   "language": "python",
   "name": "python3"
  },
  "language_info": {
   "codemirror_mode": {
    "name": "ipython",
    "version": 3
   },
   "file_extension": ".py",
   "mimetype": "text/x-python",
   "name": "python",
   "nbconvert_exporter": "python",
   "pygments_lexer": "ipython3",
   "version": "3.10.4"
  },
  "title": "sell_various_items_1"
 },
 "nbformat": 4,
 "nbformat_minor": 5
}
