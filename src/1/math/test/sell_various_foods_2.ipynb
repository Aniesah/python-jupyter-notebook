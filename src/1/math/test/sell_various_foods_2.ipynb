{
 "cells": [
  {
   "cell_type": "markdown",
   "id": "d4e69cf6",
   "metadata": {},
   "source": [
    "# sell_various_foods_2\n",
    "Tes III.3: Logika Angka "
   ]
  },
  {
   "cell_type": "markdown",
   "id": "164cf672",
   "metadata": {},
   "source": [
    "## example\n",
    "\n",
    "Sebuah kedai makanan melakukan rekap pada hasil penjualan makanannya selama sebulan yang disajikan pada tabel berikut\n",
    "\n",
    "Menu | Modal<br>per porsi | Harga jual<br>per porsi | Jumlah<br>penjualan<br>(porsi)\n",
    "--- | --- | --- | ---\n",
    "Mie ayam | Rp. 12.000 | Rp. 15.000 | 150\n",
    "Mie bakso | Rp. 14.000 | Rp. 18.000 | 110\n",
    "Mie goreng | Rp. 13.000 | Rp. 17.000 | 130\n",
    "Mie rebus | Rp. 11.000 | Rp. 16.000 | 140\n",
    "Nasi goreng |Rp. 15.000 | Rp. 20.000 | 120"
   ]
  },
  {
   "cell_type": "markdown",
   "id": "d5c37c94",
   "metadata": {},
   "source": [
    "Urutan menu makanan yang memberikan keuntungan per bulan dari keuntungan rendah ke tinggi adalah... \\\n",
    "A.\tMie rebus, nasi goreng, mie bakso \\\n",
    "B.\tNasi goreng, mie ayam, mie rebus \\\n",
    "C.\tNasi goreng, mie bakso, mie goreng \\\n",
    "D.\tMie goreng, nasi goreng, mie rebus \\\n",
    "E.\tMie ayam, mie rebus, mie bakso"
   ]
  },
  {
   "cell_type": "code",
   "execution_count": 1,
   "id": "77e77bde",
   "metadata": {},
   "outputs": [],
   "source": [
    "# menu with intial capital, sell price, sales amount\n",
    "Menu = {\n",
    "    \"Mie ayam\":    [12000, 15000, 150],\n",
    "    \"Mie bakso\":   [14000, 18000, 110],\n",
    "    \"Mie goreng\":  [13000, 17000, 130],\n",
    "    \"Mie rebus\":   [11000, 16000, 140],\n",
    "    \"Nasi goreng\": [15000, 20000, 120]\n",
    "}"
   ]
  },
  {
   "cell_type": "code",
   "execution_count": 2,
   "id": "e060f347",
   "metadata": {},
   "outputs": [],
   "source": [
    "# calculate profit\n",
    "def getProfit(menu):\n",
    "    profit = {}\n",
    "    for m in menu:\n",
    "        ic = menu[m][0]\n",
    "        sp = menu[m][1]\n",
    "        sa = menu[m][2]\n",
    "        pr = (sp - ic) * sa\n",
    "        profit[m] = pr\n",
    "    return profit"
   ]
  },
  {
   "cell_type": "code",
   "execution_count": 3,
   "id": "a237f6f4",
   "metadata": {},
   "outputs": [
    {
     "name": "stdout",
     "output_type": "stream",
     "text": [
      "440000 Mie bakso\n",
      "450000 Mie ayam\n",
      "520000 Mie goreng\n",
      "600000 Nasi goreng\n",
      "700000 Mie rebus\n"
     ]
    }
   ],
   "source": [
    "# create a profit list and sort it in a tupple\n",
    "profit = getProfit(Menu)\n",
    "a = sorted(profit.items(), key = lambda kv:(kv[1], kv[0]))\n",
    "for i in a:\n",
    "    print(i[1], i[0])"
   ]
  },
  {
   "cell_type": "markdown",
   "id": "f6c13f9d",
   "metadata": {},
   "source": [
    "D. Mie goreng, nasi goreng, mie rebus"
   ]
  },
  {
   "cell_type": "markdown",
   "id": "96ef2928",
   "metadata": {},
   "source": [
    "## new"
   ]
  },
  {
   "cell_type": "code",
   "execution_count": 4,
   "id": "97f20b1a",
   "metadata": {},
   "outputs": [],
   "source": [
    "# menu with intial capital, sell price, sales amount\n",
    "Menu2 = {\n",
    "    \"Bihun ayam\":     [13000, 16000, 100],\n",
    "    \"Kuetiaw goreng\": [14000, 18000, 140],\n",
    "    \"Lomie kuah\":     [15000, 20000, 110],\n",
    "    \"Mie bakso\":      [12000, 14000, 160],\n",
    "    \"Pasta polos\":    [16000, 20000, 120]\n",
    "}"
   ]
  },
  {
   "cell_type": "code",
   "execution_count": 5,
   "id": "a9260381",
   "metadata": {},
   "outputs": [
    {
     "name": "stdout",
     "output_type": "stream",
     "text": [
      "300000 Bihun ayam\n",
      "320000 Mie bakso\n",
      "480000 Pasta polos\n",
      "550000 Lomie kuah\n",
      "560000 Kuetiaw goreng\n"
     ]
    }
   ],
   "source": [
    "# create a profit list and sort it in a tupple\n",
    "profit2 = getProfit(Menu2)\n",
    "a2 = sorted(profit2.items(), key = lambda kv:(kv[1], kv[0]))\n",
    "for i in a2:\n",
    "    print(i[1], i[0])"
   ]
  },
  {
   "cell_type": "markdown",
   "id": "902c4dae",
   "metadata": {},
   "source": [
    "Opsi pilihan perlu disesuaikan apakah akan menggambarkan urutan, minimum, ataupun maksimum."
   ]
  }
 ],
 "metadata": {
  "authors": [
   {
    "name": "Sparisoma Viridi"
   }
  ],
  "kernelspec": {
   "display_name": "Python 3 (ipykernel)",
   "language": "python",
   "name": "python3"
  },
  "language_info": {
   "codemirror_mode": {
    "name": "ipython",
    "version": 3
   },
   "file_extension": ".py",
   "mimetype": "text/x-python",
   "name": "python",
   "nbconvert_exporter": "python",
   "pygments_lexer": "ipython3",
   "version": "3.10.4"
  },
  "title": "sell_various_food_2"
 },
 "nbformat": 4,
 "nbformat_minor": 5
}
