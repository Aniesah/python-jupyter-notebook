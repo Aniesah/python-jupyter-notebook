{
 "cells": [
  {
   "cell_type": "markdown",
   "id": "d4e69cf6",
   "metadata": {},
   "source": [
    "# four_digit_number\n",
    "Tes III.3: Logika Angka "
   ]
  },
  {
   "cell_type": "markdown",
   "id": "164cf672",
   "metadata": {},
   "source": [
    "## example\n",
    "Seorang murid mencari sebuah bilangan yang terdiri dari empat buah angka yang berbeda. Jika angka ketiga dibagi angka pertama sama dengan angka keempat dibagi angka kedua. Penjumlahan ~angka pertama dan angka ketiga sama dengan angka keempat dengan angka kedua~ angka pertama, kedua, dan ketiga sama dengan angka keempat. Angka ketiga sama dengan selisih antara angka kedua dan pertama. Jika keempat angka dijumlahkan maka jumlahnya adalah 12. Maka bilangan tersebut adalah...\\\n",
    "A.\t2316 \\\n",
    "B.\t2136 \\\n",
    "C.\t1236 \\\n",
    "D.\t1632 \\\n",
    "E.\t1326"
   ]
  },
  {
   "cell_type": "code",
   "execution_count": 1,
   "id": "aad81998",
   "metadata": {},
   "outputs": [],
   "source": [
    "a = [i for i in range(1, 10)]\n",
    "b = a.copy()\n",
    "c = b.copy()\n",
    "d = c.copy()"
   ]
  },
  {
   "cell_type": "code",
   "execution_count": 2,
   "id": "5196cf36",
   "metadata": {},
   "outputs": [
    {
     "name": "stdout",
     "output_type": "stream",
     "text": [
      "1 3 2 6\n"
     ]
    }
   ],
   "source": [
    "for i in a:\n",
    "    for j in b:\n",
    "        for k in c:\n",
    "            for l in d:\n",
    "                if (i != j and i != k and i != l and j != k and j != l and k != l):\n",
    "                    if k / i == l / j:\n",
    "                        if i + j + k == l:\n",
    "                            if k == j - i:\n",
    "                                print(i, j, k, l)"
   ]
  },
  {
   "cell_type": "markdown",
   "id": "698ca344",
   "metadata": {},
   "source": [
    "E. 1326 (setelah soal dikoreksi agar dapat diperoleh jawaban)"
   ]
  },
  {
   "cell_type": "markdown",
   "id": "adbdcdd8",
   "metadata": {},
   "source": [
    "## new"
   ]
  },
  {
   "cell_type": "code",
   "execution_count": 3,
   "id": "8cb4324d",
   "metadata": {},
   "outputs": [
    {
     "name": "stdout",
     "output_type": "stream",
     "text": [
      "2 6 3 1\n",
      "2 8 4 1\n"
     ]
    }
   ],
   "source": [
    "for i in a:\n",
    "    for j in b:\n",
    "        for k in c:\n",
    "            for l in d:\n",
    "                if (i != j and i != k and i != l and j != k and j != l and k != l):\n",
    "                    if l / i == k / j:\n",
    "                        if i + j == 2 * (k + l):\n",
    "                            if j == i * k * l:\n",
    "                                print(i, j, k, l)"
   ]
  },
  {
   "cell_type": "markdown",
   "id": "334ca635",
   "metadata": {},
   "source": [
    "Terdapat dua jawaban sehingga opsi pilihan perlu memperhatikan hal ini."
   ]
  },
  {
   "cell_type": "code",
   "execution_count": 4,
   "id": "1b563ed9",
   "metadata": {},
   "outputs": [
    {
     "name": "stdout",
     "output_type": "stream",
     "text": [
      "3 6 2 1\n"
     ]
    }
   ],
   "source": [
    "# 02-jun-2022 1st\n",
    "for i in a:\n",
    "    for j in b:\n",
    "        for k in c:\n",
    "            for l in d:\n",
    "                if (i != j and i != k and i != l and j != k and j != l and k != l):\n",
    "                    if l / i == k / j:\n",
    "                        if i + j == 3 * (k + l):\n",
    "                            if j == i * k * l:\n",
    "                                print(i, j, k, l)"
   ]
  },
  {
   "cell_type": "code",
   "execution_count": 5,
   "id": "10c28a62",
   "metadata": {},
   "outputs": [
    {
     "name": "stdout",
     "output_type": "stream",
     "text": [
      "3 9 6 2\n"
     ]
    }
   ],
   "source": [
    "# 02-jun-2022 2nd\n",
    "for i in a:\n",
    "    for j in b:\n",
    "        for k in c:\n",
    "            for l in d:\n",
    "                if (i != j and i != k and i != l and j != k and j != l and k != l):\n",
    "                    if i / l == j / k:\n",
    "                        if i + k == j:\n",
    "                            if k == i * l:\n",
    "                                print(i, j, k, l)"
   ]
  },
  {
   "cell_type": "code",
   "execution_count": 6,
   "id": "afb65b16",
   "metadata": {
    "scrolled": true
   },
   "outputs": [
    {
     "name": "stdout",
     "output_type": "stream",
     "text": [
      "6 1 2 3\n",
      "6 1 3 2\n",
      "8 1 2 4\n",
      "8 1 4 2\n"
     ]
    }
   ],
   "source": [
    "# 02-jun-2022 3rd\n",
    "for i in a:\n",
    "    for j in b:\n",
    "        for k in c:\n",
    "            for l in d:\n",
    "                if (i != j and i != k and i != l and j != k and j != l and k != l):\n",
    "                    if i * j == k * l:\n",
    "                        if i / k == l / j:\n",
    "                            if i == j * k * l:\n",
    "                                print(i, j, k, l)"
   ]
  },
  {
   "cell_type": "markdown",
   "id": "db1e354a",
   "metadata": {},
   "source": [
    "Terdapat empat jawaban benar sehingga soal diminta mana yang salah."
   ]
  }
 ],
 "metadata": {
  "authors": [
   {
    "name": "Sparisoma Viridi"
   }
  ],
  "kernelspec": {
   "display_name": "Python 3 (ipykernel)",
   "language": "python",
   "name": "python3"
  },
  "language_info": {
   "codemirror_mode": {
    "name": "ipython",
    "version": 3
   },
   "file_extension": ".py",
   "mimetype": "text/x-python",
   "name": "python",
   "nbconvert_exporter": "python",
   "pygments_lexer": "ipython3",
   "version": "3.10.4"
  },
  "title": "four_digit_number"
 },
 "nbformat": 4,
 "nbformat_minor": 5
}
