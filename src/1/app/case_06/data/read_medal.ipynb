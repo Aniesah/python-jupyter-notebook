{
 "cells": [
  {
   "cell_type": "markdown",
   "id": "d4e69cf6",
   "metadata": {},
   "source": [
    "# read medals data\n",
    "read an excel file using pandas"
   ]
  },
  {
   "cell_type": "markdown",
   "id": "85b711b7",
   "metadata": {},
   "source": [
    "## import pandas"
   ]
  },
  {
   "cell_type": "code",
   "execution_count": 2,
   "id": "63415698",
   "metadata": {},
   "outputs": [],
   "source": [
    "# import pandas library\n",
    "import pandas as pd"
   ]
  },
  {
   "cell_type": "markdown",
   "id": "c837c844",
   "metadata": {},
   "source": [
    "## read all data"
   ]
  },
  {
   "cell_type": "code",
   "execution_count": 3,
   "id": "885b62ac",
   "metadata": {},
   "outputs": [
    {
     "name": "stdout",
     "output_type": "stream",
     "text": [
      "    rank                  country  gold  silver  bronze  total\n",
      "0      1                    China   132      92      65    289\n",
      "1      2                    Japan    75      56      74    205\n",
      "2      3        Republic of Korea    49      58      70    177\n",
      "3      4                Indonesia    31      24      43     98\n",
      "4      5               Uzbekistan    21      24      25     70\n",
      "5      6                  IR Iran    20      20      22     62\n",
      "6      7           Chinese Taipei    17      19      31     67\n",
      "7      8                    India    15      24      30     69\n",
      "8      9               Kazakhstan    15      17      44     76\n",
      "9     10                DPR Korea    12      12      13     37\n",
      "10    11                  Bahrain    12       7       7     26\n",
      "11    12                 Thailand    11      16      46     73\n",
      "12    13          Hong Kong China     8      18      20     46\n",
      "13    14                 Malaysia     7      13      16     36\n",
      "14    15                    Qatar     6       4       3     13\n",
      "15    16                 Mongolia     5       9      11     25\n",
      "16    17                  Vietnam     4      16      18     38\n",
      "17    18                Singapore     4       4      14     22\n",
      "18    19              Philippines     4       2      15     21\n",
      "19    20     United Arab Emirates     3       6       5     14\n",
      "20    21                   Kuwait     3       1       2      6\n",
      "21    22               Kyrgyzstan     2       6      12     20\n",
      "22    23                   Jordan     2       1       9     12\n",
      "23    24                 Cambodia     2       0       1      3\n",
      "24    25  Kingdom of Saudi Arabia     1       2       3      6\n",
      "25    26              Macau China     1       2       2      5\n",
      "26    27                     Iraq     1       2       0      3\n",
      "27    28                    Korea     1       1       2      4\n",
      "28    28                  Lebanon     1       1       2      4\n",
      "29    30               Tajikistan     0       4       3      7\n",
      "30    31                  Lao PDR     0       2       3      5\n",
      "31    32             Turkmenistan     0       1       2      3\n",
      "32    33                    Nepal     0       1       0      1\n",
      "33    33                     Oman     0       1       0      1\n",
      "34    35                 Pakistan     0       0       4      4\n",
      "35    36              Afghanistan     0       0       2      2\n",
      "36    37                  Myanmar     0       0       2      2\n",
      "37    38                    Syria     0       0       1      1\n",
      "38    39               Bangladesh     0       0       0      0\n",
      "39    39                   Bhutan     0       0       0      0\n",
      "40    39        Brunei Darussalam     0       0       0      0\n",
      "41    39               East Timor     0       0       0      0\n",
      "42    39                 Maldives     0       0       0      0\n",
      "43    39                Palestine     0       0       0      0\n",
      "44    39                Sri Lanka     0       0       0      0\n",
      "45    39                    Yemen     0       0       0      0\n"
     ]
    }
   ],
   "source": [
    "df = pd.read_excel(\"medal.xlsx\")\n",
    "print(df)"
   ]
  }
 ],
 "metadata": {
  "authors": [
   {
    "name": "Sparisoma Viridi"
   }
  ],
  "kernelspec": {
   "display_name": "Python 3 (ipykernel)",
   "language": "python",
   "name": "python3"
  },
  "language_info": {
   "codemirror_mode": {
    "name": "ipython",
    "version": 3
   },
   "file_extension": ".py",
   "mimetype": "text/x-python",
   "name": "python",
   "nbconvert_exporter": "python",
   "pygments_lexer": "ipython3",
   "version": "3.10.8"
  },
  "title": "read_medal"
 },
 "nbformat": 4,
 "nbformat_minor": 5
}
