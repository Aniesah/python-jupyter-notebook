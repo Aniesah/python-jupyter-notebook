{
 "cells": [
  {
   "cell_type": "markdown",
   "id": "d4e69cf6",
   "metadata": {},
   "source": [
    "# rayleigh_cross_section\n",
    "Plot Rayleigh scattering cross section"
   ]
  },
  {
   "cell_type": "markdown",
   "id": "85b711b7",
   "metadata": {},
   "source": [
    "## equation"
   ]
  },
  {
   "cell_type": "markdown",
   "id": "1c62946f",
   "metadata": {},
   "source": [
    "![](rayleigh-cross-section.png)"
   ]
  },
  {
   "cell_type": "markdown",
   "id": "4689fa8f",
   "metadata": {},
   "source": [
    "$$\n",
    "C_S = \\frac{8\\pi}{3} \\left( \\frac{\\varepsilon_1 - \\varepsilon_2}{\\varepsilon_1 + 2 \\varepsilon_2} \\right)^2 k^4 a^6\n",
    "$$"
   ]
  },
  {
   "cell_type": "code",
   "execution_count": null,
   "id": "5309af6d",
   "metadata": {},
   "outputs": [],
   "source": []
  }
 ],
 "metadata": {
  "authors": [
   {
    "name": "Nazla Innaya"
   },
   {
    "name": "Sparisoma Viridi"
   }
  ],
  "kernelspec": {
   "display_name": "Python 3 (ipykernel)",
   "language": "python",
   "name": "python3"
  },
  "language_info": {
   "codemirror_mode": {
    "name": "ipython",
    "version": 3
   },
   "file_extension": ".py",
   "mimetype": "text/x-python",
   "name": "python",
   "nbconvert_exporter": "python",
   "pygments_lexer": "ipython3",
   "version": "3.10.8"
  },
  "title": "read_xls_pandas_colum_to_list"
 },
 "nbformat": 4,
 "nbformat_minor": 5
}
