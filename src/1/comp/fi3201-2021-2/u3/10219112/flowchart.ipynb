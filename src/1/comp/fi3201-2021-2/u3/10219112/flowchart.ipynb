{
 "cells": [
  {
   "cell_type": "markdown",
   "id": "cca11c7c",
   "metadata": {},
   "source": [
    "# flowchart\n",
    "Draw flowchart using [Mermaid](https://mermaid-js.github.io/mermaid/#/flowchart) in a Markdown file at [Github](https://github.com)"
   ]
  },
  {
   "cell_type": "markdown",
   "id": "3ce339e4",
   "metadata": {},
   "source": [
    "## concept\n",
    "Berikut adalah suatu konsep yang digunakan dalam FI3201 Fisika Komputasi"
   ]
  },
  {
   "cell_type": "markdown",
   "id": "8e6aeee0",
   "metadata": {},
   "source": [
    "### Bubble Sort\n",
    "\n",
    "Bubble sort adalah sebuah algoritma penyortiran dimana penyortiran dilakukan dengan membandingkan pasangan *item* yang saling bersebelahan pada sebuah daftar secara bergiliran, kemudian menukar tempatnya jika diperlukan dan proses pembandingan dan penukaran dilakukan pada daftar secara keseluruhan hingga proses tersebut tidak dilakukan dan diperoleh daftar yang sudah tersortir."
   ]
  },
  {
   "cell_type": "markdown",
   "id": "62af0bb7",
   "metadata": {},
   "source": [
    "## algorithm\n",
    "Langkah-langkah untuk memperoleh hasil akhir dengan menggunakan konsep yang dimaksud adalah"
   ]
  },
  {
   "cell_type": "markdown",
   "id": "9020f49d",
   "metadata": {},
   "source": [
    "Algoritma dari *bubble sort* untuk menyortir dari nilai rendah ke tinggi adalah sebagai berikut\n",
    "\n",
    "    Mulai\n",
    "\n",
    "    Masukkan list nilai\n",
    "\n",
    "    Ambil panjang list sebagai n\n",
    "\n",
    "    Iterasi utama i, i dimulai dari 0\n",
    "    Iterasi sekunder j, j dimulai dari 0\n",
    "\n",
    "    Iterasi utama i mengandung\n",
    "\n",
    "        pada iterasi sekunder j\n",
    "\n",
    "        Bandingkan nilai 'a' dan 'a + 1' pada list\n",
    "\n",
    "        Jika 'a' > 'a + 1', tukar 'a' dan 'a + 1'. Jika tidak, tidak dilakukan apa-apa\n",
    "\n",
    "        Majukan iterasi j sebanyak 1, ulangi proses pembandingan hingga iterasi ke j = n\n",
    "\n",
    "        j dikembalikan menjadi 0, i dimajukan sebanyak 1\n",
    "\n",
    "    proses dilakukan hingga iterasi utama i mencapai nilai n-1\n",
    "\n",
    "    Selesai"
   ]
  },
  {
   "cell_type": "markdown",
   "id": "ab8b9783",
   "metadata": {},
   "source": [
    "## flowchart\n",
    "Langkah-langkah dari algoritma yang disampaikan sebelumnya dapat disajikan dalam bentuk diagram alir berikut"
   ]
  },
  {
   "cell_type": "markdown",
   "id": "e517f12a",
   "metadata": {},
   "source": [
    "Kode diagram alirnya dalam Mermaid adalah sebagai berikut\n",
    "\n",
    "```mermaid\n",
    "flowchart TD\n",
    "    A([ Mulai ]);\n",
    "    B([ Selesai ]);\n",
    "    C[/ List /];\n",
    "    D([Panjang List = n]);\n",
    "    E{i};\n",
    "    F[j];\n",
    "    G{ List_j, List_j + 1};\n",
    "    G1(List_j + 1, List_j);\n",
    "    G2(List_j, List_j + 1);\n",
    "    J(j + 1);\n",
    "    K(j < n);\n",
    "    L(j = n);\n",
    "\n",
    "    \n",
    "    \n",
    "    A --> C;\n",
    "    C --> D;\n",
    "    D -->|i = 0| E;\n",
    "    E -->|i = n - 1| B;\n",
    "    E --> F;\n",
    "    F -->|j = 0|G;\n",
    "    G -->|List_j > List_j + 1| G1;\n",
    "    G -->|List_j < List_j + 1| G2;\n",
    "    G1 --> J;\n",
    "    G2 --> J;\n",
    "    J --> K;\n",
    "    J --> L;\n",
    "    K --> G;\n",
    "    L -->| i + 1|E;\n",
    "```\n",
    "\n",
    "yang hasilnya dapat dilihat dalam berkas [flowchart.md](flowchart.md)."
   ]
  },
  {
   "cell_type": "code",
   "execution_count": 1,
   "id": "0d4c91e9-b49b-49ab-8fb1-b16a1ce3d76f",
   "metadata": {},
   "outputs": [],
   "source": [
    "%load_ext nb_js_diagrammers"
   ]
  },
  {
   "cell_type": "code",
   "execution_count": 3,
   "id": "8e9df9d9-985c-4bb1-8264-c0ca14968e7e",
   "metadata": {},
   "outputs": [
    {
     "data": {
      "text/html": [
       "<iframe srcdoc=\"&lt;html&gt;\n",
       "    &lt;body&gt;\n",
       "        &lt;script src=&quot;https://cdn.jsdelivr.net/npm/mermaid/dist/mermaid.min.js&quot;&gt;&lt;/script&gt;\n",
       "        &lt;script&gt;\n",
       "            mermaid.initialize({ startOnLoad: true });\n",
       "        &lt;/script&gt;\n",
       " \n",
       "        &lt;div class=&quot;mermaid&quot;&gt;\n",
       "            \n",
       "flowchart TD\n",
       "    A([ Mulai ]);\n",
       "    B([ Selesai ]);\n",
       "    C[/ List /];\n",
       "    D([Panjang List = n]);\n",
       "    E{i};\n",
       "    F[j];\n",
       "    G{ List_j, List_j + 1};\n",
       "    G1(List_j + 1, List_j);\n",
       "    G2(List_j, List_j + 1);\n",
       "    J(j + 1);\n",
       "    K(j &lt; n);\n",
       "    L(j = n);\n",
       "\n",
       "    \n",
       "    \n",
       "    A --&gt; C;\n",
       "    C --&gt; D;\n",
       "    D --&gt;|i = 0| E;\n",
       "    E --&gt;|i = n - 1| B;\n",
       "    E --&gt; F;\n",
       "    F --&gt;|j = 0|G;\n",
       "    G --&gt;|List_j &gt; List_j + 1| G1;\n",
       "    G --&gt;|List_j &lt; List_j + 1| G2;\n",
       "    G1 --&gt; J;\n",
       "    G2 --&gt; J;\n",
       "    J --&gt; K;\n",
       "    J --&gt; L;\n",
       "    K --&gt; G;\n",
       "    L --&gt;| i + 1|E;\n",
       "\n",
       "        &lt;/div&gt;\n",
       " \n",
       "    &lt;/body&gt;\n",
       "&lt;/html&gt;\n",
       "\" width=\"100%\" height=\"300\"style=\"border:none !important;\" \"allowfullscreen\" \"webkitallowfullscreen\" \"mozallowfullscreen\"></iframe>"
      ],
      "text/plain": [
       "<nb_js_diagrammers.magics.JSDiagram at 0x24cf6f49fc0>"
      ]
     },
     "execution_count": 3,
     "metadata": {},
     "output_type": "execute_result"
    }
   ],
   "source": [
    "%%mermaid_magic \n",
    "\n",
    "flowchart TD\n",
    "    A([ Mulai ]);\n",
    "    B([ Selesai ]);\n",
    "    C[/ List /];\n",
    "    D([Panjang List = n]);\n",
    "    E{i};\n",
    "    F[j];\n",
    "    G{ List_j, List_j + 1};\n",
    "    G1(List_j + 1, List_j);\n",
    "    G2(List_j, List_j + 1);\n",
    "    J(j + 1);\n",
    "    K(j < n);\n",
    "    L(j = n);\n",
    "\n",
    "    \n",
    "    \n",
    "    A --> C;\n",
    "    C --> D;\n",
    "    D -->|i = 0| E;\n",
    "    E -->|i = n - 1| B;\n",
    "    E --> F;\n",
    "    F -->|j = 0|G;\n",
    "    G -->|List_j > List_j + 1| G1;\n",
    "    G -->|List_j < List_j + 1| G2;\n",
    "    G1 --> J;\n",
    "    G2 --> J;\n",
    "    J --> K;\n",
    "    J --> L;\n",
    "    K --> G;\n",
    "    L -->| i + 1|E;"
   ]
  },
  {
   "cell_type": "markdown",
   "id": "b374f300",
   "metadata": {},
   "source": [
    "## references"
   ]
  },
  {
   "cell_type": "markdown",
   "id": "1efffd3a",
   "metadata": {},
   "source": [
    "```\n",
    "1. Paul E. Black, \"bubble sort\", in Dictionary of Algorithms and Data Structures [online], Paul E. Black, ed. 21 April 2022. Available from: https://www.nist.gov/dads/HTML/bubblesort.html [07062022]\n",
    "2. https://mermaid-js.github.io/mermaid/#/flowchart\n",
    "\n",
    "```"
   ]
  }
 ],
 "metadata": {
  "authors": [
   {
    "name": "Sparisoma Viridi"
   }
  ],
  "kernelspec": {
   "display_name": "Python 3 (ipykernel)",
   "language": "python",
   "name": "python3"
  },
  "language_info": {
   "codemirror_mode": {
    "name": "ipython",
    "version": 3
   },
   "file_extension": ".py",
   "mimetype": "text/x-python",
   "name": "python",
   "nbconvert_exporter": "python",
   "pygments_lexer": "ipython3",
   "version": "3.10.4"
  },
  "title": "flowchart"
 },
 "nbformat": 4,
 "nbformat_minor": 5
}
