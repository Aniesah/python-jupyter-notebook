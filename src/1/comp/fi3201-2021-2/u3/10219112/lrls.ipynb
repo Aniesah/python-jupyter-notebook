{
 "cells": [
  {
   "cell_type": "markdown",
   "id": "cca11c7c",
   "metadata": {},
   "source": [
    "# lrls\n",
    "Linear regression with least square using Python with Jupyter Notebook"
   ]
  },
  {
   "cell_type": "markdown",
   "id": "3ce339e4",
   "metadata": {},
   "source": [
    "## concept\n",
    "Berikut adalah suatu konsep regresi linier dengan least square"
   ]
  },
  {
   "cell_type": "markdown",
   "id": "8e6aeee0",
   "metadata": {},
   "source": [
    "Regresi linear dari data x dan y yang independen pada dasarnya adalah estimasi fungsi dari sebuah data yang mendeskripsikan data sebaik mungkin. \n",
    "\n",
    "Misalkan diberikan data sebagai berikut\n",
    "\n",
    "|  x  |  y  |\n",
    "|:----|:----|\n",
    "|  2  |  4  |\n",
    "|  3  |  7  |\n",
    "|  5  |  13 |\n",
    "|  8  |  9  |\n",
    "| 10  |  11 |\n",
    "\n",
    "Maka regresi linear akan memberikan fungsi yang cukup mendekati dengan nilai parameter yang diberikan.\n",
    "\n",
    "Formula dari persamaan regresi linear least square adalah.\n",
    "untuk suatu fungsi hasil regresi \n",
    "\n",
    "\\begin{equation}\\tag{1}\n",
    "y = mx + c\n",
    "\\end{equation}\n",
    "\n",
    "nilai m pada persamaan 1 dapat diperoleh dari persamaan kemiringan kurva\n",
    "\n",
    "\\begin{equation}\\tag{2}\n",
    "m = \\frac {n \\Sigma (xy) - (\\Sigma x)(\\Sigma y)} {n(\\Sigma x^2) - (\\Sigma x)^2}\n",
    "\\end{equation}\n",
    "\n",
    "dan  nilai c \n",
    "\\begin{equation}\\tag{3}\n",
    "c = \\frac {\\Sigma (y) \\Sigma (x^2) - \\Sigma (x)\\Sigma (xy)} {n(\\Sigma x^2) - (\\Sigma x)^2}\n",
    "\\end{equation}"
   ]
  },
  {
   "cell_type": "markdown",
   "id": "ab8b9783",
   "metadata": {},
   "source": [
    "## code\n",
    "Penerapan konsep sebelumnya dalam suatu contoh dan hasilnya adalah sebagai berikut ini."
   ]
  },
  {
   "cell_type": "markdown",
   "id": "815fb06c",
   "metadata": {},
   "source": [
    "Menggunakan data yang diberikan diatas serta kode dibawah ini.\n",
    "```python\n",
    "import matplotlib.pyplot as plt\n",
    "import numpy as np\n",
    "\n",
    "x = np.array([ 2,3,5,8,10 ])\n",
    "y = np.array([ 4,7,13,9,11 ])\n",
    "n = len(x)\n",
    "\n",
    "xy =[]\n",
    "for i, val in enumerate(x):\n",
    "    xy.append(x[i] * y[i])\n",
    "\n",
    "x_sqrt = [i**2 for i in x]\n",
    "\n",
    "m = (n*sum(xy) - sum(x)*sum(y)) / (n*sum(x_sqrt) - sum(x)**2)\n",
    "c = (sum(y)*sum(x_sqrt) - sum(x)*sum(xy)) / (n*sum(x_sqrt) - sum(x)**2)\n",
    "\n",
    "xi = np.linspace(0.0,10.0, num=5)\n",
    "yi = m * x + c\n",
    "\n",
    "print('m = ', m)\n",
    "print('c = ', c)\n",
    "ax = plt.gca()\n",
    "ax.set_xlabel('x')\n",
    "ax.set_ylabel('y')\n",
    "plt.scatter(x,y)\n",
    "plt.plot(x,yi)\n",
    "\n",
    "```"
   ]
  },
  {
   "cell_type": "code",
   "execution_count": 3,
   "id": "df05387c-f914-4702-897d-e836aacb115a",
   "metadata": {},
   "outputs": [
    {
     "name": "stdout",
     "output_type": "stream",
     "text": [
      "m =  0.6548672566371682\n",
      "c =  5.132743362831858\n"
     ]
    },
    {
     "data": {
      "text/plain": [
       "[<matplotlib.lines.Line2D at 0x1e19ee062f0>]"
      ]
     },
     "execution_count": 3,
     "metadata": {},
     "output_type": "execute_result"
    },
    {
     "data": {
      "image/png": "[encoded data removed]",
      "text/plain": [
       "<Figure size 432x288 with 1 Axes>"
      ]
     },
     "metadata": {
      "needs_background": "light"
     },
     "output_type": "display_data"
    }
   ],
   "source": [
    "import matplotlib.pyplot as plt\n",
    "import numpy as np\n",
    "\n",
    "x = np.array([ 2,3,5,8,10 ])\n",
    "y = np.array([ 4,7,13,9,11 ])\n",
    "n = len(x)\n",
    "\n",
    "#intialize xy\n",
    "xy =[]\n",
    "for i, val in enumerate(x):\n",
    "    xy.append(x[i] * y[i])\n",
    "\n",
    "#initialize x**2\n",
    "x_sqrt = [i**2 for i in x]\n",
    "\n",
    "m = (n*sum(xy) - sum(x)*sum(y)) / (n*sum(x_sqrt) - sum(x)**2)\n",
    "c = (sum(y)*sum(x_sqrt) - sum(x)*sum(xy)) / (n*sum(x_sqrt) - sum(x)**2)\n",
    "\n",
    "xi = np.linspace(0.0,10.0, num=5)\n",
    "yi = m * x + c\n",
    "\n",
    "print('m = ', m)\n",
    "print('c = ', c)\n",
    "ax = plt.gca()\n",
    "ax.set_xlabel('x')\n",
    "ax.set_ylabel('y')\n",
    "plt.scatter(x,y)\n",
    "plt.plot(x,yi)"
   ]
  },
  {
   "cell_type": "markdown",
   "id": "10f57139-1d8d-4537-bb1f-df9352def915",
   "metadata": {},
   "source": [
    "Maka diperoleh hasil grafik seperti di atas dan persamaan regresi linear least squarenya adalah\n",
    "\\begin{equation}\\\n",
    "y = 0.655x + 5.132\n",
    "\\end{equation}"
   ]
  },
  {
   "cell_type": "markdown",
   "id": "b374f300",
   "metadata": {},
   "source": [
    "## references"
   ]
  },
  {
   "cell_type": "markdown",
   "id": "1efffd3a",
   "metadata": {},
   "source": [
    "```\n",
    "1. Qingkai Kong, Timmy Siauw, Alexandre Bayen, \"Python Programming and Numerical Methods\", Academic Press, 2020, url https://pythonnumericalmethods.berkeley.edu/notebooks/chapter16.06-Summary-and-Problems.html [07062022]\n",
    "2. Jay, \"Least Squares Linear Regression With Python Example\", url https://pythoninoffice.com/least-squares-linear-regression-with-python-example/ [07062022]\n",
    "3. Zulaikha Lateef, \"A 101 Guide On The Least Squares Regression Method\", 25 November 2020 ,url https://www.edureka.co/blog/least-square-regression/ [07062022]\n",
    "\n",
    "```"
   ]
  }
 ],
 "metadata": {
  "authors": [
   {
    "name": "Sparisoma Viridi"
   }
  ],
  "kernelspec": {
   "display_name": "Python 3 (ipykernel)",
   "language": "python",
   "name": "python3"
  },
  "language_info": {
   "codemirror_mode": {
    "name": "ipython",
    "version": 3
   },
   "file_extension": ".py",
   "mimetype": "text/x-python",
   "name": "python",
   "nbconvert_exporter": "python",
   "pygments_lexer": "ipython3",
   "version": "3.10.4"
  },
  "title": "lrls"
 },
 "nbformat": 4,
 "nbformat_minor": 5
}
