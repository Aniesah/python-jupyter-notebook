{
 "cells": [
  {
   "cell_type": "markdown",
   "id": "cca11c7c",
   "metadata": {},
   "source": [
    "# asciiart\n",
    "Display an [ASCII art](https://www.asciiart.eu/) with some rules using Python in Jupyter Notebook"
   ]
  },
  {
   "cell_type": "markdown",
   "id": "3ce339e4",
   "metadata": {},
   "source": [
    "## concept\n",
    "Berikut adalah suatu konsep yang digunakan untuk membuat ASCII art dan hasil yang diharapkannya dengan tiga `for` dan dua `if`"
   ]
  },
  {
   "cell_type": "markdown",
   "id": "8e6aeee0",
   "metadata": {},
   "source": [
    "Konsep ASCII art yang ingin dibuat adalah sebagai berikut\n",
    "\n",
    "\\ | / \\ | / \\ | / \\ | / \\ | / \\ | / \\ | / \\ | / \\ | / \\ | / <br>\n",
    "/ | \\ / | \\ / | \\ / | \\ / | \\ / | \\ / | \\ / | \\ / | \\ / | \\ <br>\n",
    "\\ | / \\ | / \\ | / \\ | / \\ | / \\ | / \\ | / \\ | / \\ | / \\ | / <br>\n",
    "/ | \\ / | \\ / | \\ / | \\ / | \\ / | \\ / | \\ / | \\ / | \\ / | \\ <br>\n",
    "\\ | / \\ | / \\ | / \\ | / \\ | / \\ | / \\ | / \\ | / \\ | / \\ | / <br>\n",
    "/ | \\ / | \\ / | \\ / | \\ / | \\ / | \\ / | \\ / | \\ / | \\ / | \\ <br>\n",
    "\\ | / \\ | / \\ | / \\ | / \\ | / \\ | / \\ | / \\ | / \\ | / \\ | / <br>\n",
    "/ | \\ / | \\ / | \\ / | \\ / | \\ / | \\ / | \\ / | \\ / | \\ / | \\ <br>\n",
    "\\ | / \\ | / \\ | / \\ | / \\ | / \\ | / \\ | / \\ | / \\ | / \\ | / <br>\n",
    "/ | \\ / | \\ / | \\ / | \\ / | \\ / | \\ / | \\ / | \\ / | \\ / | \\ <br>"
   ]
  },
  {
   "cell_type": "markdown",
   "id": "ab8b9783",
   "metadata": {},
   "source": [
    "## code\n",
    "Kode penerapan konsep ASCII art sebelumnya adalah"
   ]
  },
  {
   "cell_type": "code",
   "execution_count": 1,
   "id": "c652df4b-6be0-46b7-9359-f5786fb04cae",
   "metadata": {},
   "outputs": [
    {
     "name": "stdout",
     "output_type": "stream",
     "text": [
      "\\ | / \\ | / \\ | / \\ | / \\ | / \\ | / \\ | / \\ | / \\ | / \\ | / \n",
      "/ | \\ / | \\ / | \\ / | \\ / | \\ / | \\ / | \\ / | \\ / | \\ / | \\ \n",
      "\\ | / \\ | / \\ | / \\ | / \\ | / \\ | / \\ | / \\ | / \\ | / \\ | / \n",
      "/ | \\ / | \\ / | \\ / | \\ / | \\ / | \\ / | \\ / | \\ / | \\ / | \\ \n",
      "\\ | / \\ | / \\ | / \\ | / \\ | / \\ | / \\ | / \\ | / \\ | / \\ | / \n",
      "/ | \\ / | \\ / | \\ / | \\ / | \\ / | \\ / | \\ / | \\ / | \\ / | \\ \n",
      "\\ | / \\ | / \\ | / \\ | / \\ | / \\ | / \\ | / \\ | / \\ | / \\ | / \n",
      "/ | \\ / | \\ / | \\ / | \\ / | \\ / | \\ / | \\ / | \\ / | \\ / | \\ \n",
      "\\ | / \\ | / \\ | / \\ | / \\ | / \\ | / \\ | / \\ | / \\ | / \\ | / \n",
      "/ | \\ / | \\ / | \\ / | \\ / | \\ / | \\ / | \\ / | \\ / | \\ / | \\ \n"
     ]
    }
   ],
   "source": [
    "for a in range (10):\n",
    "    if a % 2 != 0:\n",
    "        for b in range (10):\n",
    "            print('/ | \\ ', end ='')\n",
    "    if a % 2 == 0:\n",
    "        for b in range (10):\n",
    "            print('\\ | / ',end ='')\n",
    "    \n",
    "    print()"
   ]
  },
  {
   "cell_type": "markdown",
   "id": "b374f300",
   "metadata": {},
   "source": [
    "## references"
   ]
  }
 ],
 "metadata": {
  "authors": [
   {
    "name": "Sparisoma Viridi"
   }
  ],
  "kernelspec": {
   "display_name": "Python 3 (ipykernel)",
   "language": "python",
   "name": "python3"
  },
  "language_info": {
   "codemirror_mode": {
    "name": "ipython",
    "version": 3
   },
   "file_extension": ".py",
   "mimetype": "text/x-python",
   "name": "python",
   "nbconvert_exporter": "python",
   "pygments_lexer": "ipython3",
   "version": "3.10.4"
  },
  "title": "asciiart"
 },
 "nbformat": 4,
 "nbformat_minor": 5
}
